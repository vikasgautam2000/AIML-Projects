{
 "cells": [
  {
   "cell_type": "markdown",
   "id": "179329ca",
   "metadata": {
    "id": "179329ca"
   },
   "source": [
    "# Part A\n",
    "### DOMAIN: Telecom\n",
    "### CONTEXT: \n",
    "A telecom company wants to use their historical customer data to predict behaviour to retain customers. You can analyse all relevant customer data and develop focused customer retention programs.\n",
    "### DATA DESCRIPTION: \n",
    "Each row represents a customer, each column contains customer’s attributes described on the column Metadata. The data set includes information about:\n",
    "* Customers who left within the last month – the column is called Churn\n",
    "* Services that each customer has signed up for – phone, multiple lines, internet, online security, online backup, device protection, tech support, and\n",
    "streaming TV and movies\n",
    "* Customer account information – how long they’ve been a customer, contract, payment method, paperless billing, monthly charges, and total charges\n",
    "* Demographic info about customers – gender, age range, and if they have partners and dependents\n",
    "\n",
    "### PROJECT OBJECTIVE: \n",
    "To Build a model that will help to identify the potential customers who have a higher probability to churn. This helps the company to understand the pinpoints and patterns of customer churn and will increase the focus on strategizing customer retention.\n",
    "\n",
    "# STEPS AND TASK\n",
    "\n",
    "# 1. Data Understanding & Exploration:\n",
    "\n",
    "## A. Read ‘TelcomCustomer-Churn_1.csv’ as a DataFrame and assign it to a variable.\n"
   ]
  },
  {
   "cell_type": "code",
   "execution_count": 253,
   "id": "c69ede71",
   "metadata": {
    "colab": {
     "base_uri": "https://localhost:8080/"
    },
    "id": "c69ede71",
    "outputId": "eac28c03-04b7-4a5e-f14f-8b922ca4f7a3"
   },
   "outputs": [
    {
     "name": "stdout",
     "output_type": "stream",
     "text": [
      "Libraries imported successfully!\n"
     ]
    }
   ],
   "source": [
    "# Import Libraries for Data Pre-processing\n",
    "import numpy as np\n",
    "import pandas as pd\n",
    "import seaborn as sns\n",
    "import matplotlib.pyplot as plt\n",
    "%matplotlib inline\n",
    "from sklearn.preprocessing import OneHotEncoder\n",
    "from sklearn.model_selection import train_test_split\n",
    "from scipy.stats import zscore\n",
    "from sklearn.preprocessing import StandardScaler\n",
    "import xgboost as xgb\n",
    "from sklearn import metrics\n",
    "from sklearn.metrics import accuracy_score\n",
    "from sklearn.metrics import f1_score\n",
    "from sklearn.metrics import recall_score\n",
    "from sklearn.metrics import precision_score\n",
    "from sklearn.metrics import confusion_matrix\n",
    "from sklearn.linear_model import LogisticRegression\n",
    "from sklearn.naive_bayes import GaussianNB\n",
    "from sklearn.neighbors import KNeighborsClassifier\n",
    "from sklearn.svm import SVC\n",
    "from sklearn.tree import DecisionTreeClassifier\n",
    "from sklearn.linear_model import LogisticRegression\n",
    "import pickle\n",
    "import warnings\n",
    "print(\"Libraries imported successfully!\")"
   ]
  },
  {
   "cell_type": "code",
   "execution_count": 254,
   "id": "41acfadd",
   "metadata": {
    "colab": {
     "base_uri": "https://localhost:8080/"
    },
    "id": "41acfadd",
    "outputId": "1ad54286-2e2f-4ba4-aea1-62a51951f58d"
   },
   "outputs": [
    {
     "data": {
      "text/plain": [
       "customerID         0\n",
       "gender             0\n",
       "SeniorCitizen      0\n",
       "Partner            0\n",
       "Dependents         0\n",
       "tenure             0\n",
       "PhoneService       0\n",
       "MultipleLines      0\n",
       "InternetService    0\n",
       "OnlineSecurity     0\n",
       "dtype: int64"
      ]
     },
     "execution_count": 254,
     "metadata": {},
     "output_type": "execute_result"
    }
   ],
   "source": [
    "# Import CSV file\n",
    "df1 = pd.read_csv(r\"TelcomCustomer-Churn_1.csv\")\n",
    "# Show imported dataframe head\n",
    "df1.isnull().sum()"
   ]
  },
  {
   "cell_type": "markdown",
   "id": "3b5fe0f3",
   "metadata": {
    "id": "3b5fe0f3"
   },
   "source": [
    "## B. Read ‘TelcomCustomer-Churn_2.csv’ as a DataFrame and assign it to a variable."
   ]
  },
  {
   "cell_type": "code",
   "execution_count": 255,
   "id": "a80f7ca9",
   "metadata": {
    "colab": {
     "base_uri": "https://localhost:8080/"
    },
    "id": "a80f7ca9",
    "outputId": "d5b30bc4-d0f1-4f8b-c299-cb085c3b5e4a"
   },
   "outputs": [
    {
     "data": {
      "text/plain": [
       "customerID          0\n",
       "OnlineBackup        0\n",
       "DeviceProtection    0\n",
       "TechSupport         0\n",
       "StreamingTV         0\n",
       "StreamingMovies     0\n",
       "Contract            0\n",
       "PaperlessBilling    0\n",
       "PaymentMethod       0\n",
       "MonthlyCharges      0\n",
       "TotalCharges        0\n",
       "Churn               0\n",
       "dtype: int64"
      ]
     },
     "execution_count": 255,
     "metadata": {},
     "output_type": "execute_result"
    }
   ],
   "source": [
    "# Import CSV file\n",
    "df2 = pd.read_csv(r\"TelcomCustomer-Churn_2.csv\")\n",
    "# Show imported dataframe head\n",
    "df2.isnull().sum()"
   ]
  },
  {
   "cell_type": "markdown",
   "id": "8069212a",
   "metadata": {
    "id": "8069212a"
   },
   "source": [
    "## C. Merge both the DataFrames on key ‘customerID’ to form a single DataFrame "
   ]
  },
  {
   "cell_type": "code",
   "execution_count": 256,
   "id": "2941b8c8",
   "metadata": {
    "colab": {
     "base_uri": "https://localhost:8080/"
    },
    "id": "2941b8c8",
    "outputId": "8059b3cc-2751-40a6-b50b-a06a4faf475e"
   },
   "outputs": [
    {
     "data": {
      "text/plain": [
       "customerID          0\n",
       "gender              0\n",
       "SeniorCitizen       0\n",
       "Partner             0\n",
       "Dependents          0\n",
       "tenure              0\n",
       "PhoneService        0\n",
       "MultipleLines       0\n",
       "InternetService     0\n",
       "OnlineSecurity      0\n",
       "OnlineBackup        0\n",
       "DeviceProtection    0\n",
       "TechSupport         0\n",
       "StreamingTV         0\n",
       "StreamingMovies     0\n",
       "Contract            0\n",
       "PaperlessBilling    0\n",
       "PaymentMethod       0\n",
       "MonthlyCharges      0\n",
       "TotalCharges        0\n",
       "Churn               0\n",
       "dtype: int64"
      ]
     },
     "execution_count": 256,
     "metadata": {},
     "output_type": "execute_result"
    }
   ],
   "source": [
    "# Merge df1 and df2 to single dataframe named customer_data\n",
    "customer_data = pd.merge(df1,df2,on='customerID')\n",
    "# Show merged dataframe\n",
    "customer_data.isnull().sum()"
   ]
  },
  {
   "cell_type": "markdown",
   "id": "18b10ec0",
   "metadata": {
    "id": "18b10ec0"
   },
   "source": [
    "## D. Verify if all the columns are incorporated in the merged DataFrame by using simple comparison Operator in Python."
   ]
  },
  {
   "cell_type": "code",
   "execution_count": 257,
   "id": "d21b9742",
   "metadata": {
    "colab": {
     "base_uri": "https://localhost:8080/"
    },
    "id": "d21b9742",
    "outputId": "d2dc90cd-a147-4f26-85f3-d0d46c5f9321"
   },
   "outputs": [
    {
     "data": {
      "text/plain": [
       "['customerID',\n",
       " 'gender',\n",
       " 'SeniorCitizen',\n",
       " 'Partner',\n",
       " 'Dependents',\n",
       " 'tenure',\n",
       " 'PhoneService',\n",
       " 'MultipleLines',\n",
       " 'InternetService',\n",
       " 'OnlineSecurity']"
      ]
     },
     "execution_count": 257,
     "metadata": {},
     "output_type": "execute_result"
    }
   ],
   "source": [
    "# Column names in df1\n",
    "df1_columns = list(df1.columns)\n",
    "df1_columns"
   ]
  },
  {
   "cell_type": "code",
   "execution_count": 258,
   "id": "c303ec5a",
   "metadata": {
    "colab": {
     "base_uri": "https://localhost:8080/"
    },
    "id": "c303ec5a",
    "outputId": "7535c648-f57a-465b-8e3d-8951dbb15b21"
   },
   "outputs": [
    {
     "data": {
      "text/plain": [
       "['OnlineBackup',\n",
       " 'DeviceProtection',\n",
       " 'TechSupport',\n",
       " 'StreamingTV',\n",
       " 'StreamingMovies',\n",
       " 'Contract',\n",
       " 'PaperlessBilling',\n",
       " 'PaymentMethod',\n",
       " 'MonthlyCharges',\n",
       " 'TotalCharges',\n",
       " 'Churn']"
      ]
     },
     "execution_count": 258,
     "metadata": {},
     "output_type": "execute_result"
    }
   ],
   "source": [
    "# Column names in df2\n",
    "df2_columns = list(df2.columns)\n",
    "# Remove 'customerID' from the list as it is repeated\n",
    "del df2_columns[0]\n",
    "df2_columns"
   ]
  },
  {
   "cell_type": "code",
   "execution_count": 259,
   "id": "df8256bf",
   "metadata": {
    "colab": {
     "base_uri": "https://localhost:8080/"
    },
    "id": "df8256bf",
    "outputId": "1b0c14c3-9b7d-49b3-d358-408c26875996"
   },
   "outputs": [
    {
     "data": {
      "text/plain": [
       "['customerID',\n",
       " 'gender',\n",
       " 'SeniorCitizen',\n",
       " 'Partner',\n",
       " 'Dependents',\n",
       " 'tenure',\n",
       " 'PhoneService',\n",
       " 'MultipleLines',\n",
       " 'InternetService',\n",
       " 'OnlineSecurity',\n",
       " 'OnlineBackup',\n",
       " 'DeviceProtection',\n",
       " 'TechSupport',\n",
       " 'StreamingTV',\n",
       " 'StreamingMovies',\n",
       " 'Contract',\n",
       " 'PaperlessBilling',\n",
       " 'PaymentMethod',\n",
       " 'MonthlyCharges',\n",
       " 'TotalCharges',\n",
       " 'Churn']"
      ]
     },
     "execution_count": 259,
     "metadata": {},
     "output_type": "execute_result"
    }
   ],
   "source": [
    "# Combine columns from both dataframes\n",
    "all_columns = df1_columns + df2_columns\n",
    "all_columns"
   ]
  },
  {
   "cell_type": "code",
   "execution_count": 260,
   "id": "497a1130",
   "metadata": {
    "colab": {
     "base_uri": "https://localhost:8080/"
    },
    "id": "497a1130",
    "outputId": "74dff234-3dfa-43fc-ba9e-8b25dcd1ea9b"
   },
   "outputs": [
    {
     "data": {
      "text/plain": [
       "['customerID',\n",
       " 'gender',\n",
       " 'SeniorCitizen',\n",
       " 'Partner',\n",
       " 'Dependents',\n",
       " 'tenure',\n",
       " 'PhoneService',\n",
       " 'MultipleLines',\n",
       " 'InternetService',\n",
       " 'OnlineSecurity',\n",
       " 'OnlineBackup',\n",
       " 'DeviceProtection',\n",
       " 'TechSupport',\n",
       " 'StreamingTV',\n",
       " 'StreamingMovies',\n",
       " 'Contract',\n",
       " 'PaperlessBilling',\n",
       " 'PaymentMethod',\n",
       " 'MonthlyCharges',\n",
       " 'TotalCharges',\n",
       " 'Churn']"
      ]
     },
     "execution_count": 260,
     "metadata": {},
     "output_type": "execute_result"
    }
   ],
   "source": [
    "# Column names in customer_data\n",
    "customer_data_columns = list(customer_data.columns)\n",
    "customer_data_columns"
   ]
  },
  {
   "cell_type": "code",
   "execution_count": 261,
   "id": "f1b46087",
   "metadata": {
    "colab": {
     "base_uri": "https://localhost:8080/"
    },
    "id": "f1b46087",
    "outputId": "19258530-38b2-4e06-c48f-9e05097b245b"
   },
   "outputs": [
    {
     "name": "stdout",
     "output_type": "stream",
     "text": [
      "All Columns Incorporated!\n"
     ]
    }
   ],
   "source": [
    "# Verify if all the columns are incorporated in the merged DataFrame by using simple comparison Operator in Python.\n",
    "if customer_data_columns == all_columns:\n",
    "    print(\"All Columns Incorporated!\")\n",
    "else:\n",
    "    print(\"Some columns are missing.\")"
   ]
  },
  {
   "cell_type": "markdown",
   "id": "c45737de",
   "metadata": {
    "id": "c45737de"
   },
   "source": [
    "# 2. Data Cleaning & Analysis:\n",
    "## A. Impute missing/unexpected values in the DataFrame."
   ]
  },
  {
   "cell_type": "code",
   "execution_count": 262,
   "id": "1e8157ec",
   "metadata": {
    "colab": {
     "base_uri": "https://localhost:8080/"
    },
    "id": "1e8157ec",
    "outputId": "ba78e56e-bfc5-4341-a2cb-37f5aec67d8e"
   },
   "outputs": [
    {
     "name": "stdout",
     "output_type": "stream",
     "text": [
      "<class 'pandas.core.frame.DataFrame'>\n",
      "Int64Index: 7043 entries, 0 to 7042\n",
      "Data columns (total 21 columns):\n",
      " #   Column            Non-Null Count  Dtype  \n",
      "---  ------            --------------  -----  \n",
      " 0   customerID        7043 non-null   object \n",
      " 1   gender            7043 non-null   object \n",
      " 2   SeniorCitizen     7043 non-null   int64  \n",
      " 3   Partner           7043 non-null   object \n",
      " 4   Dependents        7043 non-null   object \n",
      " 5   tenure            7043 non-null   int64  \n",
      " 6   PhoneService      7043 non-null   object \n",
      " 7   MultipleLines     7043 non-null   object \n",
      " 8   InternetService   7043 non-null   object \n",
      " 9   OnlineSecurity    7043 non-null   object \n",
      " 10  OnlineBackup      7043 non-null   object \n",
      " 11  DeviceProtection  7043 non-null   object \n",
      " 12  TechSupport       7043 non-null   object \n",
      " 13  StreamingTV       7043 non-null   object \n",
      " 14  StreamingMovies   7043 non-null   object \n",
      " 15  Contract          7043 non-null   object \n",
      " 16  PaperlessBilling  7043 non-null   object \n",
      " 17  PaymentMethod     7043 non-null   object \n",
      " 18  MonthlyCharges    7043 non-null   float64\n",
      " 19  TotalCharges      7043 non-null   object \n",
      " 20  Churn             7043 non-null   object \n",
      "dtypes: float64(1), int64(2), object(18)\n",
      "memory usage: 1.2+ MB\n"
     ]
    }
   ],
   "source": [
    "# Check datatype of all columns\n",
    "customer_data.info()"
   ]
  },
  {
   "cell_type": "code",
   "execution_count": 263,
   "id": "19d54b9e",
   "metadata": {
    "colab": {
     "base_uri": "https://localhost:8080/"
    },
    "id": "19d54b9e",
    "outputId": "677fee50-0c45-4cd0-a5da-a483f736a053"
   },
   "outputs": [
    {
     "data": {
      "text/plain": [
       "customerID           0\n",
       "gender               0\n",
       "SeniorCitizen        0\n",
       "Partner              0\n",
       "Dependents           0\n",
       "tenure               0\n",
       "PhoneService         0\n",
       "MultipleLines        0\n",
       "InternetService      0\n",
       "OnlineSecurity       0\n",
       "OnlineBackup         0\n",
       "DeviceProtection     0\n",
       "TechSupport          0\n",
       "StreamingTV          0\n",
       "StreamingMovies      0\n",
       "Contract             0\n",
       "PaperlessBilling     0\n",
       "PaymentMethod        0\n",
       "MonthlyCharges       0\n",
       "TotalCharges        11\n",
       "Churn                0\n",
       "dtype: int64"
      ]
     },
     "execution_count": 263,
     "metadata": {},
     "output_type": "execute_result"
    }
   ],
   "source": [
    "# Replace empty places with NaN\n",
    "customer_data = customer_data.replace(' ',np.nan)\n",
    "# Check for missing values in the merged dataframe\n",
    "customer_data.isnull().sum()"
   ]
  },
  {
   "cell_type": "code",
   "execution_count": 264,
   "id": "94e0cfc3",
   "metadata": {
    "colab": {
     "base_uri": "https://localhost:8080/"
    },
    "id": "94e0cfc3",
    "outputId": "3498e5ed-0670-4aee-a3bf-3385caed4d9d"
   },
   "outputs": [
    {
     "name": "stdout",
     "output_type": "stream",
     "text": [
      "7590-VHVEG    1\n",
      "3791-LGQCY    1\n",
      "6008-NAIXK    1\n",
      "5956-YHHRX    1\n",
      "5365-LLFYV    1\n",
      "             ..\n",
      "9796-MVYXX    1\n",
      "2637-FKFSY    1\n",
      "1552-AAGRX    1\n",
      "4304-TSPVK    1\n",
      "3186-AJIEK    1\n",
      "Name: customerID, Length: 7043, dtype: int64\n",
      "Male      3555\n",
      "Female    3488\n",
      "Name: gender, dtype: int64\n",
      "0    5901\n",
      "1    1142\n",
      "Name: SeniorCitizen, dtype: int64\n",
      "No     3641\n",
      "Yes    3402\n",
      "Name: Partner, dtype: int64\n",
      "No     4933\n",
      "Yes    2110\n",
      "Name: Dependents, dtype: int64\n",
      "1     613\n",
      "72    362\n",
      "2     238\n",
      "3     200\n",
      "4     176\n",
      "     ... \n",
      "28     57\n",
      "39     56\n",
      "44     51\n",
      "36     50\n",
      "0      11\n",
      "Name: tenure, Length: 73, dtype: int64\n",
      "Yes    6361\n",
      "No      682\n",
      "Name: PhoneService, dtype: int64\n",
      "No                  3390\n",
      "Yes                 2971\n",
      "No phone service     682\n",
      "Name: MultipleLines, dtype: int64\n",
      "Fiber optic    3096\n",
      "DSL            2421\n",
      "No             1526\n",
      "Name: InternetService, dtype: int64\n",
      "No                     3498\n",
      "Yes                    2019\n",
      "No internet service    1526\n",
      "Name: OnlineSecurity, dtype: int64\n",
      "No                     3088\n",
      "Yes                    2429\n",
      "No internet service    1526\n",
      "Name: OnlineBackup, dtype: int64\n",
      "No                     3095\n",
      "Yes                    2422\n",
      "No internet service    1526\n",
      "Name: DeviceProtection, dtype: int64\n",
      "No                     3473\n",
      "Yes                    2044\n",
      "No internet service    1526\n",
      "Name: TechSupport, dtype: int64\n",
      "No                     2810\n",
      "Yes                    2707\n",
      "No internet service    1526\n",
      "Name: StreamingTV, dtype: int64\n",
      "No                     2785\n",
      "Yes                    2732\n",
      "No internet service    1526\n",
      "Name: StreamingMovies, dtype: int64\n",
      "Month-to-month    3875\n",
      "Two year          1695\n",
      "One year          1473\n",
      "Name: Contract, dtype: int64\n",
      "Yes    4171\n",
      "No     2872\n",
      "Name: PaperlessBilling, dtype: int64\n",
      "Electronic check             2365\n",
      "Mailed check                 1612\n",
      "Bank transfer (automatic)    1544\n",
      "Credit card (automatic)      1522\n",
      "Name: PaymentMethod, dtype: int64\n",
      "20.05     61\n",
      "19.85     45\n",
      "19.95     44\n",
      "19.90     44\n",
      "20.00     43\n",
      "          ..\n",
      "23.65      1\n",
      "114.70     1\n",
      "43.65      1\n",
      "87.80      1\n",
      "78.70      1\n",
      "Name: MonthlyCharges, Length: 1585, dtype: int64\n",
      "20.2      11\n",
      "19.75      9\n",
      "20.05      8\n",
      "19.9       8\n",
      "19.65      8\n",
      "          ..\n",
      "6849.4     1\n",
      "692.35     1\n",
      "130.15     1\n",
      "3211.9     1\n",
      "6844.5     1\n",
      "Name: TotalCharges, Length: 6530, dtype: int64\n",
      "No     5174\n",
      "Yes    1869\n",
      "Name: Churn, dtype: int64\n"
     ]
    }
   ],
   "source": [
    "# There are 11 empty values in the column 'TotalCharges'\n",
    "# Check for different unexpected categories in other columns\n",
    "for col in customer_data.columns:\n",
    "    temp = customer_data[col].value_counts()\n",
    "    print(temp)"
   ]
  },
  {
   "cell_type": "code",
   "execution_count": 265,
   "id": "f8ae4d56",
   "metadata": {
    "colab": {
     "base_uri": "https://localhost:8080/"
    },
    "id": "f8ae4d56",
    "outputId": "d8390cde-a95c-487c-8811-fcab2a535fec"
   },
   "outputs": [
    {
     "data": {
      "text/plain": [
       "index               0\n",
       "customerID          0\n",
       "gender              0\n",
       "SeniorCitizen       0\n",
       "Partner             0\n",
       "Dependents          0\n",
       "tenure              0\n",
       "PhoneService        0\n",
       "MultipleLines       0\n",
       "InternetService     0\n",
       "OnlineSecurity      0\n",
       "OnlineBackup        0\n",
       "DeviceProtection    0\n",
       "TechSupport         0\n",
       "StreamingTV         0\n",
       "StreamingMovies     0\n",
       "Contract            0\n",
       "PaperlessBilling    0\n",
       "PaymentMethod       0\n",
       "MonthlyCharges      0\n",
       "TotalCharges        0\n",
       "Churn               0\n",
       "dtype: int64"
      ]
     },
     "execution_count": 265,
     "metadata": {},
     "output_type": "execute_result"
    }
   ],
   "source": [
    "# Drop empty values from the dataframe\n",
    "customer_data = customer_data.dropna(axis=0).reset_index()\n",
    "customer_data.isnull().sum()"
   ]
  },
  {
   "cell_type": "code",
   "execution_count": 266,
   "id": "ffb16117",
   "metadata": {},
   "outputs": [
    {
     "data": {
      "text/plain": [
       "['index',\n",
       " 'customerID',\n",
       " 'gender',\n",
       " 'SeniorCitizen',\n",
       " 'Partner',\n",
       " 'Dependents',\n",
       " 'tenure',\n",
       " 'PhoneService',\n",
       " 'MultipleLines',\n",
       " 'InternetService',\n",
       " 'OnlineSecurity',\n",
       " 'OnlineBackup',\n",
       " 'DeviceProtection',\n",
       " 'TechSupport',\n",
       " 'StreamingTV',\n",
       " 'StreamingMovies',\n",
       " 'Contract',\n",
       " 'PaperlessBilling',\n",
       " 'PaymentMethod',\n",
       " 'MonthlyCharges',\n",
       " 'TotalCharges',\n",
       " 'Churn']"
      ]
     },
     "execution_count": 266,
     "metadata": {},
     "output_type": "execute_result"
    }
   ],
   "source": [
    "columns1=[]\n",
    "for feature in customer_data.columns:\n",
    "   columns1.append(feature) \n",
    "columns1"
   ]
  },
  {
   "cell_type": "markdown",
   "id": "133331ed",
   "metadata": {
    "id": "133331ed"
   },
   "source": [
    "## 2. Make sure all the variables with continuous values are of ‘Float’ type. [For Example: MonthlyCharges, TotalCharges]"
   ]
  },
  {
   "cell_type": "code",
   "execution_count": 267,
   "id": "c9beb493",
   "metadata": {
    "colab": {
     "base_uri": "https://localhost:8080/"
    },
    "id": "c9beb493",
    "outputId": "0d817292-726e-4db4-a3f2-cdae37ab56d8"
   },
   "outputs": [
    {
     "data": {
      "text/plain": [
       "index                  int64\n",
       "customerID          category\n",
       "gender              category\n",
       "SeniorCitizen          int64\n",
       "Partner             category\n",
       "Dependents          category\n",
       "tenure                 int64\n",
       "PhoneService        category\n",
       "MultipleLines       category\n",
       "InternetService     category\n",
       "OnlineSecurity      category\n",
       "OnlineBackup        category\n",
       "DeviceProtection    category\n",
       "TechSupport         category\n",
       "StreamingTV         category\n",
       "StreamingMovies     category\n",
       "Contract            category\n",
       "PaperlessBilling    category\n",
       "PaymentMethod       category\n",
       "MonthlyCharges       float64\n",
       "TotalCharges        category\n",
       "Churn               category\n",
       "dtype: object"
      ]
     },
     "execution_count": 267,
     "metadata": {},
     "output_type": "execute_result"
    }
   ],
   "source": [
    "# First, let's convert the columns with an 'object' datatype into categorical variables\n",
    "for feature in customer_data.columns: # Loop through all columns in the dataframe\n",
    "    if customer_data[feature].dtype == 'object': # Only apply for columns with categorical strings\n",
    "        customer_data[feature] = pd.Categorical(customer_data[feature])# Replace strings with an integer\n",
    "customer_data.dtypes"
   ]
  },
  {
   "cell_type": "code",
   "execution_count": 268,
   "id": "05beb984",
   "metadata": {
    "colab": {
     "base_uri": "https://localhost:8080/"
    },
    "id": "05beb984",
    "outputId": "f006fba9-0e0d-447f-fd8e-27ce82eaf9f7"
   },
   "outputs": [
    {
     "data": {
      "text/plain": [
       "index                  int64\n",
       "customerID          category\n",
       "gender              category\n",
       "SeniorCitizen       category\n",
       "Partner             category\n",
       "Dependents          category\n",
       "tenure                 int64\n",
       "PhoneService        category\n",
       "MultipleLines       category\n",
       "InternetService     category\n",
       "OnlineSecurity      category\n",
       "OnlineBackup        category\n",
       "DeviceProtection    category\n",
       "TechSupport         category\n",
       "StreamingTV         category\n",
       "StreamingMovies     category\n",
       "Contract            category\n",
       "PaperlessBilling    category\n",
       "PaymentMethod       category\n",
       "MonthlyCharges       float64\n",
       "TotalCharges        category\n",
       "Churn               category\n",
       "dtype: object"
      ]
     },
     "execution_count": 268,
     "metadata": {},
     "output_type": "execute_result"
    }
   ],
   "source": [
    "# 'SeniorCitizen' is also a category. Let's change it.\n",
    "customer_data['SeniorCitizen'] = pd.Categorical(customer_data.SeniorCitizen)\n",
    "customer_data.dtypes"
   ]
  },
  {
   "cell_type": "code",
   "execution_count": 269,
   "id": "e425c95b",
   "metadata": {
    "colab": {
     "base_uri": "https://localhost:8080/"
    },
    "id": "e425c95b",
    "outputId": "04476ce0-d74e-43d2-c327-c1016ec06a1d"
   },
   "outputs": [
    {
     "data": {
      "text/plain": [
       "index                  int64\n",
       "customerID          category\n",
       "gender              category\n",
       "SeniorCitizen       category\n",
       "Partner             category\n",
       "Dependents          category\n",
       "tenure                 int64\n",
       "PhoneService        category\n",
       "MultipleLines       category\n",
       "InternetService     category\n",
       "OnlineSecurity      category\n",
       "OnlineBackup        category\n",
       "DeviceProtection    category\n",
       "TechSupport         category\n",
       "StreamingTV         category\n",
       "StreamingMovies     category\n",
       "Contract            category\n",
       "PaperlessBilling    category\n",
       "PaymentMethod       category\n",
       "MonthlyCharges       float64\n",
       "TotalCharges         float64\n",
       "Churn               category\n",
       "dtype: object"
      ]
     },
     "execution_count": 269,
     "metadata": {},
     "output_type": "execute_result"
    }
   ],
   "source": [
    "# Change datatype of 'TotalCharges' to float\n",
    "customer_data.TotalCharges = customer_data.TotalCharges.astype(float)\n",
    "customer_data.dtypes"
   ]
  },
  {
   "cell_type": "markdown",
   "id": "72e725dd",
   "metadata": {
    "id": "72e725dd"
   },
   "source": [
    "## C. Create a function that will accept a DataFrame as input and return pie-charts for all the appropriate Categorical features. Clearly show percentage distribution in the pie-chart."
   ]
  },
  {
   "cell_type": "code",
   "execution_count": 270,
   "id": "0Wc99iymXXs1",
   "metadata": {
    "colab": {
     "base_uri": "https://localhost:8080/",
     "height": 0
    },
    "id": "0Wc99iymXXs1",
    "outputId": "207e5ca3-4760-4a9c-9e33-965752f93cb1"
   },
   "outputs": [
    {
     "name": "stdout",
     "output_type": "stream",
     "text": [
      "['customerID', 'gender', 'SeniorCitizen', 'Partner', 'Dependents', 'PhoneService', 'MultipleLines', 'InternetService', 'OnlineSecurity', 'OnlineBackup', 'DeviceProtection', 'TechSupport', 'StreamingTV', 'StreamingMovies', 'Contract', 'PaperlessBilling', 'PaymentMethod', 'Churn']\n",
      "Pie Chart for  customerID  is unavailable due high number of Unique Values \n",
      "\n",
      "\n",
      "Pie Chart for:  gender\n"
     ]
    },
    {
     "data": {
      "image/png": "[encoded data removed]",
      "text/plain": [
       "<Figure size 432x288 with 1 Axes>"
      ]
     },
     "metadata": {},
     "output_type": "display_data"
    },
    {
     "name": "stdout",
     "output_type": "stream",
     "text": [
      "Pie Chart for:  SeniorCitizen\n"
     ]
    },
    {
     "data": {
      "image/png": "[encoded data removed]",
      "text/plain": [
       "<Figure size 432x288 with 1 Axes>"
      ]
     },
     "metadata": {},
     "output_type": "display_data"
    },
    {
     "name": "stdout",
     "output_type": "stream",
     "text": [
      "Pie Chart for:  Partner\n"
     ]
    },
    {
     "data": {
      "image/png": "[encoded data removed]",
      "text/plain": [
       "<Figure size 432x288 with 1 Axes>"
      ]
     },
     "metadata": {},
     "output_type": "display_data"
    },
    {
     "name": "stdout",
     "output_type": "stream",
     "text": [
      "Pie Chart for:  Dependents\n"
     ]
    },
    {
     "data": {
      "image/png": "[encoded data removed]",
      "text/plain": [
       "<Figure size 432x288 with 1 Axes>"
      ]
     },
     "metadata": {},
     "output_type": "display_data"
    },
    {
     "name": "stdout",
     "output_type": "stream",
     "text": [
      "Pie Chart for:  PhoneService\n"
     ]
    },
    {
     "data": {
      "image/png": "[encoded data removed]",
      "text/plain": [
       "<Figure size 432x288 with 1 Axes>"
      ]
     },
     "metadata": {},
     "output_type": "display_data"
    },
    {
     "name": "stdout",
     "output_type": "stream",
     "text": [
      "Pie Chart for:  MultipleLines\n"
     ]
    },
    {
     "data": {
      "image/png": "[encoded data removed]",
      "text/plain": [
       "<Figure size 432x288 with 1 Axes>"
      ]
     },
     "metadata": {},
     "output_type": "display_data"
    },
    {
     "name": "stdout",
     "output_type": "stream",
     "text": [
      "Pie Chart for:  InternetService\n"
     ]
    },
    {
     "data": {
      "image/png": "[encoded data removed]",
      "text/plain": [
       "<Figure size 432x288 with 1 Axes>"
      ]
     },
     "metadata": {},
     "output_type": "display_data"
    },
    {
     "name": "stdout",
     "output_type": "stream",
     "text": [
      "Pie Chart for:  OnlineSecurity\n"
     ]
    },
    {
     "data": {
      "image/png": "[encoded data removed]",
      "text/plain": [
       "<Figure size 432x288 with 1 Axes>"
      ]
     },
     "metadata": {},
     "output_type": "display_data"
    },
    {
     "name": "stdout",
     "output_type": "stream",
     "text": [
      "Pie Chart for:  OnlineBackup\n"
     ]
    },
    {
     "data": {
      "image/png": "[encoded data removed]",
      "text/plain": [
       "<Figure size 432x288 with 1 Axes>"
      ]
     },
     "metadata": {},
     "output_type": "display_data"
    },
    {
     "name": "stdout",
     "output_type": "stream",
     "text": [
      "Pie Chart for:  DeviceProtection\n"
     ]
    },
    {
     "data": {
      "image/png": "[encoded data removed]",
      "text/plain": [
       "<Figure size 432x288 with 1 Axes>"
      ]
     },
     "metadata": {},
     "output_type": "display_data"
    },
    {
     "name": "stdout",
     "output_type": "stream",
     "text": [
      "Pie Chart for:  TechSupport\n"
     ]
    },
    {
     "data": {
      "image/png": "[encoded data removed]",
      "text/plain": [
       "<Figure size 432x288 with 1 Axes>"
      ]
     },
     "metadata": {},
     "output_type": "display_data"
    },
    {
     "name": "stdout",
     "output_type": "stream",
     "text": [
      "Pie Chart for:  StreamingTV\n"
     ]
    },
    {
     "data": {
      "image/png": "[encoded data removed]",
      "text/plain": [
       "<Figure size 432x288 with 1 Axes>"
      ]
     },
     "metadata": {},
     "output_type": "display_data"
    },
    {
     "name": "stdout",
     "output_type": "stream",
     "text": [
      "Pie Chart for:  StreamingMovies\n"
     ]
    },
    {
     "data": {
      "image/png": "[encoded data removed]",
      "text/plain": [
       "<Figure size 432x288 with 1 Axes>"
      ]
     },
     "metadata": {},
     "output_type": "display_data"
    },
    {
     "name": "stdout",
     "output_type": "stream",
     "text": [
      "Pie Chart for:  Contract\n"
     ]
    },
    {
     "data": {
      "image/png": "[encoded data removed]",
      "text/plain": [
       "<Figure size 432x288 with 1 Axes>"
      ]
     },
     "metadata": {},
     "output_type": "display_data"
    },
    {
     "name": "stdout",
     "output_type": "stream",
     "text": [
      "Pie Chart for:  PaperlessBilling\n"
     ]
    },
    {
     "data": {
      "image/png": "[encoded data removed]",
      "text/plain": [
       "<Figure size 432x288 with 1 Axes>"
      ]
     },
     "metadata": {},
     "output_type": "display_data"
    },
    {
     "name": "stdout",
     "output_type": "stream",
     "text": [
      "Pie Chart for:  PaymentMethod\n"
     ]
    },
    {
     "data": {
      "image/png": "[encoded data removed]",
      "text/plain": [
       "<Figure size 432x288 with 1 Axes>"
      ]
     },
     "metadata": {},
     "output_type": "display_data"
    },
    {
     "name": "stdout",
     "output_type": "stream",
     "text": [
      "Pie Chart for:  Churn\n"
     ]
    },
    {
     "data": {
      "image/png": "[encoded data removed]",
      "text/plain": [
       "<Figure size 432x288 with 1 Axes>"
      ]
     },
     "metadata": {},
     "output_type": "display_data"
    }
   ],
   "source": [
    "def pie_chart_for_categorical_variables_in_df(df,threshold):\n",
    "  categorical_features = df.select_dtypes(['object','category']).columns.to_list()\n",
    "  print(categorical_features)\n",
    "  dropna = False\n",
    "  for cat_feature in categorical_features: \n",
    "      num_unique = df[cat_feature].nunique(dropna = dropna)\n",
    "      if num_unique <= threshold:\n",
    "          chart_data = df[cat_feature].value_counts(dropna = dropna)\n",
    "          chart_values=cat_feature\n",
    "          chart_names = df[cat_feature].value_counts(dropna = dropna).index\n",
    "          print('Pie Chart for: ', chart_values)\n",
    "          plt.pie(chart_data,labels=chart_names,autopct='%1.1f%%')\n",
    "          plt.title(chart_values)\n",
    "          plt.show()\n",
    "      else: \n",
    "          print('Pie Chart for ',cat_feature,' is unavailable due high number of Unique Values ')\n",
    "          print('\\n')\n",
    "\n",
    "\n",
    "pie_chart_for_categorical_variables_in_df(customer_data,30)"
   ]
  },
  {
   "cell_type": "markdown",
   "id": "41d144a9",
   "metadata": {
    "id": "41d144a9"
   },
   "source": [
    "## D. Share insights for Q2.c."
   ]
  },
  {
   "cell_type": "markdown",
   "id": "cd965949",
   "metadata": {
    "id": "cd965949"
   },
   "source": [
    "1. Gender is almost equally balanced between Male(50.5%) and Female(49.5%)\n",
    "2. There are lesser senior citizens in the dataset \n",
    "3. The precentage of senior citizens in the dataset is 16.2%\n",
    "4. The Partners category is also equally distributed between those having partners(48.3%) and those not having partners(51.7%)\n",
    "5. Most people do not have dependents(70.2%) and just 29.8% have dependents\n",
    "6. 90.3% people have Phone Service and 9.7% do not have phone services\n",
    "7. Among those having phone service(90.3%), 42.2% have multiple lines and 48.1% have single line \n",
    "8. 44% people have Fiber optic internet service\n",
    "9. 49.7% people have Online Security\n",
    "10. 43.9% people don't have an online backup\n",
    "11. 49.4% people have no device protection\n",
    "12. 50% people don't get tech support\n",
    "13. People streaming TV and not streaming TV are almost equal\n",
    "14. People streaming movies and not streaming movies are almost equal\n",
    "15. Maximum people (55.1%) prefer month-to-month contract\n",
    "16. Maximum people prefer paperless billing(59.3%)\n",
    "17. 33.6% people prefer electronic checks to make payments. Other payment methods are almost equally distributed\n",
    "18. Majority (73.4%) people did not churn"
   ]
  },
  {
   "cell_type": "markdown",
   "id": "8d33c1b9",
   "metadata": {
    "id": "8d33c1b9"
   },
   "source": [
    "## E. Encode all the appropriate Categorical features with the best suitable approach."
   ]
  },
  {
   "cell_type": "code",
   "execution_count": 271,
   "id": "23b5f9cf",
   "metadata": {
    "colab": {
     "base_uri": "https://localhost:8080/",
     "height": 0
    },
    "id": "23b5f9cf",
    "outputId": "834169ad-51af-4a23-ef89-b3c6e93e2370"
   },
   "outputs": [
    {
     "data": {
      "text/html": [
       "<div>\n",
       "<style scoped>\n",
       "    .dataframe tbody tr th:only-of-type {\n",
       "        vertical-align: middle;\n",
       "    }\n",
       "\n",
       "    .dataframe tbody tr th {\n",
       "        vertical-align: top;\n",
       "    }\n",
       "\n",
       "    .dataframe thead th {\n",
       "        text-align: right;\n",
       "    }\n",
       "</style>\n",
       "<table border=\"1\" class=\"dataframe\">\n",
       "  <thead>\n",
       "    <tr style=\"text-align: right;\">\n",
       "      <th></th>\n",
       "      <th>index</th>\n",
       "      <th>customerID</th>\n",
       "      <th>gender</th>\n",
       "      <th>SeniorCitizen</th>\n",
       "      <th>Partner</th>\n",
       "      <th>Dependents</th>\n",
       "      <th>tenure</th>\n",
       "      <th>PhoneService</th>\n",
       "      <th>MultipleLines</th>\n",
       "      <th>InternetService</th>\n",
       "      <th>...</th>\n",
       "      <th>DeviceProtection</th>\n",
       "      <th>TechSupport</th>\n",
       "      <th>StreamingTV</th>\n",
       "      <th>StreamingMovies</th>\n",
       "      <th>Contract</th>\n",
       "      <th>PaperlessBilling</th>\n",
       "      <th>PaymentMethod</th>\n",
       "      <th>MonthlyCharges</th>\n",
       "      <th>TotalCharges</th>\n",
       "      <th>Churn</th>\n",
       "    </tr>\n",
       "  </thead>\n",
       "  <tbody>\n",
       "    <tr>\n",
       "      <th>0</th>\n",
       "      <td>0</td>\n",
       "      <td>7590-VHVEG</td>\n",
       "      <td>Female</td>\n",
       "      <td>0</td>\n",
       "      <td>Yes</td>\n",
       "      <td>No</td>\n",
       "      <td>1</td>\n",
       "      <td>No</td>\n",
       "      <td>No phone service</td>\n",
       "      <td>DSL</td>\n",
       "      <td>...</td>\n",
       "      <td>No</td>\n",
       "      <td>No</td>\n",
       "      <td>No</td>\n",
       "      <td>No</td>\n",
       "      <td>Month-to-month</td>\n",
       "      <td>Yes</td>\n",
       "      <td>Electronic check</td>\n",
       "      <td>29.85</td>\n",
       "      <td>29.85</td>\n",
       "      <td>No</td>\n",
       "    </tr>\n",
       "    <tr>\n",
       "      <th>1</th>\n",
       "      <td>1</td>\n",
       "      <td>5575-GNVDE</td>\n",
       "      <td>Male</td>\n",
       "      <td>0</td>\n",
       "      <td>No</td>\n",
       "      <td>No</td>\n",
       "      <td>34</td>\n",
       "      <td>Yes</td>\n",
       "      <td>No</td>\n",
       "      <td>DSL</td>\n",
       "      <td>...</td>\n",
       "      <td>Yes</td>\n",
       "      <td>No</td>\n",
       "      <td>No</td>\n",
       "      <td>No</td>\n",
       "      <td>One year</td>\n",
       "      <td>No</td>\n",
       "      <td>Mailed check</td>\n",
       "      <td>56.95</td>\n",
       "      <td>1889.50</td>\n",
       "      <td>No</td>\n",
       "    </tr>\n",
       "    <tr>\n",
       "      <th>2</th>\n",
       "      <td>2</td>\n",
       "      <td>3668-QPYBK</td>\n",
       "      <td>Male</td>\n",
       "      <td>0</td>\n",
       "      <td>No</td>\n",
       "      <td>No</td>\n",
       "      <td>2</td>\n",
       "      <td>Yes</td>\n",
       "      <td>No</td>\n",
       "      <td>DSL</td>\n",
       "      <td>...</td>\n",
       "      <td>No</td>\n",
       "      <td>No</td>\n",
       "      <td>No</td>\n",
       "      <td>No</td>\n",
       "      <td>Month-to-month</td>\n",
       "      <td>Yes</td>\n",
       "      <td>Mailed check</td>\n",
       "      <td>53.85</td>\n",
       "      <td>108.15</td>\n",
       "      <td>Yes</td>\n",
       "    </tr>\n",
       "    <tr>\n",
       "      <th>3</th>\n",
       "      <td>3</td>\n",
       "      <td>7795-CFOCW</td>\n",
       "      <td>Male</td>\n",
       "      <td>0</td>\n",
       "      <td>No</td>\n",
       "      <td>No</td>\n",
       "      <td>45</td>\n",
       "      <td>No</td>\n",
       "      <td>No phone service</td>\n",
       "      <td>DSL</td>\n",
       "      <td>...</td>\n",
       "      <td>Yes</td>\n",
       "      <td>Yes</td>\n",
       "      <td>No</td>\n",
       "      <td>No</td>\n",
       "      <td>One year</td>\n",
       "      <td>No</td>\n",
       "      <td>Bank transfer (automatic)</td>\n",
       "      <td>42.30</td>\n",
       "      <td>1840.75</td>\n",
       "      <td>No</td>\n",
       "    </tr>\n",
       "    <tr>\n",
       "      <th>4</th>\n",
       "      <td>4</td>\n",
       "      <td>9237-HQITU</td>\n",
       "      <td>Female</td>\n",
       "      <td>0</td>\n",
       "      <td>No</td>\n",
       "      <td>No</td>\n",
       "      <td>2</td>\n",
       "      <td>Yes</td>\n",
       "      <td>No</td>\n",
       "      <td>Fiber optic</td>\n",
       "      <td>...</td>\n",
       "      <td>No</td>\n",
       "      <td>No</td>\n",
       "      <td>No</td>\n",
       "      <td>No</td>\n",
       "      <td>Month-to-month</td>\n",
       "      <td>Yes</td>\n",
       "      <td>Electronic check</td>\n",
       "      <td>70.70</td>\n",
       "      <td>151.65</td>\n",
       "      <td>Yes</td>\n",
       "    </tr>\n",
       "  </tbody>\n",
       "</table>\n",
       "<p>5 rows × 22 columns</p>\n",
       "</div>"
      ],
      "text/plain": [
       "   index  customerID  gender SeniorCitizen Partner Dependents  tenure  \\\n",
       "0      0  7590-VHVEG  Female             0     Yes         No       1   \n",
       "1      1  5575-GNVDE    Male             0      No         No      34   \n",
       "2      2  3668-QPYBK    Male             0      No         No       2   \n",
       "3      3  7795-CFOCW    Male             0      No         No      45   \n",
       "4      4  9237-HQITU  Female             0      No         No       2   \n",
       "\n",
       "  PhoneService     MultipleLines InternetService  ... DeviceProtection  \\\n",
       "0           No  No phone service             DSL  ...               No   \n",
       "1          Yes                No             DSL  ...              Yes   \n",
       "2          Yes                No             DSL  ...               No   \n",
       "3           No  No phone service             DSL  ...              Yes   \n",
       "4          Yes                No     Fiber optic  ...               No   \n",
       "\n",
       "  TechSupport StreamingTV StreamingMovies        Contract PaperlessBilling  \\\n",
       "0          No          No              No  Month-to-month              Yes   \n",
       "1          No          No              No        One year               No   \n",
       "2          No          No              No  Month-to-month              Yes   \n",
       "3         Yes          No              No        One year               No   \n",
       "4          No          No              No  Month-to-month              Yes   \n",
       "\n",
       "               PaymentMethod MonthlyCharges TotalCharges  Churn  \n",
       "0           Electronic check          29.85        29.85     No  \n",
       "1               Mailed check          56.95      1889.50     No  \n",
       "2               Mailed check          53.85       108.15    Yes  \n",
       "3  Bank transfer (automatic)          42.30      1840.75     No  \n",
       "4           Electronic check          70.70       151.65    Yes  \n",
       "\n",
       "[5 rows x 22 columns]"
      ]
     },
     "execution_count": 271,
     "metadata": {},
     "output_type": "execute_result"
    }
   ],
   "source": [
    "# Create a dataframe copy\n",
    "df = customer_data\n",
    "df.head()"
   ]
  },
  {
   "cell_type": "code",
   "execution_count": 272,
   "id": "840f8f2a",
   "metadata": {
    "colab": {
     "base_uri": "https://localhost:8080/",
     "height": 0
    },
    "id": "840f8f2a",
    "outputId": "1457513d-188f-48eb-9a37-882a4125b054"
   },
   "outputs": [
    {
     "data": {
      "text/html": [
       "<div>\n",
       "<style scoped>\n",
       "    .dataframe tbody tr th:only-of-type {\n",
       "        vertical-align: middle;\n",
       "    }\n",
       "\n",
       "    .dataframe tbody tr th {\n",
       "        vertical-align: top;\n",
       "    }\n",
       "\n",
       "    .dataframe thead th {\n",
       "        text-align: right;\n",
       "    }\n",
       "</style>\n",
       "<table border=\"1\" class=\"dataframe\">\n",
       "  <thead>\n",
       "    <tr style=\"text-align: right;\">\n",
       "      <th></th>\n",
       "      <th>gender</th>\n",
       "      <th>SeniorCitizen</th>\n",
       "      <th>Partner</th>\n",
       "      <th>Dependents</th>\n",
       "      <th>tenure</th>\n",
       "      <th>PhoneService</th>\n",
       "      <th>MultipleLines</th>\n",
       "      <th>InternetService</th>\n",
       "      <th>OnlineSecurity</th>\n",
       "      <th>OnlineBackup</th>\n",
       "      <th>DeviceProtection</th>\n",
       "      <th>TechSupport</th>\n",
       "      <th>StreamingTV</th>\n",
       "      <th>StreamingMovies</th>\n",
       "      <th>Contract</th>\n",
       "      <th>PaperlessBilling</th>\n",
       "      <th>PaymentMethod</th>\n",
       "      <th>MonthlyCharges</th>\n",
       "      <th>TotalCharges</th>\n",
       "      <th>Churn</th>\n",
       "    </tr>\n",
       "  </thead>\n",
       "  <tbody>\n",
       "    <tr>\n",
       "      <th>0</th>\n",
       "      <td>Female</td>\n",
       "      <td>0</td>\n",
       "      <td>Yes</td>\n",
       "      <td>No</td>\n",
       "      <td>1</td>\n",
       "      <td>No</td>\n",
       "      <td>No phone service</td>\n",
       "      <td>DSL</td>\n",
       "      <td>No</td>\n",
       "      <td>Yes</td>\n",
       "      <td>No</td>\n",
       "      <td>No</td>\n",
       "      <td>No</td>\n",
       "      <td>No</td>\n",
       "      <td>Month-to-month</td>\n",
       "      <td>Yes</td>\n",
       "      <td>Electronic check</td>\n",
       "      <td>29.85</td>\n",
       "      <td>29.85</td>\n",
       "      <td>No</td>\n",
       "    </tr>\n",
       "    <tr>\n",
       "      <th>1</th>\n",
       "      <td>Male</td>\n",
       "      <td>0</td>\n",
       "      <td>No</td>\n",
       "      <td>No</td>\n",
       "      <td>34</td>\n",
       "      <td>Yes</td>\n",
       "      <td>No</td>\n",
       "      <td>DSL</td>\n",
       "      <td>Yes</td>\n",
       "      <td>No</td>\n",
       "      <td>Yes</td>\n",
       "      <td>No</td>\n",
       "      <td>No</td>\n",
       "      <td>No</td>\n",
       "      <td>One year</td>\n",
       "      <td>No</td>\n",
       "      <td>Mailed check</td>\n",
       "      <td>56.95</td>\n",
       "      <td>1889.50</td>\n",
       "      <td>No</td>\n",
       "    </tr>\n",
       "    <tr>\n",
       "      <th>2</th>\n",
       "      <td>Male</td>\n",
       "      <td>0</td>\n",
       "      <td>No</td>\n",
       "      <td>No</td>\n",
       "      <td>2</td>\n",
       "      <td>Yes</td>\n",
       "      <td>No</td>\n",
       "      <td>DSL</td>\n",
       "      <td>Yes</td>\n",
       "      <td>Yes</td>\n",
       "      <td>No</td>\n",
       "      <td>No</td>\n",
       "      <td>No</td>\n",
       "      <td>No</td>\n",
       "      <td>Month-to-month</td>\n",
       "      <td>Yes</td>\n",
       "      <td>Mailed check</td>\n",
       "      <td>53.85</td>\n",
       "      <td>108.15</td>\n",
       "      <td>Yes</td>\n",
       "    </tr>\n",
       "    <tr>\n",
       "      <th>3</th>\n",
       "      <td>Male</td>\n",
       "      <td>0</td>\n",
       "      <td>No</td>\n",
       "      <td>No</td>\n",
       "      <td>45</td>\n",
       "      <td>No</td>\n",
       "      <td>No phone service</td>\n",
       "      <td>DSL</td>\n",
       "      <td>Yes</td>\n",
       "      <td>No</td>\n",
       "      <td>Yes</td>\n",
       "      <td>Yes</td>\n",
       "      <td>No</td>\n",
       "      <td>No</td>\n",
       "      <td>One year</td>\n",
       "      <td>No</td>\n",
       "      <td>Bank transfer (automatic)</td>\n",
       "      <td>42.30</td>\n",
       "      <td>1840.75</td>\n",
       "      <td>No</td>\n",
       "    </tr>\n",
       "    <tr>\n",
       "      <th>4</th>\n",
       "      <td>Female</td>\n",
       "      <td>0</td>\n",
       "      <td>No</td>\n",
       "      <td>No</td>\n",
       "      <td>2</td>\n",
       "      <td>Yes</td>\n",
       "      <td>No</td>\n",
       "      <td>Fiber optic</td>\n",
       "      <td>No</td>\n",
       "      <td>No</td>\n",
       "      <td>No</td>\n",
       "      <td>No</td>\n",
       "      <td>No</td>\n",
       "      <td>No</td>\n",
       "      <td>Month-to-month</td>\n",
       "      <td>Yes</td>\n",
       "      <td>Electronic check</td>\n",
       "      <td>70.70</td>\n",
       "      <td>151.65</td>\n",
       "      <td>Yes</td>\n",
       "    </tr>\n",
       "  </tbody>\n",
       "</table>\n",
       "</div>"
      ],
      "text/plain": [
       "   gender SeniorCitizen Partner Dependents  tenure PhoneService  \\\n",
       "0  Female             0     Yes         No       1           No   \n",
       "1    Male             0      No         No      34          Yes   \n",
       "2    Male             0      No         No       2          Yes   \n",
       "3    Male             0      No         No      45           No   \n",
       "4  Female             0      No         No       2          Yes   \n",
       "\n",
       "      MultipleLines InternetService OnlineSecurity OnlineBackup  \\\n",
       "0  No phone service             DSL             No          Yes   \n",
       "1                No             DSL            Yes           No   \n",
       "2                No             DSL            Yes          Yes   \n",
       "3  No phone service             DSL            Yes           No   \n",
       "4                No     Fiber optic             No           No   \n",
       "\n",
       "  DeviceProtection TechSupport StreamingTV StreamingMovies        Contract  \\\n",
       "0               No          No          No              No  Month-to-month   \n",
       "1              Yes          No          No              No        One year   \n",
       "2               No          No          No              No  Month-to-month   \n",
       "3              Yes         Yes          No              No        One year   \n",
       "4               No          No          No              No  Month-to-month   \n",
       "\n",
       "  PaperlessBilling              PaymentMethod  MonthlyCharges  TotalCharges  \\\n",
       "0              Yes           Electronic check           29.85         29.85   \n",
       "1               No               Mailed check           56.95       1889.50   \n",
       "2              Yes               Mailed check           53.85        108.15   \n",
       "3               No  Bank transfer (automatic)           42.30       1840.75   \n",
       "4              Yes           Electronic check           70.70        151.65   \n",
       "\n",
       "  Churn  \n",
       "0    No  \n",
       "1    No  \n",
       "2   Yes  \n",
       "3    No  \n",
       "4   Yes  "
      ]
     },
     "execution_count": 272,
     "metadata": {},
     "output_type": "execute_result"
    }
   ],
   "source": [
    "# Drop 'index' and 'customerID', 'Churn' columns\n",
    "df.drop(columns=['index', 'customerID'], inplace=True)\n",
    "df.head()"
   ]
  },
  {
   "cell_type": "code",
   "execution_count": 273,
   "id": "87ed7f1d",
   "metadata": {
    "colab": {
     "base_uri": "https://localhost:8080/",
     "height": 0
    },
    "id": "87ed7f1d",
    "outputId": "5908acdf-0502-4072-db76-cf971c801b85"
   },
   "outputs": [
    {
     "data": {
      "text/html": [
       "<div>\n",
       "<style scoped>\n",
       "    .dataframe tbody tr th:only-of-type {\n",
       "        vertical-align: middle;\n",
       "    }\n",
       "\n",
       "    .dataframe tbody tr th {\n",
       "        vertical-align: top;\n",
       "    }\n",
       "\n",
       "    .dataframe thead th {\n",
       "        text-align: right;\n",
       "    }\n",
       "</style>\n",
       "<table border=\"1\" class=\"dataframe\">\n",
       "  <thead>\n",
       "    <tr style=\"text-align: right;\">\n",
       "      <th></th>\n",
       "      <th>gender</th>\n",
       "      <th>SeniorCitizen</th>\n",
       "      <th>Partner</th>\n",
       "      <th>Dependents</th>\n",
       "      <th>tenure</th>\n",
       "      <th>PhoneService</th>\n",
       "      <th>MultipleLines</th>\n",
       "      <th>InternetService</th>\n",
       "      <th>OnlineSecurity</th>\n",
       "      <th>OnlineBackup</th>\n",
       "      <th>DeviceProtection</th>\n",
       "      <th>TechSupport</th>\n",
       "      <th>StreamingTV</th>\n",
       "      <th>StreamingMovies</th>\n",
       "      <th>Contract</th>\n",
       "      <th>PaperlessBilling</th>\n",
       "      <th>PaymentMethod</th>\n",
       "      <th>MonthlyCharges</th>\n",
       "      <th>TotalCharges</th>\n",
       "    </tr>\n",
       "  </thead>\n",
       "  <tbody>\n",
       "    <tr>\n",
       "      <th>0</th>\n",
       "      <td>Female</td>\n",
       "      <td>0</td>\n",
       "      <td>Yes</td>\n",
       "      <td>No</td>\n",
       "      <td>1</td>\n",
       "      <td>No</td>\n",
       "      <td>No phone service</td>\n",
       "      <td>DSL</td>\n",
       "      <td>No</td>\n",
       "      <td>Yes</td>\n",
       "      <td>No</td>\n",
       "      <td>No</td>\n",
       "      <td>No</td>\n",
       "      <td>No</td>\n",
       "      <td>Month-to-month</td>\n",
       "      <td>Yes</td>\n",
       "      <td>Electronic check</td>\n",
       "      <td>29.85</td>\n",
       "      <td>29.85</td>\n",
       "    </tr>\n",
       "    <tr>\n",
       "      <th>1</th>\n",
       "      <td>Male</td>\n",
       "      <td>0</td>\n",
       "      <td>No</td>\n",
       "      <td>No</td>\n",
       "      <td>34</td>\n",
       "      <td>Yes</td>\n",
       "      <td>No</td>\n",
       "      <td>DSL</td>\n",
       "      <td>Yes</td>\n",
       "      <td>No</td>\n",
       "      <td>Yes</td>\n",
       "      <td>No</td>\n",
       "      <td>No</td>\n",
       "      <td>No</td>\n",
       "      <td>One year</td>\n",
       "      <td>No</td>\n",
       "      <td>Mailed check</td>\n",
       "      <td>56.95</td>\n",
       "      <td>1889.50</td>\n",
       "    </tr>\n",
       "    <tr>\n",
       "      <th>2</th>\n",
       "      <td>Male</td>\n",
       "      <td>0</td>\n",
       "      <td>No</td>\n",
       "      <td>No</td>\n",
       "      <td>2</td>\n",
       "      <td>Yes</td>\n",
       "      <td>No</td>\n",
       "      <td>DSL</td>\n",
       "      <td>Yes</td>\n",
       "      <td>Yes</td>\n",
       "      <td>No</td>\n",
       "      <td>No</td>\n",
       "      <td>No</td>\n",
       "      <td>No</td>\n",
       "      <td>Month-to-month</td>\n",
       "      <td>Yes</td>\n",
       "      <td>Mailed check</td>\n",
       "      <td>53.85</td>\n",
       "      <td>108.15</td>\n",
       "    </tr>\n",
       "    <tr>\n",
       "      <th>3</th>\n",
       "      <td>Male</td>\n",
       "      <td>0</td>\n",
       "      <td>No</td>\n",
       "      <td>No</td>\n",
       "      <td>45</td>\n",
       "      <td>No</td>\n",
       "      <td>No phone service</td>\n",
       "      <td>DSL</td>\n",
       "      <td>Yes</td>\n",
       "      <td>No</td>\n",
       "      <td>Yes</td>\n",
       "      <td>Yes</td>\n",
       "      <td>No</td>\n",
       "      <td>No</td>\n",
       "      <td>One year</td>\n",
       "      <td>No</td>\n",
       "      <td>Bank transfer (automatic)</td>\n",
       "      <td>42.30</td>\n",
       "      <td>1840.75</td>\n",
       "    </tr>\n",
       "    <tr>\n",
       "      <th>4</th>\n",
       "      <td>Female</td>\n",
       "      <td>0</td>\n",
       "      <td>No</td>\n",
       "      <td>No</td>\n",
       "      <td>2</td>\n",
       "      <td>Yes</td>\n",
       "      <td>No</td>\n",
       "      <td>Fiber optic</td>\n",
       "      <td>No</td>\n",
       "      <td>No</td>\n",
       "      <td>No</td>\n",
       "      <td>No</td>\n",
       "      <td>No</td>\n",
       "      <td>No</td>\n",
       "      <td>Month-to-month</td>\n",
       "      <td>Yes</td>\n",
       "      <td>Electronic check</td>\n",
       "      <td>70.70</td>\n",
       "      <td>151.65</td>\n",
       "    </tr>\n",
       "  </tbody>\n",
       "</table>\n",
       "</div>"
      ],
      "text/plain": [
       "   gender SeniorCitizen Partner Dependents  tenure PhoneService  \\\n",
       "0  Female             0     Yes         No       1           No   \n",
       "1    Male             0      No         No      34          Yes   \n",
       "2    Male             0      No         No       2          Yes   \n",
       "3    Male             0      No         No      45           No   \n",
       "4  Female             0      No         No       2          Yes   \n",
       "\n",
       "      MultipleLines InternetService OnlineSecurity OnlineBackup  \\\n",
       "0  No phone service             DSL             No          Yes   \n",
       "1                No             DSL            Yes           No   \n",
       "2                No             DSL            Yes          Yes   \n",
       "3  No phone service             DSL            Yes           No   \n",
       "4                No     Fiber optic             No           No   \n",
       "\n",
       "  DeviceProtection TechSupport StreamingTV StreamingMovies        Contract  \\\n",
       "0               No          No          No              No  Month-to-month   \n",
       "1              Yes          No          No              No        One year   \n",
       "2               No          No          No              No  Month-to-month   \n",
       "3              Yes         Yes          No              No        One year   \n",
       "4               No          No          No              No  Month-to-month   \n",
       "\n",
       "  PaperlessBilling              PaymentMethod  MonthlyCharges  TotalCharges  \n",
       "0              Yes           Electronic check           29.85         29.85  \n",
       "1               No               Mailed check           56.95       1889.50  \n",
       "2              Yes               Mailed check           53.85        108.15  \n",
       "3               No  Bank transfer (automatic)           42.30       1840.75  \n",
       "4              Yes           Electronic check           70.70        151.65  "
      ]
     },
     "execution_count": 273,
     "metadata": {},
     "output_type": "execute_result"
    }
   ],
   "source": [
    "# Independent Variables\n",
    "X = df.drop(columns=['Churn'])\n",
    "X.head()"
   ]
  },
  {
   "cell_type": "code",
   "execution_count": 274,
   "id": "a6ccfd27",
   "metadata": {
    "colab": {
     "base_uri": "https://localhost:8080/",
     "height": 0
    },
    "id": "a6ccfd27",
    "outputId": "239aafc0-9600-482b-81c6-4bacacf0f50f"
   },
   "outputs": [
    {
     "data": {
      "text/html": [
       "<div>\n",
       "<style scoped>\n",
       "    .dataframe tbody tr th:only-of-type {\n",
       "        vertical-align: middle;\n",
       "    }\n",
       "\n",
       "    .dataframe tbody tr th {\n",
       "        vertical-align: top;\n",
       "    }\n",
       "\n",
       "    .dataframe thead th {\n",
       "        text-align: right;\n",
       "    }\n",
       "</style>\n",
       "<table border=\"1\" class=\"dataframe\">\n",
       "  <thead>\n",
       "    <tr style=\"text-align: right;\">\n",
       "      <th></th>\n",
       "      <th>tenure</th>\n",
       "      <th>MonthlyCharges</th>\n",
       "      <th>TotalCharges</th>\n",
       "      <th>gender_Male</th>\n",
       "      <th>SeniorCitizen_1</th>\n",
       "      <th>Partner_Yes</th>\n",
       "      <th>Dependents_Yes</th>\n",
       "      <th>PhoneService_Yes</th>\n",
       "      <th>MultipleLines_No phone service</th>\n",
       "      <th>MultipleLines_Yes</th>\n",
       "      <th>...</th>\n",
       "      <th>StreamingTV_No internet service</th>\n",
       "      <th>StreamingTV_Yes</th>\n",
       "      <th>StreamingMovies_No internet service</th>\n",
       "      <th>StreamingMovies_Yes</th>\n",
       "      <th>Contract_One year</th>\n",
       "      <th>Contract_Two year</th>\n",
       "      <th>PaperlessBilling_Yes</th>\n",
       "      <th>PaymentMethod_Credit card (automatic)</th>\n",
       "      <th>PaymentMethod_Electronic check</th>\n",
       "      <th>PaymentMethod_Mailed check</th>\n",
       "    </tr>\n",
       "  </thead>\n",
       "  <tbody>\n",
       "    <tr>\n",
       "      <th>0</th>\n",
       "      <td>1</td>\n",
       "      <td>29.85</td>\n",
       "      <td>29.85</td>\n",
       "      <td>0</td>\n",
       "      <td>0</td>\n",
       "      <td>1</td>\n",
       "      <td>0</td>\n",
       "      <td>0</td>\n",
       "      <td>1</td>\n",
       "      <td>0</td>\n",
       "      <td>...</td>\n",
       "      <td>0</td>\n",
       "      <td>0</td>\n",
       "      <td>0</td>\n",
       "      <td>0</td>\n",
       "      <td>0</td>\n",
       "      <td>0</td>\n",
       "      <td>1</td>\n",
       "      <td>0</td>\n",
       "      <td>1</td>\n",
       "      <td>0</td>\n",
       "    </tr>\n",
       "    <tr>\n",
       "      <th>1</th>\n",
       "      <td>34</td>\n",
       "      <td>56.95</td>\n",
       "      <td>1889.50</td>\n",
       "      <td>1</td>\n",
       "      <td>0</td>\n",
       "      <td>0</td>\n",
       "      <td>0</td>\n",
       "      <td>1</td>\n",
       "      <td>0</td>\n",
       "      <td>0</td>\n",
       "      <td>...</td>\n",
       "      <td>0</td>\n",
       "      <td>0</td>\n",
       "      <td>0</td>\n",
       "      <td>0</td>\n",
       "      <td>1</td>\n",
       "      <td>0</td>\n",
       "      <td>0</td>\n",
       "      <td>0</td>\n",
       "      <td>0</td>\n",
       "      <td>1</td>\n",
       "    </tr>\n",
       "    <tr>\n",
       "      <th>2</th>\n",
       "      <td>2</td>\n",
       "      <td>53.85</td>\n",
       "      <td>108.15</td>\n",
       "      <td>1</td>\n",
       "      <td>0</td>\n",
       "      <td>0</td>\n",
       "      <td>0</td>\n",
       "      <td>1</td>\n",
       "      <td>0</td>\n",
       "      <td>0</td>\n",
       "      <td>...</td>\n",
       "      <td>0</td>\n",
       "      <td>0</td>\n",
       "      <td>0</td>\n",
       "      <td>0</td>\n",
       "      <td>0</td>\n",
       "      <td>0</td>\n",
       "      <td>1</td>\n",
       "      <td>0</td>\n",
       "      <td>0</td>\n",
       "      <td>1</td>\n",
       "    </tr>\n",
       "    <tr>\n",
       "      <th>3</th>\n",
       "      <td>45</td>\n",
       "      <td>42.30</td>\n",
       "      <td>1840.75</td>\n",
       "      <td>1</td>\n",
       "      <td>0</td>\n",
       "      <td>0</td>\n",
       "      <td>0</td>\n",
       "      <td>0</td>\n",
       "      <td>1</td>\n",
       "      <td>0</td>\n",
       "      <td>...</td>\n",
       "      <td>0</td>\n",
       "      <td>0</td>\n",
       "      <td>0</td>\n",
       "      <td>0</td>\n",
       "      <td>1</td>\n",
       "      <td>0</td>\n",
       "      <td>0</td>\n",
       "      <td>0</td>\n",
       "      <td>0</td>\n",
       "      <td>0</td>\n",
       "    </tr>\n",
       "    <tr>\n",
       "      <th>4</th>\n",
       "      <td>2</td>\n",
       "      <td>70.70</td>\n",
       "      <td>151.65</td>\n",
       "      <td>0</td>\n",
       "      <td>0</td>\n",
       "      <td>0</td>\n",
       "      <td>0</td>\n",
       "      <td>1</td>\n",
       "      <td>0</td>\n",
       "      <td>0</td>\n",
       "      <td>...</td>\n",
       "      <td>0</td>\n",
       "      <td>0</td>\n",
       "      <td>0</td>\n",
       "      <td>0</td>\n",
       "      <td>0</td>\n",
       "      <td>0</td>\n",
       "      <td>1</td>\n",
       "      <td>0</td>\n",
       "      <td>1</td>\n",
       "      <td>0</td>\n",
       "    </tr>\n",
       "    <tr>\n",
       "      <th>5</th>\n",
       "      <td>8</td>\n",
       "      <td>99.65</td>\n",
       "      <td>820.50</td>\n",
       "      <td>0</td>\n",
       "      <td>0</td>\n",
       "      <td>0</td>\n",
       "      <td>0</td>\n",
       "      <td>1</td>\n",
       "      <td>0</td>\n",
       "      <td>1</td>\n",
       "      <td>...</td>\n",
       "      <td>0</td>\n",
       "      <td>1</td>\n",
       "      <td>0</td>\n",
       "      <td>1</td>\n",
       "      <td>0</td>\n",
       "      <td>0</td>\n",
       "      <td>1</td>\n",
       "      <td>0</td>\n",
       "      <td>1</td>\n",
       "      <td>0</td>\n",
       "    </tr>\n",
       "    <tr>\n",
       "      <th>6</th>\n",
       "      <td>22</td>\n",
       "      <td>89.10</td>\n",
       "      <td>1949.40</td>\n",
       "      <td>1</td>\n",
       "      <td>0</td>\n",
       "      <td>0</td>\n",
       "      <td>1</td>\n",
       "      <td>1</td>\n",
       "      <td>0</td>\n",
       "      <td>1</td>\n",
       "      <td>...</td>\n",
       "      <td>0</td>\n",
       "      <td>1</td>\n",
       "      <td>0</td>\n",
       "      <td>0</td>\n",
       "      <td>0</td>\n",
       "      <td>0</td>\n",
       "      <td>1</td>\n",
       "      <td>1</td>\n",
       "      <td>0</td>\n",
       "      <td>0</td>\n",
       "    </tr>\n",
       "    <tr>\n",
       "      <th>7</th>\n",
       "      <td>10</td>\n",
       "      <td>29.75</td>\n",
       "      <td>301.90</td>\n",
       "      <td>0</td>\n",
       "      <td>0</td>\n",
       "      <td>0</td>\n",
       "      <td>0</td>\n",
       "      <td>0</td>\n",
       "      <td>1</td>\n",
       "      <td>0</td>\n",
       "      <td>...</td>\n",
       "      <td>0</td>\n",
       "      <td>0</td>\n",
       "      <td>0</td>\n",
       "      <td>0</td>\n",
       "      <td>0</td>\n",
       "      <td>0</td>\n",
       "      <td>0</td>\n",
       "      <td>0</td>\n",
       "      <td>0</td>\n",
       "      <td>1</td>\n",
       "    </tr>\n",
       "    <tr>\n",
       "      <th>8</th>\n",
       "      <td>28</td>\n",
       "      <td>104.80</td>\n",
       "      <td>3046.05</td>\n",
       "      <td>0</td>\n",
       "      <td>0</td>\n",
       "      <td>1</td>\n",
       "      <td>0</td>\n",
       "      <td>1</td>\n",
       "      <td>0</td>\n",
       "      <td>1</td>\n",
       "      <td>...</td>\n",
       "      <td>0</td>\n",
       "      <td>1</td>\n",
       "      <td>0</td>\n",
       "      <td>1</td>\n",
       "      <td>0</td>\n",
       "      <td>0</td>\n",
       "      <td>1</td>\n",
       "      <td>0</td>\n",
       "      <td>1</td>\n",
       "      <td>0</td>\n",
       "    </tr>\n",
       "    <tr>\n",
       "      <th>9</th>\n",
       "      <td>62</td>\n",
       "      <td>56.15</td>\n",
       "      <td>3487.95</td>\n",
       "      <td>1</td>\n",
       "      <td>0</td>\n",
       "      <td>0</td>\n",
       "      <td>1</td>\n",
       "      <td>1</td>\n",
       "      <td>0</td>\n",
       "      <td>0</td>\n",
       "      <td>...</td>\n",
       "      <td>0</td>\n",
       "      <td>0</td>\n",
       "      <td>0</td>\n",
       "      <td>0</td>\n",
       "      <td>1</td>\n",
       "      <td>0</td>\n",
       "      <td>0</td>\n",
       "      <td>0</td>\n",
       "      <td>0</td>\n",
       "      <td>0</td>\n",
       "    </tr>\n",
       "    <tr>\n",
       "      <th>10</th>\n",
       "      <td>13</td>\n",
       "      <td>49.95</td>\n",
       "      <td>587.45</td>\n",
       "      <td>1</td>\n",
       "      <td>0</td>\n",
       "      <td>1</td>\n",
       "      <td>1</td>\n",
       "      <td>1</td>\n",
       "      <td>0</td>\n",
       "      <td>0</td>\n",
       "      <td>...</td>\n",
       "      <td>0</td>\n",
       "      <td>0</td>\n",
       "      <td>0</td>\n",
       "      <td>0</td>\n",
       "      <td>0</td>\n",
       "      <td>0</td>\n",
       "      <td>1</td>\n",
       "      <td>0</td>\n",
       "      <td>0</td>\n",
       "      <td>1</td>\n",
       "    </tr>\n",
       "    <tr>\n",
       "      <th>11</th>\n",
       "      <td>16</td>\n",
       "      <td>18.95</td>\n",
       "      <td>326.80</td>\n",
       "      <td>1</td>\n",
       "      <td>0</td>\n",
       "      <td>0</td>\n",
       "      <td>0</td>\n",
       "      <td>1</td>\n",
       "      <td>0</td>\n",
       "      <td>0</td>\n",
       "      <td>...</td>\n",
       "      <td>1</td>\n",
       "      <td>0</td>\n",
       "      <td>1</td>\n",
       "      <td>0</td>\n",
       "      <td>0</td>\n",
       "      <td>1</td>\n",
       "      <td>0</td>\n",
       "      <td>1</td>\n",
       "      <td>0</td>\n",
       "      <td>0</td>\n",
       "    </tr>\n",
       "    <tr>\n",
       "      <th>12</th>\n",
       "      <td>58</td>\n",
       "      <td>100.35</td>\n",
       "      <td>5681.10</td>\n",
       "      <td>1</td>\n",
       "      <td>0</td>\n",
       "      <td>1</td>\n",
       "      <td>0</td>\n",
       "      <td>1</td>\n",
       "      <td>0</td>\n",
       "      <td>1</td>\n",
       "      <td>...</td>\n",
       "      <td>0</td>\n",
       "      <td>1</td>\n",
       "      <td>0</td>\n",
       "      <td>1</td>\n",
       "      <td>1</td>\n",
       "      <td>0</td>\n",
       "      <td>0</td>\n",
       "      <td>1</td>\n",
       "      <td>0</td>\n",
       "      <td>0</td>\n",
       "    </tr>\n",
       "    <tr>\n",
       "      <th>13</th>\n",
       "      <td>49</td>\n",
       "      <td>103.70</td>\n",
       "      <td>5036.30</td>\n",
       "      <td>1</td>\n",
       "      <td>0</td>\n",
       "      <td>0</td>\n",
       "      <td>0</td>\n",
       "      <td>1</td>\n",
       "      <td>0</td>\n",
       "      <td>1</td>\n",
       "      <td>...</td>\n",
       "      <td>0</td>\n",
       "      <td>1</td>\n",
       "      <td>0</td>\n",
       "      <td>1</td>\n",
       "      <td>0</td>\n",
       "      <td>0</td>\n",
       "      <td>1</td>\n",
       "      <td>0</td>\n",
       "      <td>0</td>\n",
       "      <td>0</td>\n",
       "    </tr>\n",
       "    <tr>\n",
       "      <th>14</th>\n",
       "      <td>25</td>\n",
       "      <td>105.50</td>\n",
       "      <td>2686.05</td>\n",
       "      <td>1</td>\n",
       "      <td>0</td>\n",
       "      <td>0</td>\n",
       "      <td>0</td>\n",
       "      <td>1</td>\n",
       "      <td>0</td>\n",
       "      <td>0</td>\n",
       "      <td>...</td>\n",
       "      <td>0</td>\n",
       "      <td>1</td>\n",
       "      <td>0</td>\n",
       "      <td>1</td>\n",
       "      <td>0</td>\n",
       "      <td>0</td>\n",
       "      <td>1</td>\n",
       "      <td>0</td>\n",
       "      <td>1</td>\n",
       "      <td>0</td>\n",
       "    </tr>\n",
       "    <tr>\n",
       "      <th>15</th>\n",
       "      <td>69</td>\n",
       "      <td>113.25</td>\n",
       "      <td>7895.15</td>\n",
       "      <td>0</td>\n",
       "      <td>0</td>\n",
       "      <td>1</td>\n",
       "      <td>1</td>\n",
       "      <td>1</td>\n",
       "      <td>0</td>\n",
       "      <td>1</td>\n",
       "      <td>...</td>\n",
       "      <td>0</td>\n",
       "      <td>1</td>\n",
       "      <td>0</td>\n",
       "      <td>1</td>\n",
       "      <td>0</td>\n",
       "      <td>1</td>\n",
       "      <td>0</td>\n",
       "      <td>1</td>\n",
       "      <td>0</td>\n",
       "      <td>0</td>\n",
       "    </tr>\n",
       "    <tr>\n",
       "      <th>16</th>\n",
       "      <td>52</td>\n",
       "      <td>20.65</td>\n",
       "      <td>1022.95</td>\n",
       "      <td>0</td>\n",
       "      <td>0</td>\n",
       "      <td>0</td>\n",
       "      <td>0</td>\n",
       "      <td>1</td>\n",
       "      <td>0</td>\n",
       "      <td>0</td>\n",
       "      <td>...</td>\n",
       "      <td>1</td>\n",
       "      <td>0</td>\n",
       "      <td>1</td>\n",
       "      <td>0</td>\n",
       "      <td>1</td>\n",
       "      <td>0</td>\n",
       "      <td>0</td>\n",
       "      <td>0</td>\n",
       "      <td>0</td>\n",
       "      <td>1</td>\n",
       "    </tr>\n",
       "    <tr>\n",
       "      <th>17</th>\n",
       "      <td>71</td>\n",
       "      <td>106.70</td>\n",
       "      <td>7382.25</td>\n",
       "      <td>1</td>\n",
       "      <td>0</td>\n",
       "      <td>0</td>\n",
       "      <td>1</td>\n",
       "      <td>1</td>\n",
       "      <td>0</td>\n",
       "      <td>1</td>\n",
       "      <td>...</td>\n",
       "      <td>0</td>\n",
       "      <td>1</td>\n",
       "      <td>0</td>\n",
       "      <td>1</td>\n",
       "      <td>0</td>\n",
       "      <td>1</td>\n",
       "      <td>0</td>\n",
       "      <td>0</td>\n",
       "      <td>0</td>\n",
       "      <td>0</td>\n",
       "    </tr>\n",
       "    <tr>\n",
       "      <th>18</th>\n",
       "      <td>10</td>\n",
       "      <td>55.20</td>\n",
       "      <td>528.35</td>\n",
       "      <td>0</td>\n",
       "      <td>0</td>\n",
       "      <td>1</td>\n",
       "      <td>1</td>\n",
       "      <td>1</td>\n",
       "      <td>0</td>\n",
       "      <td>0</td>\n",
       "      <td>...</td>\n",
       "      <td>0</td>\n",
       "      <td>0</td>\n",
       "      <td>0</td>\n",
       "      <td>0</td>\n",
       "      <td>0</td>\n",
       "      <td>0</td>\n",
       "      <td>0</td>\n",
       "      <td>1</td>\n",
       "      <td>0</td>\n",
       "      <td>0</td>\n",
       "    </tr>\n",
       "    <tr>\n",
       "      <th>19</th>\n",
       "      <td>21</td>\n",
       "      <td>90.05</td>\n",
       "      <td>1862.90</td>\n",
       "      <td>0</td>\n",
       "      <td>0</td>\n",
       "      <td>0</td>\n",
       "      <td>0</td>\n",
       "      <td>1</td>\n",
       "      <td>0</td>\n",
       "      <td>0</td>\n",
       "      <td>...</td>\n",
       "      <td>0</td>\n",
       "      <td>0</td>\n",
       "      <td>0</td>\n",
       "      <td>1</td>\n",
       "      <td>0</td>\n",
       "      <td>0</td>\n",
       "      <td>1</td>\n",
       "      <td>0</td>\n",
       "      <td>1</td>\n",
       "      <td>0</td>\n",
       "    </tr>\n",
       "  </tbody>\n",
       "</table>\n",
       "<p>20 rows × 30 columns</p>\n",
       "</div>"
      ],
      "text/plain": [
       "    tenure  MonthlyCharges  TotalCharges  gender_Male  SeniorCitizen_1  \\\n",
       "0        1           29.85         29.85            0                0   \n",
       "1       34           56.95       1889.50            1                0   \n",
       "2        2           53.85        108.15            1                0   \n",
       "3       45           42.30       1840.75            1                0   \n",
       "4        2           70.70        151.65            0                0   \n",
       "5        8           99.65        820.50            0                0   \n",
       "6       22           89.10       1949.40            1                0   \n",
       "7       10           29.75        301.90            0                0   \n",
       "8       28          104.80       3046.05            0                0   \n",
       "9       62           56.15       3487.95            1                0   \n",
       "10      13           49.95        587.45            1                0   \n",
       "11      16           18.95        326.80            1                0   \n",
       "12      58          100.35       5681.10            1                0   \n",
       "13      49          103.70       5036.30            1                0   \n",
       "14      25          105.50       2686.05            1                0   \n",
       "15      69          113.25       7895.15            0                0   \n",
       "16      52           20.65       1022.95            0                0   \n",
       "17      71          106.70       7382.25            1                0   \n",
       "18      10           55.20        528.35            0                0   \n",
       "19      21           90.05       1862.90            0                0   \n",
       "\n",
       "    Partner_Yes  Dependents_Yes  PhoneService_Yes  \\\n",
       "0             1               0                 0   \n",
       "1             0               0                 1   \n",
       "2             0               0                 1   \n",
       "3             0               0                 0   \n",
       "4             0               0                 1   \n",
       "5             0               0                 1   \n",
       "6             0               1                 1   \n",
       "7             0               0                 0   \n",
       "8             1               0                 1   \n",
       "9             0               1                 1   \n",
       "10            1               1                 1   \n",
       "11            0               0                 1   \n",
       "12            1               0                 1   \n",
       "13            0               0                 1   \n",
       "14            0               0                 1   \n",
       "15            1               1                 1   \n",
       "16            0               0                 1   \n",
       "17            0               1                 1   \n",
       "18            1               1                 1   \n",
       "19            0               0                 1   \n",
       "\n",
       "    MultipleLines_No phone service  MultipleLines_Yes  ...  \\\n",
       "0                                1                  0  ...   \n",
       "1                                0                  0  ...   \n",
       "2                                0                  0  ...   \n",
       "3                                1                  0  ...   \n",
       "4                                0                  0  ...   \n",
       "5                                0                  1  ...   \n",
       "6                                0                  1  ...   \n",
       "7                                1                  0  ...   \n",
       "8                                0                  1  ...   \n",
       "9                                0                  0  ...   \n",
       "10                               0                  0  ...   \n",
       "11                               0                  0  ...   \n",
       "12                               0                  1  ...   \n",
       "13                               0                  1  ...   \n",
       "14                               0                  0  ...   \n",
       "15                               0                  1  ...   \n",
       "16                               0                  0  ...   \n",
       "17                               0                  1  ...   \n",
       "18                               0                  0  ...   \n",
       "19                               0                  0  ...   \n",
       "\n",
       "    StreamingTV_No internet service  StreamingTV_Yes  \\\n",
       "0                                 0                0   \n",
       "1                                 0                0   \n",
       "2                                 0                0   \n",
       "3                                 0                0   \n",
       "4                                 0                0   \n",
       "5                                 0                1   \n",
       "6                                 0                1   \n",
       "7                                 0                0   \n",
       "8                                 0                1   \n",
       "9                                 0                0   \n",
       "10                                0                0   \n",
       "11                                1                0   \n",
       "12                                0                1   \n",
       "13                                0                1   \n",
       "14                                0                1   \n",
       "15                                0                1   \n",
       "16                                1                0   \n",
       "17                                0                1   \n",
       "18                                0                0   \n",
       "19                                0                0   \n",
       "\n",
       "    StreamingMovies_No internet service  StreamingMovies_Yes  \\\n",
       "0                                     0                    0   \n",
       "1                                     0                    0   \n",
       "2                                     0                    0   \n",
       "3                                     0                    0   \n",
       "4                                     0                    0   \n",
       "5                                     0                    1   \n",
       "6                                     0                    0   \n",
       "7                                     0                    0   \n",
       "8                                     0                    1   \n",
       "9                                     0                    0   \n",
       "10                                    0                    0   \n",
       "11                                    1                    0   \n",
       "12                                    0                    1   \n",
       "13                                    0                    1   \n",
       "14                                    0                    1   \n",
       "15                                    0                    1   \n",
       "16                                    1                    0   \n",
       "17                                    0                    1   \n",
       "18                                    0                    0   \n",
       "19                                    0                    1   \n",
       "\n",
       "    Contract_One year  Contract_Two year  PaperlessBilling_Yes  \\\n",
       "0                   0                  0                     1   \n",
       "1                   1                  0                     0   \n",
       "2                   0                  0                     1   \n",
       "3                   1                  0                     0   \n",
       "4                   0                  0                     1   \n",
       "5                   0                  0                     1   \n",
       "6                   0                  0                     1   \n",
       "7                   0                  0                     0   \n",
       "8                   0                  0                     1   \n",
       "9                   1                  0                     0   \n",
       "10                  0                  0                     1   \n",
       "11                  0                  1                     0   \n",
       "12                  1                  0                     0   \n",
       "13                  0                  0                     1   \n",
       "14                  0                  0                     1   \n",
       "15                  0                  1                     0   \n",
       "16                  1                  0                     0   \n",
       "17                  0                  1                     0   \n",
       "18                  0                  0                     0   \n",
       "19                  0                  0                     1   \n",
       "\n",
       "    PaymentMethod_Credit card (automatic)  PaymentMethod_Electronic check  \\\n",
       "0                                       0                               1   \n",
       "1                                       0                               0   \n",
       "2                                       0                               0   \n",
       "3                                       0                               0   \n",
       "4                                       0                               1   \n",
       "5                                       0                               1   \n",
       "6                                       1                               0   \n",
       "7                                       0                               0   \n",
       "8                                       0                               1   \n",
       "9                                       0                               0   \n",
       "10                                      0                               0   \n",
       "11                                      1                               0   \n",
       "12                                      1                               0   \n",
       "13                                      0                               0   \n",
       "14                                      0                               1   \n",
       "15                                      1                               0   \n",
       "16                                      0                               0   \n",
       "17                                      0                               0   \n",
       "18                                      1                               0   \n",
       "19                                      0                               1   \n",
       "\n",
       "    PaymentMethod_Mailed check  \n",
       "0                            0  \n",
       "1                            1  \n",
       "2                            1  \n",
       "3                            0  \n",
       "4                            0  \n",
       "5                            0  \n",
       "6                            0  \n",
       "7                            1  \n",
       "8                            0  \n",
       "9                            0  \n",
       "10                           1  \n",
       "11                           0  \n",
       "12                           0  \n",
       "13                           0  \n",
       "14                           0  \n",
       "15                           0  \n",
       "16                           1  \n",
       "17                           0  \n",
       "18                           0  \n",
       "19                           0  \n",
       "\n",
       "[20 rows x 30 columns]"
      ]
     },
     "execution_count": 274,
     "metadata": {},
     "output_type": "execute_result"
    }
   ],
   "source": [
    "# Encode categorical variables\n",
    "# Using Get Dummies method\n",
    "X = pd.get_dummies(X, prefix_sep='_', drop_first=True)\n",
    "X.head(20)"
   ]
  },
  {
   "cell_type": "code",
   "execution_count": 275,
   "id": "2f9661e2",
   "metadata": {
    "colab": {
     "base_uri": "https://localhost:8080/"
    },
    "id": "2f9661e2",
    "outputId": "c10d8ed8-0db7-4fc1-d991-e2f9449ee485"
   },
   "outputs": [
    {
     "data": {
      "text/plain": [
       "0        No\n",
       "1        No\n",
       "2       Yes\n",
       "3        No\n",
       "4       Yes\n",
       "       ... \n",
       "7027     No\n",
       "7028     No\n",
       "7029     No\n",
       "7030    Yes\n",
       "7031     No\n",
       "Name: Churn, Length: 7032, dtype: category\n",
       "Categories (2, object): ['No', 'Yes']"
      ]
     },
     "execution_count": 275,
     "metadata": {},
     "output_type": "execute_result"
    }
   ],
   "source": [
    "# Dependent/Target Variable\n",
    "Y = df['Churn']\n",
    "Y"
   ]
  },
  {
   "cell_type": "markdown",
   "id": "b9894f1e",
   "metadata": {
    "id": "b9894f1e"
   },
   "source": [
    "## F. Split the data into 80% train and 20% test."
   ]
  },
  {
   "cell_type": "code",
   "execution_count": 276,
   "id": "f6e8a427",
   "metadata": {
    "colab": {
     "base_uri": "https://localhost:8080/"
    },
    "id": "f6e8a427",
    "outputId": "9a326b67-46e0-4148-9390-de28348ae365"
   },
   "outputs": [
    {
     "data": {
      "text/plain": [
       "((5625, 30), (1407, 30))"
      ]
     },
     "execution_count": 276,
     "metadata": {},
     "output_type": "execute_result"
    }
   ],
   "source": [
    "# splitting data into training and test set for independent attributes\n",
    "from sklearn.model_selection import train_test_split\n",
    "\n",
    "X_train, X_test, y_train, y_test =train_test_split(X,Y, test_size=.20, random_state=10)\n",
    "\n",
    "X_train.shape, X_test.shape"
   ]
  },
  {
   "cell_type": "markdown",
   "id": "41cf36e6",
   "metadata": {
    "id": "41cf36e6"
   },
   "source": [
    "## G. Normalize/Standardize the data with the best suitable approach."
   ]
  },
  {
   "cell_type": "code",
   "execution_count": 277,
   "id": "ac8f4058",
   "metadata": {
    "colab": {
     "base_uri": "https://localhost:8080/",
     "height": 0
    },
    "id": "ac8f4058",
    "outputId": "069e916f-1604-45e3-8fcd-a21eaea1c4ed"
   },
   "outputs": [
    {
     "data": {
      "text/html": [
       "<div>\n",
       "<style scoped>\n",
       "    .dataframe tbody tr th:only-of-type {\n",
       "        vertical-align: middle;\n",
       "    }\n",
       "\n",
       "    .dataframe tbody tr th {\n",
       "        vertical-align: top;\n",
       "    }\n",
       "\n",
       "    .dataframe thead th {\n",
       "        text-align: right;\n",
       "    }\n",
       "</style>\n",
       "<table border=\"1\" class=\"dataframe\">\n",
       "  <thead>\n",
       "    <tr style=\"text-align: right;\">\n",
       "      <th></th>\n",
       "      <th>tenure</th>\n",
       "      <th>MonthlyCharges</th>\n",
       "      <th>TotalCharges</th>\n",
       "      <th>gender_Male</th>\n",
       "      <th>SeniorCitizen_1</th>\n",
       "      <th>Partner_Yes</th>\n",
       "      <th>Dependents_Yes</th>\n",
       "      <th>PhoneService_Yes</th>\n",
       "      <th>MultipleLines_No phone service</th>\n",
       "      <th>MultipleLines_Yes</th>\n",
       "      <th>...</th>\n",
       "      <th>StreamingTV_No internet service</th>\n",
       "      <th>StreamingTV_Yes</th>\n",
       "      <th>StreamingMovies_No internet service</th>\n",
       "      <th>StreamingMovies_Yes</th>\n",
       "      <th>Contract_One year</th>\n",
       "      <th>Contract_Two year</th>\n",
       "      <th>PaperlessBilling_Yes</th>\n",
       "      <th>PaymentMethod_Credit card (automatic)</th>\n",
       "      <th>PaymentMethod_Electronic check</th>\n",
       "      <th>PaymentMethod_Mailed check</th>\n",
       "    </tr>\n",
       "  </thead>\n",
       "  <tbody>\n",
       "    <tr>\n",
       "      <th>0</th>\n",
       "      <td>-1.297499</td>\n",
       "      <td>0.861739</td>\n",
       "      <td>-0.978569</td>\n",
       "      <td>0.980109</td>\n",
       "      <td>-0.443918</td>\n",
       "      <td>-0.967979</td>\n",
       "      <td>1.516285</td>\n",
       "      <td>0.326876</td>\n",
       "      <td>-0.326876</td>\n",
       "      <td>-0.858594</td>\n",
       "      <td>...</td>\n",
       "      <td>-0.525166</td>\n",
       "      <td>1.258503</td>\n",
       "      <td>-0.525166</td>\n",
       "      <td>1.248191</td>\n",
       "      <td>-0.513577</td>\n",
       "      <td>-0.561404</td>\n",
       "      <td>0.822862</td>\n",
       "      <td>-0.531223</td>\n",
       "      <td>1.414779</td>\n",
       "      <td>-0.541665</td>\n",
       "    </tr>\n",
       "    <tr>\n",
       "      <th>1</th>\n",
       "      <td>-0.521791</td>\n",
       "      <td>0.840135</td>\n",
       "      <td>-0.233205</td>\n",
       "      <td>0.980109</td>\n",
       "      <td>-0.443918</td>\n",
       "      <td>1.033080</td>\n",
       "      <td>1.516285</td>\n",
       "      <td>0.326876</td>\n",
       "      <td>-0.326876</td>\n",
       "      <td>-0.858594</td>\n",
       "      <td>...</td>\n",
       "      <td>-0.525166</td>\n",
       "      <td>1.258503</td>\n",
       "      <td>-0.525166</td>\n",
       "      <td>1.248191</td>\n",
       "      <td>-0.513577</td>\n",
       "      <td>-0.561404</td>\n",
       "      <td>0.822862</td>\n",
       "      <td>-0.531223</td>\n",
       "      <td>1.414779</td>\n",
       "      <td>-0.541665</td>\n",
       "    </tr>\n",
       "    <tr>\n",
       "      <th>2</th>\n",
       "      <td>1.560372</td>\n",
       "      <td>1.072790</td>\n",
       "      <td>2.036780</td>\n",
       "      <td>0.980109</td>\n",
       "      <td>-0.443918</td>\n",
       "      <td>1.033080</td>\n",
       "      <td>1.516285</td>\n",
       "      <td>0.326876</td>\n",
       "      <td>-0.326876</td>\n",
       "      <td>1.164695</td>\n",
       "      <td>...</td>\n",
       "      <td>-0.525166</td>\n",
       "      <td>1.258503</td>\n",
       "      <td>-0.525166</td>\n",
       "      <td>1.248191</td>\n",
       "      <td>-0.513577</td>\n",
       "      <td>1.781249</td>\n",
       "      <td>0.822862</td>\n",
       "      <td>-0.531223</td>\n",
       "      <td>1.414779</td>\n",
       "      <td>-0.541665</td>\n",
       "    </tr>\n",
       "    <tr>\n",
       "      <th>3</th>\n",
       "      <td>1.356239</td>\n",
       "      <td>-1.178976</td>\n",
       "      <td>-0.141853</td>\n",
       "      <td>0.980109</td>\n",
       "      <td>-0.443918</td>\n",
       "      <td>-0.967979</td>\n",
       "      <td>-0.659507</td>\n",
       "      <td>-3.059267</td>\n",
       "      <td>3.059267</td>\n",
       "      <td>-0.858594</td>\n",
       "      <td>...</td>\n",
       "      <td>-0.525166</td>\n",
       "      <td>-0.794595</td>\n",
       "      <td>-0.525166</td>\n",
       "      <td>-0.801159</td>\n",
       "      <td>1.947129</td>\n",
       "      <td>-0.561404</td>\n",
       "      <td>-1.215271</td>\n",
       "      <td>1.882450</td>\n",
       "      <td>-0.706824</td>\n",
       "      <td>-0.541665</td>\n",
       "    </tr>\n",
       "    <tr>\n",
       "      <th>4</th>\n",
       "      <td>-0.399311</td>\n",
       "      <td>0.870048</td>\n",
       "      <td>-0.046720</td>\n",
       "      <td>-1.020295</td>\n",
       "      <td>-0.443918</td>\n",
       "      <td>1.033080</td>\n",
       "      <td>1.516285</td>\n",
       "      <td>0.326876</td>\n",
       "      <td>-0.326876</td>\n",
       "      <td>1.164695</td>\n",
       "      <td>...</td>\n",
       "      <td>-0.525166</td>\n",
       "      <td>1.258503</td>\n",
       "      <td>-0.525166</td>\n",
       "      <td>1.248191</td>\n",
       "      <td>-0.513577</td>\n",
       "      <td>1.781249</td>\n",
       "      <td>0.822862</td>\n",
       "      <td>1.882450</td>\n",
       "      <td>-0.706824</td>\n",
       "      <td>-0.541665</td>\n",
       "    </tr>\n",
       "  </tbody>\n",
       "</table>\n",
       "<p>5 rows × 30 columns</p>\n",
       "</div>"
      ],
      "text/plain": [
       "     tenure  MonthlyCharges  TotalCharges  gender_Male  SeniorCitizen_1  \\\n",
       "0 -1.297499        0.861739     -0.978569     0.980109        -0.443918   \n",
       "1 -0.521791        0.840135     -0.233205     0.980109        -0.443918   \n",
       "2  1.560372        1.072790      2.036780     0.980109        -0.443918   \n",
       "3  1.356239       -1.178976     -0.141853     0.980109        -0.443918   \n",
       "4 -0.399311        0.870048     -0.046720    -1.020295        -0.443918   \n",
       "\n",
       "   Partner_Yes  Dependents_Yes  PhoneService_Yes  \\\n",
       "0    -0.967979        1.516285          0.326876   \n",
       "1     1.033080        1.516285          0.326876   \n",
       "2     1.033080        1.516285          0.326876   \n",
       "3    -0.967979       -0.659507         -3.059267   \n",
       "4     1.033080        1.516285          0.326876   \n",
       "\n",
       "   MultipleLines_No phone service  MultipleLines_Yes  ...  \\\n",
       "0                       -0.326876          -0.858594  ...   \n",
       "1                       -0.326876          -0.858594  ...   \n",
       "2                       -0.326876           1.164695  ...   \n",
       "3                        3.059267          -0.858594  ...   \n",
       "4                       -0.326876           1.164695  ...   \n",
       "\n",
       "   StreamingTV_No internet service  StreamingTV_Yes  \\\n",
       "0                        -0.525166         1.258503   \n",
       "1                        -0.525166         1.258503   \n",
       "2                        -0.525166         1.258503   \n",
       "3                        -0.525166        -0.794595   \n",
       "4                        -0.525166         1.258503   \n",
       "\n",
       "   StreamingMovies_No internet service  StreamingMovies_Yes  \\\n",
       "0                            -0.525166             1.248191   \n",
       "1                            -0.525166             1.248191   \n",
       "2                            -0.525166             1.248191   \n",
       "3                            -0.525166            -0.801159   \n",
       "4                            -0.525166             1.248191   \n",
       "\n",
       "   Contract_One year  Contract_Two year  PaperlessBilling_Yes  \\\n",
       "0          -0.513577          -0.561404              0.822862   \n",
       "1          -0.513577          -0.561404              0.822862   \n",
       "2          -0.513577           1.781249              0.822862   \n",
       "3           1.947129          -0.561404             -1.215271   \n",
       "4          -0.513577           1.781249              0.822862   \n",
       "\n",
       "   PaymentMethod_Credit card (automatic)  PaymentMethod_Electronic check  \\\n",
       "0                              -0.531223                        1.414779   \n",
       "1                              -0.531223                        1.414779   \n",
       "2                              -0.531223                        1.414779   \n",
       "3                               1.882450                       -0.706824   \n",
       "4                               1.882450                       -0.706824   \n",
       "\n",
       "   PaymentMethod_Mailed check  \n",
       "0                   -0.541665  \n",
       "1                   -0.541665  \n",
       "2                   -0.541665  \n",
       "3                   -0.541665  \n",
       "4                   -0.541665  \n",
       "\n",
       "[5 rows x 30 columns]"
      ]
     },
     "execution_count": 277,
     "metadata": {},
     "output_type": "execute_result"
    }
   ],
   "source": [
    "# Standardize Training Data\n",
    "# Import Library\n",
    "from sklearn.preprocessing import StandardScaler\n",
    "# Define method\n",
    "scaler = StandardScaler()\n",
    "# Perform standardization\n",
    "normalized_x_train = pd.DataFrame(scaler.fit_transform(X_train), columns = X_train.columns)\n",
    "normalized_x_train.head()"
   ]
  },
  {
   "cell_type": "code",
   "execution_count": 278,
   "id": "c54df933",
   "metadata": {
    "colab": {
     "base_uri": "https://localhost:8080/",
     "height": 0
    },
    "id": "c54df933",
    "outputId": "8b46d9b2-85a2-4a00-a09b-feaf19e63eec"
   },
   "outputs": [
    {
     "data": {
      "text/html": [
       "<div>\n",
       "<style scoped>\n",
       "    .dataframe tbody tr th:only-of-type {\n",
       "        vertical-align: middle;\n",
       "    }\n",
       "\n",
       "    .dataframe tbody tr th {\n",
       "        vertical-align: top;\n",
       "    }\n",
       "\n",
       "    .dataframe thead th {\n",
       "        text-align: right;\n",
       "    }\n",
       "</style>\n",
       "<table border=\"1\" class=\"dataframe\">\n",
       "  <thead>\n",
       "    <tr style=\"text-align: right;\">\n",
       "      <th></th>\n",
       "      <th>tenure</th>\n",
       "      <th>MonthlyCharges</th>\n",
       "      <th>TotalCharges</th>\n",
       "      <th>gender_Male</th>\n",
       "      <th>SeniorCitizen_1</th>\n",
       "      <th>Partner_Yes</th>\n",
       "      <th>Dependents_Yes</th>\n",
       "      <th>PhoneService_Yes</th>\n",
       "      <th>MultipleLines_No phone service</th>\n",
       "      <th>MultipleLines_Yes</th>\n",
       "      <th>...</th>\n",
       "      <th>StreamingTV_No internet service</th>\n",
       "      <th>StreamingTV_Yes</th>\n",
       "      <th>StreamingMovies_No internet service</th>\n",
       "      <th>StreamingMovies_Yes</th>\n",
       "      <th>Contract_One year</th>\n",
       "      <th>Contract_Two year</th>\n",
       "      <th>PaperlessBilling_Yes</th>\n",
       "      <th>PaymentMethod_Credit card (automatic)</th>\n",
       "      <th>PaymentMethod_Electronic check</th>\n",
       "      <th>PaymentMethod_Mailed check</th>\n",
       "    </tr>\n",
       "  </thead>\n",
       "  <tbody>\n",
       "    <tr>\n",
       "      <th>0</th>\n",
       "      <td>-0.072697</td>\n",
       "      <td>-1.478104</td>\n",
       "      <td>-0.736393</td>\n",
       "      <td>0.980109</td>\n",
       "      <td>-0.443918</td>\n",
       "      <td>-0.967979</td>\n",
       "      <td>-0.659507</td>\n",
       "      <td>0.326876</td>\n",
       "      <td>-0.326876</td>\n",
       "      <td>-0.858594</td>\n",
       "      <td>...</td>\n",
       "      <td>1.904159</td>\n",
       "      <td>-0.794595</td>\n",
       "      <td>1.904159</td>\n",
       "      <td>-0.801159</td>\n",
       "      <td>-0.513577</td>\n",
       "      <td>1.781249</td>\n",
       "      <td>-1.215271</td>\n",
       "      <td>-0.531223</td>\n",
       "      <td>-0.706824</td>\n",
       "      <td>1.846160</td>\n",
       "    </tr>\n",
       "    <tr>\n",
       "      <th>1</th>\n",
       "      <td>1.601199</td>\n",
       "      <td>-1.326878</td>\n",
       "      <td>-0.201081</td>\n",
       "      <td>-1.020295</td>\n",
       "      <td>-0.443918</td>\n",
       "      <td>1.033080</td>\n",
       "      <td>-0.659507</td>\n",
       "      <td>0.326876</td>\n",
       "      <td>-0.326876</td>\n",
       "      <td>1.164695</td>\n",
       "      <td>...</td>\n",
       "      <td>1.904159</td>\n",
       "      <td>-0.794595</td>\n",
       "      <td>1.904159</td>\n",
       "      <td>-0.801159</td>\n",
       "      <td>-0.513577</td>\n",
       "      <td>1.781249</td>\n",
       "      <td>-1.215271</td>\n",
       "      <td>1.882450</td>\n",
       "      <td>-0.706824</td>\n",
       "      <td>-0.541665</td>\n",
       "    </tr>\n",
       "    <tr>\n",
       "      <th>2</th>\n",
       "      <td>-0.766751</td>\n",
       "      <td>-0.193517</td>\n",
       "      <td>-0.677010</td>\n",
       "      <td>-1.020295</td>\n",
       "      <td>-0.443918</td>\n",
       "      <td>-0.967979</td>\n",
       "      <td>-0.659507</td>\n",
       "      <td>0.326876</td>\n",
       "      <td>-0.326876</td>\n",
       "      <td>-0.858594</td>\n",
       "      <td>...</td>\n",
       "      <td>-0.525166</td>\n",
       "      <td>-0.794595</td>\n",
       "      <td>-0.525166</td>\n",
       "      <td>1.248191</td>\n",
       "      <td>1.947129</td>\n",
       "      <td>-0.561404</td>\n",
       "      <td>-1.215271</td>\n",
       "      <td>1.882450</td>\n",
       "      <td>-0.706824</td>\n",
       "      <td>-0.541665</td>\n",
       "    </tr>\n",
       "    <tr>\n",
       "      <th>3</th>\n",
       "      <td>-0.480964</td>\n",
       "      <td>-1.494722</td>\n",
       "      <td>-0.834621</td>\n",
       "      <td>0.980109</td>\n",
       "      <td>-0.443918</td>\n",
       "      <td>-0.967979</td>\n",
       "      <td>-0.659507</td>\n",
       "      <td>0.326876</td>\n",
       "      <td>-0.326876</td>\n",
       "      <td>-0.858594</td>\n",
       "      <td>...</td>\n",
       "      <td>1.904159</td>\n",
       "      <td>-0.794595</td>\n",
       "      <td>1.904159</td>\n",
       "      <td>-0.801159</td>\n",
       "      <td>-0.513577</td>\n",
       "      <td>-0.561404</td>\n",
       "      <td>0.822862</td>\n",
       "      <td>-0.531223</td>\n",
       "      <td>-0.706824</td>\n",
       "      <td>1.846160</td>\n",
       "    </tr>\n",
       "    <tr>\n",
       "      <th>4</th>\n",
       "      <td>1.601199</td>\n",
       "      <td>0.637393</td>\n",
       "      <td>1.691601</td>\n",
       "      <td>-1.020295</td>\n",
       "      <td>2.252668</td>\n",
       "      <td>1.033080</td>\n",
       "      <td>-0.659507</td>\n",
       "      <td>0.326876</td>\n",
       "      <td>-0.326876</td>\n",
       "      <td>1.164695</td>\n",
       "      <td>...</td>\n",
       "      <td>-0.525166</td>\n",
       "      <td>1.258503</td>\n",
       "      <td>-0.525166</td>\n",
       "      <td>1.248191</td>\n",
       "      <td>-0.513577</td>\n",
       "      <td>1.781249</td>\n",
       "      <td>0.822862</td>\n",
       "      <td>1.882450</td>\n",
       "      <td>-0.706824</td>\n",
       "      <td>-0.541665</td>\n",
       "    </tr>\n",
       "  </tbody>\n",
       "</table>\n",
       "<p>5 rows × 30 columns</p>\n",
       "</div>"
      ],
      "text/plain": [
       "     tenure  MonthlyCharges  TotalCharges  gender_Male  SeniorCitizen_1  \\\n",
       "0 -0.072697       -1.478104     -0.736393     0.980109        -0.443918   \n",
       "1  1.601199       -1.326878     -0.201081    -1.020295        -0.443918   \n",
       "2 -0.766751       -0.193517     -0.677010    -1.020295        -0.443918   \n",
       "3 -0.480964       -1.494722     -0.834621     0.980109        -0.443918   \n",
       "4  1.601199        0.637393      1.691601    -1.020295         2.252668   \n",
       "\n",
       "   Partner_Yes  Dependents_Yes  PhoneService_Yes  \\\n",
       "0    -0.967979       -0.659507          0.326876   \n",
       "1     1.033080       -0.659507          0.326876   \n",
       "2    -0.967979       -0.659507          0.326876   \n",
       "3    -0.967979       -0.659507          0.326876   \n",
       "4     1.033080       -0.659507          0.326876   \n",
       "\n",
       "   MultipleLines_No phone service  MultipleLines_Yes  ...  \\\n",
       "0                       -0.326876          -0.858594  ...   \n",
       "1                       -0.326876           1.164695  ...   \n",
       "2                       -0.326876          -0.858594  ...   \n",
       "3                       -0.326876          -0.858594  ...   \n",
       "4                       -0.326876           1.164695  ...   \n",
       "\n",
       "   StreamingTV_No internet service  StreamingTV_Yes  \\\n",
       "0                         1.904159        -0.794595   \n",
       "1                         1.904159        -0.794595   \n",
       "2                        -0.525166        -0.794595   \n",
       "3                         1.904159        -0.794595   \n",
       "4                        -0.525166         1.258503   \n",
       "\n",
       "   StreamingMovies_No internet service  StreamingMovies_Yes  \\\n",
       "0                             1.904159            -0.801159   \n",
       "1                             1.904159            -0.801159   \n",
       "2                            -0.525166             1.248191   \n",
       "3                             1.904159            -0.801159   \n",
       "4                            -0.525166             1.248191   \n",
       "\n",
       "   Contract_One year  Contract_Two year  PaperlessBilling_Yes  \\\n",
       "0          -0.513577           1.781249             -1.215271   \n",
       "1          -0.513577           1.781249             -1.215271   \n",
       "2           1.947129          -0.561404             -1.215271   \n",
       "3          -0.513577          -0.561404              0.822862   \n",
       "4          -0.513577           1.781249              0.822862   \n",
       "\n",
       "   PaymentMethod_Credit card (automatic)  PaymentMethod_Electronic check  \\\n",
       "0                              -0.531223                       -0.706824   \n",
       "1                               1.882450                       -0.706824   \n",
       "2                               1.882450                       -0.706824   \n",
       "3                              -0.531223                       -0.706824   \n",
       "4                               1.882450                       -0.706824   \n",
       "\n",
       "   PaymentMethod_Mailed check  \n",
       "0                    1.846160  \n",
       "1                   -0.541665  \n",
       "2                   -0.541665  \n",
       "3                    1.846160  \n",
       "4                   -0.541665  \n",
       "\n",
       "[5 rows x 30 columns]"
      ]
     },
     "execution_count": 278,
     "metadata": {},
     "output_type": "execute_result"
    }
   ],
   "source": [
    "# Standardize Test Data\n",
    "normalized_x_test = pd.DataFrame(scaler.transform(X_test), columns = X_test.columns)\n",
    "normalized_x_test.head()"
   ]
  },
  {
   "cell_type": "markdown",
   "id": "7cc50f33",
   "metadata": {
    "id": "7cc50f33"
   },
   "source": [
    "# 3. Model building and Improvement:\n",
    "## A. Train a model using XGBoost. Also print best performing parameters along with train and test performance."
   ]
  },
  {
   "cell_type": "code",
   "execution_count": 279,
   "id": "eed08772",
   "metadata": {
    "colab": {
     "base_uri": "https://localhost:8080/"
    },
    "id": "eed08772",
    "outputId": "1295c2d5-18df-4eb1-e6c3-683964c1dddf"
   },
   "outputs": [
    {
     "name": "stderr",
     "output_type": "stream",
     "text": [
      "C:\\Users\\vikas\\anaconda3\\lib\\site-packages\\xgboost\\sklearn.py:1224: UserWarning: The use of label encoder in XGBClassifier is deprecated and will be removed in a future release. To remove this warning, do the following: 1) Pass option use_label_encoder=False when constructing XGBClassifier object; and 2) Encode your labels (y) as integers starting with 0, i.e. 0, 1, 2, ..., [num_class - 1].\n",
      "  warnings.warn(label_encoder_deprecation_msg, UserWarning)\n",
      "C:\\Users\\vikas\\anaconda3\\lib\\site-packages\\xgboost\\data.py:250: FutureWarning: pandas.Int64Index is deprecated and will be removed from pandas in a future version. Use pandas.Index with the appropriate dtype instead.\n",
      "  elif isinstance(data.columns, (pd.Int64Index, pd.RangeIndex)):\n"
     ]
    },
    {
     "name": "stdout",
     "output_type": "stream",
     "text": [
      "[17:39:56] WARNING: C:\\Windows\\Temp\\abs_557yfx631l\\croots\\recipe\\xgboost-split_1659548953302\\work\\src\\learner.cc:1115: Starting in XGBoost 1.3.0, the default evaluation metric used with the objective 'binary:logistic' was changed from 'error' to 'logloss'. Explicitly set eval_metric if you'd like to restore the old behavior.\n"
     ]
    },
    {
     "data": {
      "text/plain": [
       "XGBClassifier(base_score=0.5, booster='gbtree', colsample_bylevel=1,\n",
       "              colsample_bynode=1, colsample_bytree=1, enable_categorical=False,\n",
       "              gamma=0, gpu_id=-1, importance_type=None,\n",
       "              interaction_constraints='', learning_rate=0.300000012,\n",
       "              max_delta_step=0, max_depth=6, min_child_weight=1, missing=nan,\n",
       "              monotone_constraints='()', n_estimators=100, n_jobs=4,\n",
       "              num_parallel_tree=1, predictor='auto', random_state=1,\n",
       "              reg_alpha=0, reg_lambda=1, scale_pos_weight=1, subsample=1,\n",
       "              tree_method='exact', validate_parameters=1, verbosity=None)"
      ]
     },
     "execution_count": 279,
     "metadata": {},
     "output_type": "execute_result"
    }
   ],
   "source": [
    "# Import XGBoost Library\n",
    "import xgboost as xgb\n",
    "\n",
    "xgb_model = xgb.XGBClassifier(random_state=1)\n",
    "xgb_model.fit(normalized_x_train, y_train)"
   ]
  },
  {
   "cell_type": "code",
   "execution_count": 280,
   "id": "d2e8bb5b",
   "metadata": {
    "colab": {
     "base_uri": "https://localhost:8080/",
     "height": 295
    },
    "id": "d2e8bb5b",
    "outputId": "6ac3901a-70ab-4c1f-a851-262dbd401ea8"
   },
   "outputs": [
    {
     "data": {
      "image/png": "[encoded data removed]",
      "text/plain": [
       "<Figure size 432x288 with 1 Axes>"
      ]
     },
     "metadata": {
      "needs_background": "light"
     },
     "output_type": "display_data"
    }
   ],
   "source": [
    "# Feature Importance Plot\n",
    "xgb.plot_importance(xgb_model);"
   ]
  },
  {
   "cell_type": "code",
   "execution_count": 281,
   "id": "f130c8f9",
   "metadata": {
    "colab": {
     "base_uri": "https://localhost:8080/"
    },
    "id": "f130c8f9",
    "outputId": "b61670cf-a048-4dac-8d7d-cdf5682b852a"
   },
   "outputs": [
    {
     "name": "stdout",
     "output_type": "stream",
     "text": [
      "[[926 120]\n",
      " [160 201]]\n"
     ]
    }
   ],
   "source": [
    "from sklearn import metrics\n",
    "from sklearn.metrics import accuracy_score,f1_score,recall_score,precision_score, confusion_matrix\n",
    "\n",
    "y_pred = xgb_model.predict(normalized_x_test)\n",
    "\n",
    "# Print Confusion Matrix\n",
    "print(confusion_matrix(y_test, y_pred))"
   ]
  },
  {
   "cell_type": "code",
   "execution_count": 282,
   "id": "78a524d7",
   "metadata": {
    "colab": {
     "base_uri": "https://localhost:8080/"
    },
    "id": "78a524d7",
    "outputId": "ec2ae886-b566-4adb-f6ae-65d9c485bf5b"
   },
   "outputs": [
    {
     "name": "stdout",
     "output_type": "stream",
     "text": [
      "\n",
      "Target on train data ['Yes' 'Yes' 'No' ... 'No' 'Yes' 'No']\n",
      "\n",
      "accuracy_score on train dataset :  0.9377777777777778\n"
     ]
    }
   ],
   "source": [
    "# predict the target on the train dataset\n",
    "predict_train = xgb_model.predict(normalized_x_train)\n",
    "print('\\nTarget on train data',predict_train) \n",
    "\n",
    "# Accuray Score on train dataset\n",
    "accuracy_train = accuracy_score(y_train,predict_train)\n",
    "print('\\naccuracy_score on train dataset : ', accuracy_train)"
   ]
  },
  {
   "cell_type": "code",
   "execution_count": 283,
   "id": "028e7e20",
   "metadata": {
    "colab": {
     "base_uri": "https://localhost:8080/"
    },
    "id": "028e7e20",
    "outputId": "c7a439b5-3806-427b-b783-b9da74899544"
   },
   "outputs": [
    {
     "name": "stdout",
     "output_type": "stream",
     "text": [
      "\n",
      "Target on test data ['No' 'No' 'No' ... 'No' 'No' 'No']\n",
      "\n",
      "accuracy_score on test dataset :  0.8009950248756219\n"
     ]
    }
   ],
   "source": [
    "# predict the target on the test dataset\n",
    "predict_test = xgb_model.predict(normalized_x_test)\n",
    "print('\\nTarget on test data',predict_test) \n",
    "\n",
    "# Accuracy Score on test dataset\n",
    "accuracy_test = accuracy_score(y_test,predict_test)\n",
    "print('\\naccuracy_score on test dataset : ', accuracy_test)"
   ]
  },
  {
   "cell_type": "markdown",
   "id": "1f8fec43",
   "metadata": {
    "id": "1f8fec43"
   },
   "source": [
    "## B. Improve performance of the XGBoost as much as possible. Also print best performing parameters along with train and test performance."
   ]
  },
  {
   "cell_type": "code",
   "execution_count": 284,
   "id": "9894541f",
   "metadata": {
    "colab": {
     "base_uri": "https://localhost:8080/"
    },
    "id": "9894541f",
    "outputId": "59e3606a-a7ff-4efb-ee65-ab35eee19faa"
   },
   "outputs": [
    {
     "name": "stdout",
     "output_type": "stream",
     "text": [
      "[0]\tvalidation_0-auc:0.83705\n",
      "[1]\tvalidation_0-auc:0.84753\n",
      "[2]\tvalidation_0-auc:0.85023\n",
      "[3]\tvalidation_0-auc:0.85423\n",
      "[4]\tvalidation_0-auc:0.85495\n",
      "[5]\tvalidation_0-auc:0.85637\n",
      "[6]\tvalidation_0-auc:0.85517\n",
      "[7]\tvalidation_0-auc:0.85617\n",
      "[8]\tvalidation_0-auc:0.85564\n"
     ]
    },
    {
     "name": "stderr",
     "output_type": "stream",
     "text": [
      "C:\\Users\\vikas\\anaconda3\\lib\\site-packages\\xgboost\\sklearn.py:1224: UserWarning: The use of label encoder in XGBClassifier is deprecated and will be removed in a future release. To remove this warning, do the following: 1) Pass option use_label_encoder=False when constructing XGBClassifier object; and 2) Encode your labels (y) as integers starting with 0, i.e. 0, 1, 2, ..., [num_class - 1].\n",
      "  warnings.warn(label_encoder_deprecation_msg, UserWarning)\n",
      "C:\\Users\\vikas\\anaconda3\\lib\\site-packages\\xgboost\\data.py:250: FutureWarning: pandas.Int64Index is deprecated and will be removed from pandas in a future version. Use pandas.Index with the appropriate dtype instead.\n",
      "  elif isinstance(data.columns, (pd.Int64Index, pd.RangeIndex)):\n"
     ]
    },
    {
     "name": "stdout",
     "output_type": "stream",
     "text": [
      "[9]\tvalidation_0-auc:0.85580\n",
      "[10]\tvalidation_0-auc:0.85515\n",
      "[11]\tvalidation_0-auc:0.85422\n",
      "[12]\tvalidation_0-auc:0.85310\n",
      "[13]\tvalidation_0-auc:0.85284\n",
      "[14]\tvalidation_0-auc:0.85223\n"
     ]
    },
    {
     "data": {
      "text/plain": [
       "0.8088130774697939"
      ]
     },
     "execution_count": 284,
     "metadata": {},
     "output_type": "execute_result"
    }
   ],
   "source": [
    "# Early Stopping\n",
    "\n",
    "xgb_model = xgb.XGBClassifier(objective=\"binary:logistic\", random_state=1, eval_metric=\"auc\")\n",
    "\n",
    "xgb_model.fit(normalized_x_train, y_train, early_stopping_rounds=10, eval_set=[(normalized_x_test, y_test)])\n",
    "\n",
    "y_pred = xgb_model.predict(normalized_x_test)\n",
    "\n",
    "accuracy_score(y_test, y_pred)"
   ]
  },
  {
   "cell_type": "code",
   "execution_count": 285,
   "id": "1ee6c9cc",
   "metadata": {
    "colab": {
     "base_uri": "https://localhost:8080/"
    },
    "id": "1ee6c9cc",
    "outputId": "52ef76c6-d04a-4e8d-f940-0b385555678e"
   },
   "outputs": [
    {
     "name": "stdout",
     "output_type": "stream",
     "text": [
      "best score: 0.85637, best iteration: 5, best ntree limit 6\n"
     ]
    }
   ],
   "source": [
    "print(\"best score: {0}, best iteration: {1}, best ntree limit {2}\".format(xgb_model.best_score, xgb_model.best_iteration, xgb_model.best_ntree_limit))"
   ]
  },
  {
   "cell_type": "code",
   "execution_count": 286,
   "id": "e56dcc2f",
   "metadata": {
    "colab": {
     "base_uri": "https://localhost:8080/"
    },
    "id": "e56dcc2f",
    "outputId": "a89f0ee8-d4c6-4c61-bd49-cecee0e1b3c6"
   },
   "outputs": [
    {
     "name": "stdout",
     "output_type": "stream",
     "text": [
      "[[924 122]\n",
      " [147 214]]\n"
     ]
    }
   ],
   "source": [
    "# Print Confusion Matrix\n",
    "print(confusion_matrix(y_test, y_pred))"
   ]
  },
  {
   "cell_type": "code",
   "execution_count": 287,
   "id": "274cb3ad",
   "metadata": {
    "colab": {
     "base_uri": "https://localhost:8080/"
    },
    "id": "274cb3ad",
    "outputId": "3c32a6b1-0aaf-4f94-cf54-303c57ab2110"
   },
   "outputs": [
    {
     "name": "stdout",
     "output_type": "stream",
     "text": [
      "\n",
      "Target on train data ['Yes' 'Yes' 'No' ... 'No' 'Yes' 'No']\n",
      "\n",
      "accuracy_score on train dataset :  0.8183111111111111\n"
     ]
    }
   ],
   "source": [
    "# predict the target on the train dataset\n",
    "predict_train = xgb_model.predict(normalized_x_train)\n",
    "print('\\nTarget on train data',predict_train) \n",
    "\n",
    "# Accuray Score on train dataset\n",
    "accuracy_train = accuracy_score(y_train,predict_train)\n",
    "print('\\naccuracy_score on train dataset : ', accuracy_train)"
   ]
  },
  {
   "cell_type": "code",
   "execution_count": 288,
   "id": "327dca89",
   "metadata": {
    "colab": {
     "base_uri": "https://localhost:8080/"
    },
    "id": "327dca89",
    "outputId": "f186d3d7-32eb-43e1-ce3f-b7bf25e0246e"
   },
   "outputs": [
    {
     "name": "stdout",
     "output_type": "stream",
     "text": [
      "\n",
      "Target on test data ['No' 'No' 'No' ... 'No' 'No' 'No']\n",
      "\n",
      "accuracy_score on test dataset :  0.8088130774697939\n"
     ]
    }
   ],
   "source": [
    "# predict the target on the test dataset\n",
    "predict_test = xgb_model.predict(normalized_x_test)\n",
    "print('\\nTarget on test data',predict_test) \n",
    "\n",
    "# Accuracy Score on test dataset\n",
    "accuracy_test = accuracy_score(y_test,predict_test)\n",
    "print('\\naccuracy_score on test dataset : ', accuracy_test)"
   ]
  },
  {
   "cell_type": "code",
   "execution_count": 289,
   "id": "956762fa",
   "metadata": {
    "colab": {
     "base_uri": "https://localhost:8080/"
    },
    "id": "956762fa",
    "outputId": "4f192a9f-62e0-44b0-9999-7dc8d237687d"
   },
   "outputs": [
    {
     "name": "stdout",
     "output_type": "stream",
     "text": [
      "[17:39:59] WARNING: C:\\Windows\\Temp\\abs_557yfx631l\\croots\\recipe\\xgboost-split_1659548953302\\work\\src\\learner.cc:1115: Starting in XGBoost 1.3.0, the default evaluation metric used with the objective 'binary:logistic' was changed from 'error' to 'logloss'. Explicitly set eval_metric if you'd like to restore the old behavior.\n"
     ]
    },
    {
     "name": "stderr",
     "output_type": "stream",
     "text": [
      "C:\\Users\\vikas\\anaconda3\\lib\\site-packages\\xgboost\\sklearn.py:1224: UserWarning: The use of label encoder in XGBClassifier is deprecated and will be removed in a future release. To remove this warning, do the following: 1) Pass option use_label_encoder=False when constructing XGBClassifier object; and 2) Encode your labels (y) as integers starting with 0, i.e. 0, 1, 2, ..., [num_class - 1].\n",
      "  warnings.warn(label_encoder_deprecation_msg, UserWarning)\n",
      "C:\\Users\\vikas\\anaconda3\\lib\\site-packages\\xgboost\\data.py:250: FutureWarning: pandas.Int64Index is deprecated and will be removed from pandas in a future version. Use pandas.Index with the appropriate dtype instead.\n",
      "  elif isinstance(data.columns, (pd.Int64Index, pd.RangeIndex)):\n"
     ]
    },
    {
     "name": "stdout",
     "output_type": "stream",
     "text": [
      "\n",
      "Target on train data ['Yes' 'No' 'No' ... 'No' 'Yes' 'No']\n",
      "\n",
      "accuracy_score on train dataset :  0.7991111111111111\n",
      "\n",
      "Target on test data ['No' 'No' 'No' ... 'No' 'No' 'No']\n",
      "\n",
      "accuracy_score on test dataset :  0.8031272210376688\n",
      "[[945 101]\n",
      " [176 185]]\n"
     ]
    }
   ],
   "source": [
    "# Tune XGBoost\n",
    "\n",
    "xgb_model = xgb.XGBClassifier(objective=\"binary:logistic\", random_state=1, \n",
    " learning_rate =0.01,\n",
    " n_estimators=100,\n",
    " max_depth=4,\n",
    " min_child_weight=3,\n",
    " gamma=0,\n",
    " subsample=0.9,\n",
    " colsample_bytree=0.8,\n",
    " nthread=4,\n",
    " scale_pos_weight=1)\n",
    "\n",
    "# Fit the Model\n",
    "xgb_model.fit(normalized_x_train, y_train)\n",
    "\n",
    "# predict the target on the train dataset\n",
    "predict_train = xgb_model.predict(normalized_x_train)\n",
    "print('\\nTarget on train data',predict_train) \n",
    "\n",
    "# Accuray Score on train dataset\n",
    "accuracy_train = accuracy_score(y_train,predict_train)\n",
    "print('\\naccuracy_score on train dataset : ', accuracy_train)\n",
    "\n",
    "# predict the target on the test dataset\n",
    "predict_test = xgb_model.predict(normalized_x_test)\n",
    "print('\\nTarget on test data',predict_test) \n",
    "\n",
    "# Accuracy Score on test dataset\n",
    "accuracy_test = accuracy_score(y_test,predict_test)\n",
    "print('\\naccuracy_score on test dataset : ', accuracy_test)\n",
    "\n",
    "# Print Confusion Matrix\n",
    "print(confusion_matrix(y_test, predict_test))"
   ]
  },
  {
   "cell_type": "markdown",
   "id": "c8655138",
   "metadata": {
    "id": "c8655138"
   },
   "source": [
    "# Part B\n",
    "### • DOMAIN: IT\n",
    "### • CONTEXT: \n",
    "The purpose is to build a machine learning workflow that will work autonomously irrespective of Data and users can save efforts involved in building workflows for each dataset.\n",
    "### • PROJECT OBJECTIVE: \n",
    "Build a machine learning workflow that will run autonomously with the csv file and return best performing model.\n",
    "### • STEPS AND TASK:\n",
    "\n",
    "1. Build a simple ML workflow which will accept a single ‘.csv’ file as input and return a trained base model that can be used for predictions. You can use 1 Dataset from Part 1 (single/merged).\n",
    "2. Create separate functions for various purposes.\n",
    "3. Various base models should be trained to select the best performing model.\n",
    "4. Pickle file should be saved for the best performing model.\n",
    "\n",
    "Include best coding practices in the code:\n",
    "\n",
    "• Modularization\n",
    "\n",
    "• Maintainability\n",
    "\n",
    "• Well commented code etc.\n",
    "\n",
    "Please Note:\n",
    "\n",
    "Here, if you need to perform some research to build a workflow. If you could, very well done! If not, please follow below instructions:\n",
    "\n",
    "1. Create separate function fo every step individually.\n",
    "For Example: Separate function to remove null values, separate function for normalization etc.\n",
    "On top of it, if you could build some rule based logic, you’ll gain better experience.\n",
    "2. Once you are done with building smaller functions, you can group similar functions into another function to proceed with.\n",
    "For Example: create a function ‘preprocessing_’ and call all the preprocessing related functions within that function.\n",
    "3. Once done with this, Stack all the functions sequentially within ‘main’ function to conclude.\n",
    "4. Here, knowledge and skills required are of Supervised Learning and Python module only.\n",
    "5. By building function modules in workflows, you will start gaining industry best practices as you go further in the AIML program else only marks are gained with\n",
    "traditional approach of programming.\n",
    "6. If this project is solved by traditional approach, evaluation will be done out of 20 Marks. And if industry approach is followed successfully, bonus of 10 marks\n",
    "will awarded and evaluation will be done out of 30 Marks."
   ]
  },
  {
   "cell_type": "code",
   "execution_count": 290,
   "id": "51f420d1",
   "metadata": {
    "colab": {
     "base_uri": "https://localhost:8080/",
     "height": 467
    },
    "id": "51f420d1",
    "outputId": "39c24ff3-1966-42f7-b2e7-9d6c941248ce",
    "scrolled": true
   },
   "outputs": [
    {
     "data": {
      "text/html": [
       "<div>\n",
       "<style scoped>\n",
       "    .dataframe tbody tr th:only-of-type {\n",
       "        vertical-align: middle;\n",
       "    }\n",
       "\n",
       "    .dataframe tbody tr th {\n",
       "        vertical-align: top;\n",
       "    }\n",
       "\n",
       "    .dataframe thead th {\n",
       "        text-align: right;\n",
       "    }\n",
       "</style>\n",
       "<table border=\"1\" class=\"dataframe\">\n",
       "  <thead>\n",
       "    <tr style=\"text-align: right;\">\n",
       "      <th></th>\n",
       "      <th>customerID</th>\n",
       "      <th>OnlineBackup</th>\n",
       "      <th>DeviceProtection</th>\n",
       "      <th>TechSupport</th>\n",
       "      <th>StreamingTV</th>\n",
       "      <th>StreamingMovies</th>\n",
       "      <th>Contract</th>\n",
       "      <th>PaperlessBilling</th>\n",
       "      <th>PaymentMethod</th>\n",
       "      <th>MonthlyCharges</th>\n",
       "      <th>TotalCharges</th>\n",
       "      <th>Churn</th>\n",
       "    </tr>\n",
       "  </thead>\n",
       "  <tbody>\n",
       "    <tr>\n",
       "      <th>0</th>\n",
       "      <td>7590-VHVEG</td>\n",
       "      <td>Yes</td>\n",
       "      <td>No</td>\n",
       "      <td>No</td>\n",
       "      <td>No</td>\n",
       "      <td>No</td>\n",
       "      <td>Month-to-month</td>\n",
       "      <td>Yes</td>\n",
       "      <td>Electronic check</td>\n",
       "      <td>29.85</td>\n",
       "      <td>29.85</td>\n",
       "      <td>No</td>\n",
       "    </tr>\n",
       "    <tr>\n",
       "      <th>1</th>\n",
       "      <td>5575-GNVDE</td>\n",
       "      <td>No</td>\n",
       "      <td>Yes</td>\n",
       "      <td>No</td>\n",
       "      <td>No</td>\n",
       "      <td>No</td>\n",
       "      <td>One year</td>\n",
       "      <td>No</td>\n",
       "      <td>Mailed check</td>\n",
       "      <td>56.95</td>\n",
       "      <td>1889.5</td>\n",
       "      <td>No</td>\n",
       "    </tr>\n",
       "    <tr>\n",
       "      <th>2</th>\n",
       "      <td>3668-QPYBK</td>\n",
       "      <td>Yes</td>\n",
       "      <td>No</td>\n",
       "      <td>No</td>\n",
       "      <td>No</td>\n",
       "      <td>No</td>\n",
       "      <td>Month-to-month</td>\n",
       "      <td>Yes</td>\n",
       "      <td>Mailed check</td>\n",
       "      <td>53.85</td>\n",
       "      <td>108.15</td>\n",
       "      <td>Yes</td>\n",
       "    </tr>\n",
       "  </tbody>\n",
       "</table>\n",
       "</div>"
      ],
      "text/plain": [
       "   customerID OnlineBackup DeviceProtection TechSupport StreamingTV  \\\n",
       "0  7590-VHVEG          Yes               No          No          No   \n",
       "1  5575-GNVDE           No              Yes          No          No   \n",
       "2  3668-QPYBK          Yes               No          No          No   \n",
       "\n",
       "  StreamingMovies        Contract PaperlessBilling     PaymentMethod  \\\n",
       "0              No  Month-to-month              Yes  Electronic check   \n",
       "1              No        One year               No      Mailed check   \n",
       "2              No  Month-to-month              Yes      Mailed check   \n",
       "\n",
       "   MonthlyCharges TotalCharges Churn  \n",
       "0           29.85        29.85    No  \n",
       "1           56.95       1889.5    No  \n",
       "2           53.85       108.15   Yes  "
      ]
     },
     "execution_count": 290,
     "metadata": {},
     "output_type": "execute_result"
    }
   ],
   "source": [
    "#importing the csv file\n",
    "\n",
    "def import_csv(input_file_path):\n",
    "  df = pd.read_csv(input_file_path)\n",
    "  return df\n",
    "\n",
    "file_path = \"TelcomCustomer-Churn_2.csv\"\n",
    "data_frame = import_csv(file_path)\n",
    "data_frame.head(3)"
   ]
  },
  {
   "cell_type": "code",
   "execution_count": 291,
   "id": "d9019b33",
   "metadata": {
    "id": "d9019b33"
   },
   "outputs": [
    {
     "name": "stdout",
     "output_type": "stream",
     "text": [
      "<class 'pandas.core.frame.DataFrame'>\n",
      "RangeIndex: 7032 entries, 0 to 7031\n",
      "Data columns (total 13 columns):\n",
      " #   Column            Non-Null Count  Dtype  \n",
      "---  ------            --------------  -----  \n",
      " 0   index             7032 non-null   int64  \n",
      " 1   customerID        7032 non-null   object \n",
      " 2   OnlineBackup      7032 non-null   object \n",
      " 3   DeviceProtection  7032 non-null   object \n",
      " 4   TechSupport       7032 non-null   object \n",
      " 5   StreamingTV       7032 non-null   object \n",
      " 6   StreamingMovies   7032 non-null   object \n",
      " 7   Contract          7032 non-null   object \n",
      " 8   PaperlessBilling  7032 non-null   object \n",
      " 9   PaymentMethod     7032 non-null   object \n",
      " 10  MonthlyCharges    7032 non-null   float64\n",
      " 11  TotalCharges      7032 non-null   object \n",
      " 12  Churn             7032 non-null   object \n",
      "dtypes: float64(1), int64(1), object(11)\n",
      "memory usage: 714.3+ KB\n"
     ]
    }
   ],
   "source": [
    "# Data cleaning\n",
    "def data_cleanup(df):\n",
    "    # Replace empty places with NaN\n",
    "    df = df.replace(' ',np.nan)\n",
    "    df = df.dropna(axis=0).reset_index() # Remove rows that have NaN values\n",
    "    return df\n",
    "\n",
    "#checking Data cleaning\n",
    "data_frame = data_cleanup(data_frame)\n",
    "data_frame.info()"
   ]
  },
  {
   "cell_type": "code",
   "execution_count": 292,
   "id": "209eee1d",
   "metadata": {},
   "outputs": [
    {
     "data": {
      "text/html": [
       "<div>\n",
       "<style scoped>\n",
       "    .dataframe tbody tr th:only-of-type {\n",
       "        vertical-align: middle;\n",
       "    }\n",
       "\n",
       "    .dataframe tbody tr th {\n",
       "        vertical-align: top;\n",
       "    }\n",
       "\n",
       "    .dataframe thead th {\n",
       "        text-align: right;\n",
       "    }\n",
       "</style>\n",
       "<table border=\"1\" class=\"dataframe\">\n",
       "  <thead>\n",
       "    <tr style=\"text-align: right;\">\n",
       "      <th></th>\n",
       "      <th>index</th>\n",
       "      <th>customerID</th>\n",
       "      <th>OnlineBackup</th>\n",
       "      <th>DeviceProtection</th>\n",
       "      <th>TechSupport</th>\n",
       "      <th>StreamingTV</th>\n",
       "      <th>StreamingMovies</th>\n",
       "      <th>Contract</th>\n",
       "      <th>PaperlessBilling</th>\n",
       "      <th>PaymentMethod</th>\n",
       "      <th>MonthlyCharges</th>\n",
       "      <th>TotalCharges</th>\n",
       "      <th>Churn</th>\n",
       "    </tr>\n",
       "  </thead>\n",
       "  <tbody>\n",
       "    <tr>\n",
       "      <th>0</th>\n",
       "      <td>0</td>\n",
       "      <td>7590-VHVEG</td>\n",
       "      <td>Yes</td>\n",
       "      <td>No</td>\n",
       "      <td>No</td>\n",
       "      <td>No</td>\n",
       "      <td>No</td>\n",
       "      <td>Month-to-month</td>\n",
       "      <td>Yes</td>\n",
       "      <td>Electronic check</td>\n",
       "      <td>29.85</td>\n",
       "      <td>29.85</td>\n",
       "      <td>No</td>\n",
       "    </tr>\n",
       "    <tr>\n",
       "      <th>1</th>\n",
       "      <td>1</td>\n",
       "      <td>5575-GNVDE</td>\n",
       "      <td>No</td>\n",
       "      <td>Yes</td>\n",
       "      <td>No</td>\n",
       "      <td>No</td>\n",
       "      <td>No</td>\n",
       "      <td>One year</td>\n",
       "      <td>No</td>\n",
       "      <td>Mailed check</td>\n",
       "      <td>56.95</td>\n",
       "      <td>1889.50</td>\n",
       "      <td>No</td>\n",
       "    </tr>\n",
       "    <tr>\n",
       "      <th>2</th>\n",
       "      <td>2</td>\n",
       "      <td>3668-QPYBK</td>\n",
       "      <td>Yes</td>\n",
       "      <td>No</td>\n",
       "      <td>No</td>\n",
       "      <td>No</td>\n",
       "      <td>No</td>\n",
       "      <td>Month-to-month</td>\n",
       "      <td>Yes</td>\n",
       "      <td>Mailed check</td>\n",
       "      <td>53.85</td>\n",
       "      <td>108.15</td>\n",
       "      <td>Yes</td>\n",
       "    </tr>\n",
       "    <tr>\n",
       "      <th>3</th>\n",
       "      <td>3</td>\n",
       "      <td>7795-CFOCW</td>\n",
       "      <td>No</td>\n",
       "      <td>Yes</td>\n",
       "      <td>Yes</td>\n",
       "      <td>No</td>\n",
       "      <td>No</td>\n",
       "      <td>One year</td>\n",
       "      <td>No</td>\n",
       "      <td>Bank transfer (automatic)</td>\n",
       "      <td>42.30</td>\n",
       "      <td>1840.75</td>\n",
       "      <td>No</td>\n",
       "    </tr>\n",
       "    <tr>\n",
       "      <th>4</th>\n",
       "      <td>4</td>\n",
       "      <td>9237-HQITU</td>\n",
       "      <td>No</td>\n",
       "      <td>No</td>\n",
       "      <td>No</td>\n",
       "      <td>No</td>\n",
       "      <td>No</td>\n",
       "      <td>Month-to-month</td>\n",
       "      <td>Yes</td>\n",
       "      <td>Electronic check</td>\n",
       "      <td>70.70</td>\n",
       "      <td>151.65</td>\n",
       "      <td>Yes</td>\n",
       "    </tr>\n",
       "    <tr>\n",
       "      <th>...</th>\n",
       "      <td>...</td>\n",
       "      <td>...</td>\n",
       "      <td>...</td>\n",
       "      <td>...</td>\n",
       "      <td>...</td>\n",
       "      <td>...</td>\n",
       "      <td>...</td>\n",
       "      <td>...</td>\n",
       "      <td>...</td>\n",
       "      <td>...</td>\n",
       "      <td>...</td>\n",
       "      <td>...</td>\n",
       "      <td>...</td>\n",
       "    </tr>\n",
       "    <tr>\n",
       "      <th>7027</th>\n",
       "      <td>7038</td>\n",
       "      <td>6840-RESVB</td>\n",
       "      <td>No</td>\n",
       "      <td>Yes</td>\n",
       "      <td>Yes</td>\n",
       "      <td>Yes</td>\n",
       "      <td>Yes</td>\n",
       "      <td>One year</td>\n",
       "      <td>Yes</td>\n",
       "      <td>Mailed check</td>\n",
       "      <td>84.80</td>\n",
       "      <td>1990.50</td>\n",
       "      <td>No</td>\n",
       "    </tr>\n",
       "    <tr>\n",
       "      <th>7028</th>\n",
       "      <td>7039</td>\n",
       "      <td>2234-XADUH</td>\n",
       "      <td>Yes</td>\n",
       "      <td>Yes</td>\n",
       "      <td>No</td>\n",
       "      <td>Yes</td>\n",
       "      <td>Yes</td>\n",
       "      <td>One year</td>\n",
       "      <td>Yes</td>\n",
       "      <td>Credit card (automatic)</td>\n",
       "      <td>103.20</td>\n",
       "      <td>7362.90</td>\n",
       "      <td>No</td>\n",
       "    </tr>\n",
       "    <tr>\n",
       "      <th>7029</th>\n",
       "      <td>7040</td>\n",
       "      <td>4801-JZAZL</td>\n",
       "      <td>No</td>\n",
       "      <td>No</td>\n",
       "      <td>No</td>\n",
       "      <td>No</td>\n",
       "      <td>No</td>\n",
       "      <td>Month-to-month</td>\n",
       "      <td>Yes</td>\n",
       "      <td>Electronic check</td>\n",
       "      <td>29.60</td>\n",
       "      <td>346.45</td>\n",
       "      <td>No</td>\n",
       "    </tr>\n",
       "    <tr>\n",
       "      <th>7030</th>\n",
       "      <td>7041</td>\n",
       "      <td>8361-LTMKD</td>\n",
       "      <td>No</td>\n",
       "      <td>No</td>\n",
       "      <td>No</td>\n",
       "      <td>No</td>\n",
       "      <td>No</td>\n",
       "      <td>Month-to-month</td>\n",
       "      <td>Yes</td>\n",
       "      <td>Mailed check</td>\n",
       "      <td>74.40</td>\n",
       "      <td>306.60</td>\n",
       "      <td>Yes</td>\n",
       "    </tr>\n",
       "    <tr>\n",
       "      <th>7031</th>\n",
       "      <td>7042</td>\n",
       "      <td>3186-AJIEK</td>\n",
       "      <td>No</td>\n",
       "      <td>Yes</td>\n",
       "      <td>Yes</td>\n",
       "      <td>Yes</td>\n",
       "      <td>Yes</td>\n",
       "      <td>Two year</td>\n",
       "      <td>Yes</td>\n",
       "      <td>Bank transfer (automatic)</td>\n",
       "      <td>105.65</td>\n",
       "      <td>6844.50</td>\n",
       "      <td>No</td>\n",
       "    </tr>\n",
       "  </tbody>\n",
       "</table>\n",
       "<p>7032 rows × 13 columns</p>\n",
       "</div>"
      ],
      "text/plain": [
       "      index  customerID OnlineBackup DeviceProtection TechSupport StreamingTV  \\\n",
       "0         0  7590-VHVEG          Yes               No          No          No   \n",
       "1         1  5575-GNVDE           No              Yes          No          No   \n",
       "2         2  3668-QPYBK          Yes               No          No          No   \n",
       "3         3  7795-CFOCW           No              Yes         Yes          No   \n",
       "4         4  9237-HQITU           No               No          No          No   \n",
       "...     ...         ...          ...              ...         ...         ...   \n",
       "7027   7038  6840-RESVB           No              Yes         Yes         Yes   \n",
       "7028   7039  2234-XADUH          Yes              Yes          No         Yes   \n",
       "7029   7040  4801-JZAZL           No               No          No          No   \n",
       "7030   7041  8361-LTMKD           No               No          No          No   \n",
       "7031   7042  3186-AJIEK           No              Yes         Yes         Yes   \n",
       "\n",
       "     StreamingMovies        Contract PaperlessBilling  \\\n",
       "0                 No  Month-to-month              Yes   \n",
       "1                 No        One year               No   \n",
       "2                 No  Month-to-month              Yes   \n",
       "3                 No        One year               No   \n",
       "4                 No  Month-to-month              Yes   \n",
       "...              ...             ...              ...   \n",
       "7027             Yes        One year              Yes   \n",
       "7028             Yes        One year              Yes   \n",
       "7029              No  Month-to-month              Yes   \n",
       "7030              No  Month-to-month              Yes   \n",
       "7031             Yes        Two year              Yes   \n",
       "\n",
       "                  PaymentMethod  MonthlyCharges  TotalCharges Churn  \n",
       "0              Electronic check           29.85         29.85    No  \n",
       "1                  Mailed check           56.95       1889.50    No  \n",
       "2                  Mailed check           53.85        108.15   Yes  \n",
       "3     Bank transfer (automatic)           42.30       1840.75    No  \n",
       "4              Electronic check           70.70        151.65   Yes  \n",
       "...                         ...             ...           ...   ...  \n",
       "7027               Mailed check           84.80       1990.50    No  \n",
       "7028    Credit card (automatic)          103.20       7362.90    No  \n",
       "7029           Electronic check           29.60        346.45    No  \n",
       "7030               Mailed check           74.40        306.60   Yes  \n",
       "7031  Bank transfer (automatic)          105.65       6844.50    No  \n",
       "\n",
       "[7032 rows x 13 columns]"
      ]
     },
     "execution_count": 292,
     "metadata": {},
     "output_type": "execute_result"
    }
   ],
   "source": [
    "#changing data_type\n",
    "def change_data_type(df):\n",
    "  df['MonthlyCharges'] = df['MonthlyCharges'].astype(float)\n",
    "  df['TotalCharges'] = df['TotalCharges'].astype(float)\n",
    "  return df\n",
    "\n",
    "#check changing data_type\n",
    "data_frame = change_data_type(data_frame)\n",
    "data_frame"
   ]
  },
  {
   "cell_type": "code",
   "execution_count": 293,
   "id": "314f0c35",
   "metadata": {
    "id": "314f0c35"
   },
   "outputs": [],
   "source": [
    "#Function for data preparation\n",
    "\n",
    "def data_preparation(df):\n",
    "    df = df.drop(columns=['index','customerID'])\n",
    "    x = df.drop(columns=['Churn'])\n",
    "    x = pd.get_dummies(x, prefix_sep='_', drop_first=True)\n",
    "    y = df['Churn']\n",
    "    # splitting data for training and testint\n",
    "    X_train, X_test, y_train, y_test =train_test_split(x,y, test_size=.20, random_state=1)\n",
    "    # Perform standardization\n",
    "    X_train_sc = scaler.fit_transform(X_train)\n",
    "    X_test_sc = scaler.fit_transform(X_test)\n",
    "    return X_train_sc, X_test_sc, y_train, y_test\n",
    "\n",
    "#checking data preparation function\n",
    "X_train_sc, X_test_sc, y_train, y_test = data_preparation(data_frame)"
   ]
  },
  {
   "cell_type": "code",
   "execution_count": 294,
   "id": "f1de4e5f",
   "metadata": {},
   "outputs": [
    {
     "data": {
      "text/plain": [
       "((5625, 18), (1407, 18), (5625,), (1407,))"
      ]
     },
     "execution_count": 294,
     "metadata": {},
     "output_type": "execute_result"
    }
   ],
   "source": [
    "X_train_sc.shape, X_test_sc.shape, y_train.shape, y_test.shape"
   ]
  },
  {
   "cell_type": "code",
   "execution_count": 295,
   "id": "fd768b8c",
   "metadata": {
    "id": "fd768b8c"
   },
   "outputs": [],
   "source": [
    "#Clubbing all the data preprocessing function into a single one\n",
    "def pre_process(file_path):\n",
    "    data = import_csv(file_path)\n",
    "    data = data_cleanup(data)\n",
    "    data = change_data_type(data)\n",
    "    X_train_sc, X_test_sc, y_train, y_test = data_preparation(data)\n",
    "    return X_train_sc, X_test_sc, y_train, y_test\n",
    "\n",
    "#checking the pre_prosess function\n",
    "csv_file_path = \"TelcomCustomer-Churn_2.csv\"\n",
    "X_train_sc, X_test_sc, y_train, y_test = pre_process(csv_file_path)"
   ]
  },
  {
   "cell_type": "code",
   "execution_count": 296,
   "id": "799cb466",
   "metadata": {
    "id": "799cb466"
   },
   "outputs": [
    {
     "data": {
      "text/plain": [
       "(0.7950222222222222, 0.7853589196872779)"
      ]
     },
     "execution_count": 296,
     "metadata": {},
     "output_type": "execute_result"
    }
   ],
   "source": [
    "#Fuction for fiting the model\n",
    "from sklearn.linear_model import LogisticRegression\n",
    "def fit_n_print(model, X_train, X_test, y_train, y_test):  \n",
    "    model.fit(X_train, y_train)   \n",
    "    pred = model.predict(X_test)    \n",
    "    train_accuracy = model.score(X_train,y_train) \n",
    "    test_accuracy = model.score(X_test,y_test)\n",
    "    return train_accuracy, test_accuracy\n",
    "\n",
    "#checking fitting function\n",
    "logreg = LogisticRegression()\n",
    "fit_n_print(logreg,X_train_sc, X_test_sc, y_train, y_test)"
   ]
  },
  {
   "cell_type": "code",
   "execution_count": 297,
   "id": "a1bc9ce0",
   "metadata": {},
   "outputs": [
    {
     "name": "stderr",
     "output_type": "stream",
     "text": [
      "C:\\Users\\vikas\\anaconda3\\lib\\site-packages\\xgboost\\sklearn.py:1224: UserWarning: The use of label encoder in XGBClassifier is deprecated and will be removed in a future release. To remove this warning, do the following: 1) Pass option use_label_encoder=False when constructing XGBClassifier object; and 2) Encode your labels (y) as integers starting with 0, i.e. 0, 1, 2, ..., [num_class - 1].\n",
      "  warnings.warn(label_encoder_deprecation_msg, UserWarning)\n",
      "C:\\Users\\vikas\\anaconda3\\lib\\site-packages\\xgboost\\data.py:250: FutureWarning: pandas.Int64Index is deprecated and will be removed from pandas in a future version. Use pandas.Index with the appropriate dtype instead.\n",
      "  elif isinstance(data.columns, (pd.Int64Index, pd.RangeIndex)):\n"
     ]
    },
    {
     "name": "stdout",
     "output_type": "stream",
     "text": [
      "[17:40:09] WARNING: C:\\Windows\\Temp\\abs_557yfx631l\\croots\\recipe\\xgboost-split_1659548953302\\work\\src\\learner.cc:1115: Starting in XGBoost 1.3.0, the default evaluation metric used with the objective 'binary:logistic' was changed from 'error' to 'logloss'. Explicitly set eval_metric if you'd like to restore the old behavior.\n",
      "best model: Logistic Regression\n"
     ]
    },
    {
     "data": {
      "text/html": [
       "<div>\n",
       "<style scoped>\n",
       "    .dataframe tbody tr th:only-of-type {\n",
       "        vertical-align: middle;\n",
       "    }\n",
       "\n",
       "    .dataframe tbody tr th {\n",
       "        vertical-align: top;\n",
       "    }\n",
       "\n",
       "    .dataframe thead th {\n",
       "        text-align: right;\n",
       "    }\n",
       "</style>\n",
       "<table border=\"1\" class=\"dataframe\">\n",
       "  <thead>\n",
       "    <tr style=\"text-align: right;\">\n",
       "      <th></th>\n",
       "      <th>Train_accuracy</th>\n",
       "      <th>Test_accuracy</th>\n",
       "    </tr>\n",
       "  </thead>\n",
       "  <tbody>\n",
       "    <tr>\n",
       "      <th>Logistic Regression</th>\n",
       "      <td>0.732800</td>\n",
       "      <td>0.739872</td>\n",
       "    </tr>\n",
       "    <tr>\n",
       "      <th>Naive Bayes</th>\n",
       "      <td>0.731022</td>\n",
       "      <td>0.733475</td>\n",
       "    </tr>\n",
       "    <tr>\n",
       "      <th>KNN</th>\n",
       "      <td>0.767289</td>\n",
       "      <td>0.679460</td>\n",
       "    </tr>\n",
       "    <tr>\n",
       "      <th>SVC</th>\n",
       "      <td>0.732800</td>\n",
       "      <td>0.739872</td>\n",
       "    </tr>\n",
       "    <tr>\n",
       "      <th>Decision Tree</th>\n",
       "      <td>0.998044</td>\n",
       "      <td>0.622601</td>\n",
       "    </tr>\n",
       "    <tr>\n",
       "      <th>XGBoost</th>\n",
       "      <td>0.859556</td>\n",
       "      <td>0.708600</td>\n",
       "    </tr>\n",
       "  </tbody>\n",
       "</table>\n",
       "</div>"
      ],
      "text/plain": [
       "                     Train_accuracy  Test_accuracy\n",
       "Logistic Regression        0.732800       0.739872\n",
       "Naive Bayes                0.731022       0.733475\n",
       "KNN                        0.767289       0.679460\n",
       "SVC                        0.732800       0.739872\n",
       "Decision Tree              0.998044       0.622601\n",
       "XGBoost                    0.859556       0.708600"
      ]
     },
     "execution_count": 297,
     "metadata": {},
     "output_type": "execute_result"
    }
   ],
   "source": [
    "from sklearn.naive_bayes import GaussianNB\n",
    "from sklearn.neighbors import KNeighborsClassifier\n",
    "from sklearn.svm import SVC\n",
    "from sklearn.tree import DecisionTreeClassifier\n",
    "import time\n",
    "#method to build models\n",
    "def build_models():\n",
    "  logreg = LogisticRegression()\n",
    "  nb = GaussianNB()\n",
    "  knn = KNeighborsClassifier()\n",
    "  svc_model = SVC()\n",
    "  dTree = DecisionTreeClassifier()\n",
    "  xgb_model = xgb.XGBClassifier()\n",
    "  model_dict = {\n",
    "    'Logistic Regression': logreg,\n",
    "    'Naive Bayes': nb,\n",
    "    'KNN': knn,\n",
    "    'SVC': svc_model,\n",
    "    'Decision Tree': dTree,\n",
    "    'XGBoost': xgb_model\n",
    "}\n",
    "  result = {}\n",
    "  \n",
    "  for name, model  in model_dict.items():\n",
    "      result[name] = fit_n_print(model,X_train, X_test, y_train, y_test)  \n",
    "  result_df = pd.DataFrame(np.array(list(result.values())),\n",
    "                           columns=['Train_accuracy','Test_accuracy'],\n",
    "                           index=result.keys())\n",
    "  max_accuracy=result_df['Test_accuracy'].max()\n",
    "  best_model=\"\"\n",
    "  for name,acc in result.items():\n",
    "    if acc[1] == max_accuracy:\n",
    "      best_model = name\n",
    "      break\n",
    "  return result_df, best_model\n",
    "\n",
    "#checking build_models function\n",
    "result_df, best_model=build_models()\n",
    "print(f'best model: {best_model}')\n",
    "result_df"
   ]
  },
  {
   "cell_type": "code",
   "execution_count": 298,
   "id": "ed1796ef",
   "metadata": {},
   "outputs": [],
   "source": [
    "#method for creating pickle file\n",
    "def create_pickle(best_model):\n",
    "  logreg = LogisticRegression()\n",
    "  nb = GaussianNB()\n",
    "  knn = KNeighborsClassifier()\n",
    "  svc_model = SVC()\n",
    "  dTree = DecisionTreeClassifier()\n",
    "  xgb_model = xgb.XGBClassifier()\n",
    "  model_dict = {\n",
    "    'Logistic Regression': logreg,\n",
    "    'Naive Bayes': nb,\n",
    "    'KNN': knn,\n",
    "    'SVC': svc_model,\n",
    "    'Decision Tree': dTree,\n",
    "    'XGBoost': xgb_model\n",
    "  }\n",
    "  model=model_dict[best_model].fit(X_train_sc,y_train)\n",
    "# creating pickle file\n",
    "  with open('model_pkl', 'wb') as files:\n",
    "      pickle.dump(model, files)\n",
    "  print(\"File saved successfully!\")\n"
   ]
  },
  {
   "cell_type": "code",
   "execution_count": 299,
   "id": "2e3522cd",
   "metadata": {
    "id": "2e3522cd"
   },
   "outputs": [
    {
     "data": {
      "text/plain": [
       "LogisticRegression()"
      ]
     },
     "execution_count": 299,
     "metadata": {},
     "output_type": "execute_result"
    }
   ],
   "source": [
    "# creating the model object\n",
    "model = LogisticRegression()\n",
    "\n",
    "# Fitting Model\n",
    "model.fit(normalized_x_train,y_train)"
   ]
  },
  {
   "cell_type": "code",
   "execution_count": 300,
   "id": "2a29aff8",
   "metadata": {
    "id": "2a29aff8"
   },
   "outputs": [
    {
     "name": "stderr",
     "output_type": "stream",
     "text": [
      "C:\\Users\\vikas\\anaconda3\\lib\\site-packages\\xgboost\\sklearn.py:1224: UserWarning: The use of label encoder in XGBClassifier is deprecated and will be removed in a future release. To remove this warning, do the following: 1) Pass option use_label_encoder=False when constructing XGBClassifier object; and 2) Encode your labels (y) as integers starting with 0, i.e. 0, 1, 2, ..., [num_class - 1].\n",
      "  warnings.warn(label_encoder_deprecation_msg, UserWarning)\n",
      "C:\\Users\\vikas\\anaconda3\\lib\\site-packages\\xgboost\\data.py:250: FutureWarning: pandas.Int64Index is deprecated and will be removed from pandas in a future version. Use pandas.Index with the appropriate dtype instead.\n",
      "  elif isinstance(data.columns, (pd.Int64Index, pd.RangeIndex)):\n"
     ]
    },
    {
     "name": "stdout",
     "output_type": "stream",
     "text": [
      "[17:40:18] WARNING: C:\\Windows\\Temp\\abs_557yfx631l\\croots\\recipe\\xgboost-split_1659548953302\\work\\src\\learner.cc:1115: Starting in XGBoost 1.3.0, the default evaluation metric used with the objective 'binary:logistic' was changed from 'error' to 'logloss'. Explicitly set eval_metric if you'd like to restore the old behavior.\n",
      "File saved successfully!\n"
     ]
    },
    {
     "data": {
      "text/html": [
       "<div>\n",
       "<style scoped>\n",
       "    .dataframe tbody tr th:only-of-type {\n",
       "        vertical-align: middle;\n",
       "    }\n",
       "\n",
       "    .dataframe tbody tr th {\n",
       "        vertical-align: top;\n",
       "    }\n",
       "\n",
       "    .dataframe thead th {\n",
       "        text-align: right;\n",
       "    }\n",
       "</style>\n",
       "<table border=\"1\" class=\"dataframe\">\n",
       "  <thead>\n",
       "    <tr style=\"text-align: right;\">\n",
       "      <th></th>\n",
       "      <th>Train_accuracy</th>\n",
       "      <th>Test_accuracy</th>\n",
       "    </tr>\n",
       "  </thead>\n",
       "  <tbody>\n",
       "    <tr>\n",
       "      <th>Logistic Regression</th>\n",
       "      <td>0.732800</td>\n",
       "      <td>0.739872</td>\n",
       "    </tr>\n",
       "    <tr>\n",
       "      <th>Naive Bayes</th>\n",
       "      <td>0.731022</td>\n",
       "      <td>0.733475</td>\n",
       "    </tr>\n",
       "    <tr>\n",
       "      <th>KNN</th>\n",
       "      <td>0.767289</td>\n",
       "      <td>0.679460</td>\n",
       "    </tr>\n",
       "    <tr>\n",
       "      <th>SVC</th>\n",
       "      <td>0.732800</td>\n",
       "      <td>0.739872</td>\n",
       "    </tr>\n",
       "    <tr>\n",
       "      <th>Decision Tree</th>\n",
       "      <td>0.998044</td>\n",
       "      <td>0.626866</td>\n",
       "    </tr>\n",
       "    <tr>\n",
       "      <th>XGBoost</th>\n",
       "      <td>0.859556</td>\n",
       "      <td>0.708600</td>\n",
       "    </tr>\n",
       "  </tbody>\n",
       "</table>\n",
       "</div>"
      ],
      "text/plain": [
       "                     Train_accuracy  Test_accuracy\n",
       "Logistic Regression        0.732800       0.739872\n",
       "Naive Bayes                0.731022       0.733475\n",
       "KNN                        0.767289       0.679460\n",
       "SVC                        0.732800       0.739872\n",
       "Decision Tree              0.998044       0.626866\n",
       "XGBoost                    0.859556       0.708600"
      ]
     },
     "execution_count": 300,
     "metadata": {},
     "output_type": "execute_result"
    }
   ],
   "source": [
    "#Final main function \n",
    "import pickle\n",
    "def main(data_file_path):\n",
    "  X_train_sc, X_test_sc, y_train, y_test = pre_process(data_file_path)\n",
    "  final_result,models = build_models()\n",
    "  create_pickle(models)\n",
    "  return final_result\n",
    "\n",
    "#Call the final main function with does the entire process and gives the output\n",
    "my_csv_path = csv_file_path = \"TelcomCustomer-Churn_2.csv\"\n",
    "main(my_csv_path)"
   ]
  },
  {
   "cell_type": "code",
   "execution_count": null,
   "id": "936a176c",
   "metadata": {
    "id": "936a176c"
   },
   "outputs": [],
   "source": []
  }
 ],
 "metadata": {
  "colab": {
   "provenance": []
  },
  "kernelspec": {
   "display_name": "Python 3 (ipykernel)",
   "language": "python",
   "name": "python3"
  },
  "language_info": {
   "codemirror_mode": {
    "name": "ipython",
    "version": 3
   },
   "file_extension": ".py",
   "mimetype": "text/x-python",
   "name": "python",
   "nbconvert_exporter": "python",
   "pygments_lexer": "ipython3",
   "version": "3.9.12"
  }
 },
 "nbformat": 4,
 "nbformat_minor": 5
}
