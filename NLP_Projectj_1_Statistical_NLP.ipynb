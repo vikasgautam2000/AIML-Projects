{
  "cells": [
    {
      "cell_type": "markdown",
      "metadata": {
        "id": "0DkxXNsAGYh1"
      },
      "source": [
        "# Part A\n",
        "\n",
        "**• DOMAIN:** Digital content management\n",
        "\n",
        "**CONTEXT:** Classification is probably the most popular task that you would deal with in real life. Text in the form of blogs, posts, articles, etc.\n",
        "are written every second. It is a challenge to predict the information about the writer without knowing about him/her. We are going to create a\n",
        "classifier that predicts multiple features of the author of a given text. We have designed it as a Multi label classification problem.\n",
        "\n",
        "**• DATA DESCRIPTION:** Over 600,000 posts from more than 19 thousand bloggers The Blog Authorship Corpus consists of the collected posts of\n",
        "19,320 bloggers gathered from blogger.com in August 2004. The corpus incorporates a total of 681,288 posts and over 140 million words - or\n",
        "approximately 35 posts and 7250 words per person. Each blog is presented as a separate file, the name of which indicates a blogger id# and\n",
        "the blogger’s self-provided gender, age, industry, and astrological sign. (All are labelled for gender and age but for many, industry and/or sign is\n",
        "marked as unknown.) All bloggers included in the corpus fall into one of three age groups:\n",
        "\n",
        "• 8240 \"10s\" blogs (ages 13-17),\n",
        "\n",
        "• 8086 \"20s\" blogs(ages 23-27) and\n",
        "\n",
        "• 2994 \"30s\" blogs (ages 33-47\n",
        "\n",
        "\n",
        " For each age group, there is an equal number of male and female bloggers. Each blog in the corpus includes at least 200 occurrences of\n",
        "common English words. All formatting has been stripped with two exceptions. Individual posts within a single blogger are separated by the\n",
        "date of the following post and links within a post are denoted by the label url link.\n",
        "\n",
        "**• PROJECT OBJECTIVE:** To build a NLP classifier which can use input text parameters to determine the label/s of the blog. Specific to this case\n",
        "study, you can consider the text of the blog: ‘text’ feature as independent variable and ‘topic’ as dependent variable.\n",
        "\n"
      ]
    },
    {
      "cell_type": "markdown",
      "metadata": {
        "id": "Cqlod6nsMbfV"
      },
      "source": [
        "**Steps and tasks:**\n",
        "\n",
        "#1. Read and Analyse Dataset.\n"
      ]
    },
    {
      "cell_type": "code",
      "execution_count": 20,
      "metadata": {
        "colab": {
          "base_uri": "https://localhost:8080/"
        },
        "id": "ZU0q7HDaGJi_",
        "outputId": "5b1591b4-2059-41b4-9759-2804d20eb207"
      },
      "outputs": [
        {
          "output_type": "stream",
          "name": "stderr",
          "text": [
            "[nltk_data] Downloading package stopwords to /root/nltk_data...\n",
            "[nltk_data]   Package stopwords is already up-to-date!\n"
          ]
        },
        {
          "output_type": "stream",
          "name": "stdout",
          "text": [
            "Drive already mounted at /content/drive; to attempt to forcibly remount, call drive.mount(\"/content/drive\", force_remount=True).\n"
          ]
        }
      ],
      "source": [
        "import warnings\n",
        "warnings.filterwarnings('ignore')\n",
        "import nltk\n",
        "nltk.download(\"stopwords\")\n",
        "from google.colab import drive\n",
        "drive.mount(\"/content/drive\")"
      ]
    },
    {
      "cell_type": "code",
      "execution_count": 21,
      "metadata": {
        "colab": {
          "base_uri": "https://localhost:8080/"
        },
        "id": "WZx4xxjnNhcJ",
        "outputId": "76f0ff77-a24c-446d-84e9-337be4011007"
      },
      "outputs": [
        {
          "output_type": "stream",
          "name": "stdout",
          "text": [
            "File Name                                             Modified             Size\n",
            "blogtext.csv                                   2019-09-20 22:33:20    800419647\n",
            "Extracting all the files now...\n",
            "Done!\n"
          ]
        }
      ],
      "source": [
        "import pandas as pd\n",
        "import numpy as np\n",
        "from sklearn.feature_extraction.text import CountVectorizer\n",
        "from nltk.corpus import stopwords\n",
        "from nltk.stem import PorterStemmer\n",
        "from zipfile import ZipFile\n",
        "\n",
        "file_name = \"/content/drive/My Drive/Colab Notebooks/blogs.zip\"\n",
        "  \n",
        "with ZipFile(file_name, 'r') as zip:\n",
        "    zip.printdir()\n",
        "    print('Extracting all the files now...')\n",
        "    zip.extractall()\n",
        "    print('Done!')\n"
      ]
    },
    {
      "cell_type": "code",
      "source": [
        "blog_data = pd.read_csv('/content/blogtext.csv')"
      ],
      "metadata": {
        "id": "DhIvyVHyne72"
      },
      "execution_count": 22,
      "outputs": []
    },
    {
      "cell_type": "code",
      "source": [
        "print(\"Dimesions of data : \", blog_data.shape)"
      ],
      "metadata": {
        "colab": {
          "base_uri": "https://localhost:8080/"
        },
        "id": "-BFPVTeEmTdR",
        "outputId": "aad90c0c-3b1c-4835-a94f-32b1fddf3fef"
      },
      "execution_count": 23,
      "outputs": [
        {
          "output_type": "stream",
          "name": "stdout",
          "text": [
            "Dimesions of data :  (681284, 7)\n"
          ]
        }
      ]
    },
    {
      "cell_type": "code",
      "execution_count": 24,
      "metadata": {
        "colab": {
          "base_uri": "https://localhost:8080/",
          "height": 206
        },
        "id": "MReKaVHpQj0Q",
        "outputId": "a95776f6-5e25-484b-ebe6-71161c8732a7"
      },
      "outputs": [
        {
          "output_type": "execute_result",
          "data": {
            "text/plain": [
              "        id gender  age              topic      sign          date  \\\n",
              "0  2059027   male   15            Student       Leo   14,May,2004   \n",
              "1  2059027   male   15            Student       Leo   13,May,2004   \n",
              "2  2059027   male   15            Student       Leo   12,May,2004   \n",
              "3  2059027   male   15            Student       Leo   12,May,2004   \n",
              "4  3581210   male   33  InvestmentBanking  Aquarius  11,June,2004   \n",
              "\n",
              "                                                text  \n",
              "0             Info has been found (+/- 100 pages,...  \n",
              "1             These are the team members:   Drewe...  \n",
              "2             In het kader van kernfusie op aarde...  \n",
              "3                   testing!!!  testing!!!            \n",
              "4               Thanks to Yahoo!'s Toolbar I can ...  "
            ],
            "text/html": [
              "\n",
              "  <div id=\"df-c2618acd-12a8-4b77-94f2-783ab744adf4\">\n",
              "    <div class=\"colab-df-container\">\n",
              "      <div>\n",
              "<style scoped>\n",
              "    .dataframe tbody tr th:only-of-type {\n",
              "        vertical-align: middle;\n",
              "    }\n",
              "\n",
              "    .dataframe tbody tr th {\n",
              "        vertical-align: top;\n",
              "    }\n",
              "\n",
              "    .dataframe thead th {\n",
              "        text-align: right;\n",
              "    }\n",
              "</style>\n",
              "<table border=\"1\" class=\"dataframe\">\n",
              "  <thead>\n",
              "    <tr style=\"text-align: right;\">\n",
              "      <th></th>\n",
              "      <th>id</th>\n",
              "      <th>gender</th>\n",
              "      <th>age</th>\n",
              "      <th>topic</th>\n",
              "      <th>sign</th>\n",
              "      <th>date</th>\n",
              "      <th>text</th>\n",
              "    </tr>\n",
              "  </thead>\n",
              "  <tbody>\n",
              "    <tr>\n",
              "      <th>0</th>\n",
              "      <td>2059027</td>\n",
              "      <td>male</td>\n",
              "      <td>15</td>\n",
              "      <td>Student</td>\n",
              "      <td>Leo</td>\n",
              "      <td>14,May,2004</td>\n",
              "      <td>Info has been found (+/- 100 pages,...</td>\n",
              "    </tr>\n",
              "    <tr>\n",
              "      <th>1</th>\n",
              "      <td>2059027</td>\n",
              "      <td>male</td>\n",
              "      <td>15</td>\n",
              "      <td>Student</td>\n",
              "      <td>Leo</td>\n",
              "      <td>13,May,2004</td>\n",
              "      <td>These are the team members:   Drewe...</td>\n",
              "    </tr>\n",
              "    <tr>\n",
              "      <th>2</th>\n",
              "      <td>2059027</td>\n",
              "      <td>male</td>\n",
              "      <td>15</td>\n",
              "      <td>Student</td>\n",
              "      <td>Leo</td>\n",
              "      <td>12,May,2004</td>\n",
              "      <td>In het kader van kernfusie op aarde...</td>\n",
              "    </tr>\n",
              "    <tr>\n",
              "      <th>3</th>\n",
              "      <td>2059027</td>\n",
              "      <td>male</td>\n",
              "      <td>15</td>\n",
              "      <td>Student</td>\n",
              "      <td>Leo</td>\n",
              "      <td>12,May,2004</td>\n",
              "      <td>testing!!!  testing!!!</td>\n",
              "    </tr>\n",
              "    <tr>\n",
              "      <th>4</th>\n",
              "      <td>3581210</td>\n",
              "      <td>male</td>\n",
              "      <td>33</td>\n",
              "      <td>InvestmentBanking</td>\n",
              "      <td>Aquarius</td>\n",
              "      <td>11,June,2004</td>\n",
              "      <td>Thanks to Yahoo!'s Toolbar I can ...</td>\n",
              "    </tr>\n",
              "  </tbody>\n",
              "</table>\n",
              "</div>\n",
              "      <button class=\"colab-df-convert\" onclick=\"convertToInteractive('df-c2618acd-12a8-4b77-94f2-783ab744adf4')\"\n",
              "              title=\"Convert this dataframe to an interactive table.\"\n",
              "              style=\"display:none;\">\n",
              "        \n",
              "  <svg xmlns=\"http://www.w3.org/2000/svg\" height=\"24px\"viewBox=\"0 0 24 24\"\n",
              "       width=\"24px\">\n",
              "    <path d=\"M0 0h24v24H0V0z\" fill=\"none\"/>\n",
              "    <path d=\"M18.56 5.44l.94 2.06.94-2.06 2.06-.94-2.06-.94-.94-2.06-.94 2.06-2.06.94zm-11 1L8.5 8.5l.94-2.06 2.06-.94-2.06-.94L8.5 2.5l-.94 2.06-2.06.94zm10 10l.94 2.06.94-2.06 2.06-.94-2.06-.94-.94-2.06-.94 2.06-2.06.94z\"/><path d=\"M17.41 7.96l-1.37-1.37c-.4-.4-.92-.59-1.43-.59-.52 0-1.04.2-1.43.59L10.3 9.45l-7.72 7.72c-.78.78-.78 2.05 0 2.83L4 21.41c.39.39.9.59 1.41.59.51 0 1.02-.2 1.41-.59l7.78-7.78 2.81-2.81c.8-.78.8-2.07 0-2.86zM5.41 20L4 18.59l7.72-7.72 1.47 1.35L5.41 20z\"/>\n",
              "  </svg>\n",
              "      </button>\n",
              "      \n",
              "  <style>\n",
              "    .colab-df-container {\n",
              "      display:flex;\n",
              "      flex-wrap:wrap;\n",
              "      gap: 12px;\n",
              "    }\n",
              "\n",
              "    .colab-df-convert {\n",
              "      background-color: #E8F0FE;\n",
              "      border: none;\n",
              "      border-radius: 50%;\n",
              "      cursor: pointer;\n",
              "      display: none;\n",
              "      fill: #1967D2;\n",
              "      height: 32px;\n",
              "      padding: 0 0 0 0;\n",
              "      width: 32px;\n",
              "    }\n",
              "\n",
              "    .colab-df-convert:hover {\n",
              "      background-color: #E2EBFA;\n",
              "      box-shadow: 0px 1px 2px rgba(60, 64, 67, 0.3), 0px 1px 3px 1px rgba(60, 64, 67, 0.15);\n",
              "      fill: #174EA6;\n",
              "    }\n",
              "\n",
              "    [theme=dark] .colab-df-convert {\n",
              "      background-color: #3B4455;\n",
              "      fill: #D2E3FC;\n",
              "    }\n",
              "\n",
              "    [theme=dark] .colab-df-convert:hover {\n",
              "      background-color: #434B5C;\n",
              "      box-shadow: 0px 1px 3px 1px rgba(0, 0, 0, 0.15);\n",
              "      filter: drop-shadow(0px 1px 2px rgba(0, 0, 0, 0.3));\n",
              "      fill: #FFFFFF;\n",
              "    }\n",
              "  </style>\n",
              "\n",
              "      <script>\n",
              "        const buttonEl =\n",
              "          document.querySelector('#df-c2618acd-12a8-4b77-94f2-783ab744adf4 button.colab-df-convert');\n",
              "        buttonEl.style.display =\n",
              "          google.colab.kernel.accessAllowed ? 'block' : 'none';\n",
              "\n",
              "        async function convertToInteractive(key) {\n",
              "          const element = document.querySelector('#df-c2618acd-12a8-4b77-94f2-783ab744adf4');\n",
              "          const dataTable =\n",
              "            await google.colab.kernel.invokeFunction('convertToInteractive',\n",
              "                                                     [key], {});\n",
              "          if (!dataTable) return;\n",
              "\n",
              "          const docLinkHtml = 'Like what you see? Visit the ' +\n",
              "            '<a target=\"_blank\" href=https://colab.research.google.com/notebooks/data_table.ipynb>data table notebook</a>'\n",
              "            + ' to learn more about interactive tables.';\n",
              "          element.innerHTML = '';\n",
              "          dataTable['output_type'] = 'display_data';\n",
              "          await google.colab.output.renderOutput(dataTable, element);\n",
              "          const docLink = document.createElement('div');\n",
              "          docLink.innerHTML = docLinkHtml;\n",
              "          element.appendChild(docLink);\n",
              "        }\n",
              "      </script>\n",
              "    </div>\n",
              "  </div>\n",
              "  "
            ]
          },
          "metadata": {},
          "execution_count": 24
        }
      ],
      "source": [
        "#selecting subset of the data due to memory issues and notebook crashing\n",
        "blog_data = pd.read_csv('/content/blogtext.csv',nrows = 10000,index_col=False) \n",
        "blog_data.head()"
      ]
    },
    {
      "cell_type": "code",
      "execution_count": 25,
      "metadata": {
        "colab": {
          "base_uri": "https://localhost:8080/"
        },
        "id": "4e1PSu17kmCX",
        "outputId": "756f4d42-57d7-423f-e5a5-9405f699dc26"
      },
      "outputs": [
        {
          "output_type": "stream",
          "name": "stdout",
          "text": [
            "<class 'pandas.core.frame.DataFrame'>\n",
            "RangeIndex: 10000 entries, 0 to 9999\n",
            "Data columns (total 7 columns):\n",
            " #   Column  Non-Null Count  Dtype \n",
            "---  ------  --------------  ----- \n",
            " 0   id      10000 non-null  int64 \n",
            " 1   gender  10000 non-null  object\n",
            " 2   age     10000 non-null  int64 \n",
            " 3   topic   10000 non-null  object\n",
            " 4   sign    10000 non-null  object\n",
            " 5   date    10000 non-null  object\n",
            " 6   text    10000 non-null  object\n",
            "dtypes: int64(2), object(5)\n",
            "memory usage: 547.0+ KB\n"
          ]
        }
      ],
      "source": [
        "blog_data.info()"
      ]
    },
    {
      "cell_type": "code",
      "execution_count": 26,
      "metadata": {
        "colab": {
          "base_uri": "https://localhost:8080/"
        },
        "id": "OaO4trEWlXGW",
        "outputId": "71536982-c69e-49a5-d3b2-007b9684fcf6"
      },
      "outputs": [
        {
          "output_type": "execute_result",
          "data": {
            "text/plain": [
              "id        0\n",
              "gender    0\n",
              "age       0\n",
              "topic     0\n",
              "sign      0\n",
              "date      0\n",
              "text      0\n",
              "dtype: int64"
            ]
          },
          "metadata": {},
          "execution_count": 26
        }
      ],
      "source": [
        "blog_data.isnull().sum()"
      ]
    },
    {
      "cell_type": "code",
      "execution_count": 27,
      "metadata": {
        "colab": {
          "base_uri": "https://localhost:8080/"
        },
        "id": "LT7vvZ6ToX5E",
        "outputId": "9144fab4-a0ff-4b4f-b162-2400580fd82e"
      },
      "outputs": [
        {
          "output_type": "execute_result",
          "data": {
            "text/plain": [
              "indUnk                     3287\n",
              "Technology                 2654\n",
              "Fashion                    1622\n",
              "Student                    1137\n",
              "Education                   270\n",
              "Marketing                   156\n",
              "Engineering                 127\n",
              "Internet                    118\n",
              "Communications-Media         99\n",
              "BusinessServices             91\n",
              "Sports-Recreation            80\n",
              "Non-Profit                   71\n",
              "InvestmentBanking            70\n",
              "Science                      63\n",
              "Arts                         45\n",
              "Consulting                   21\n",
              "Museums-Libraries            17\n",
              "Banking                      16\n",
              "Automotive                   14\n",
              "Law                          11\n",
              "LawEnforcement-Security      10\n",
              "Religion                      9\n",
              "Accounting                    4\n",
              "Publishing                    4\n",
              "HumanResources                2\n",
              "Telecommunications            2\n",
              "Name: topic, dtype: int64"
            ]
          },
          "metadata": {},
          "execution_count": 27
        }
      ],
      "source": [
        "blog_data['topic'].value_counts()"
      ]
    },
    {
      "cell_type": "code",
      "execution_count": 28,
      "metadata": {
        "colab": {
          "base_uri": "https://localhost:8080/"
        },
        "id": "gZ3KL3JNo6CG",
        "outputId": "3d14c42e-27e0-4b5f-b4e7-d7c0f293c02b"
      },
      "outputs": [
        {
          "output_type": "execute_result",
          "data": {
            "text/plain": [
              "male      5916\n",
              "female    4084\n",
              "Name: gender, dtype: int64"
            ]
          },
          "metadata": {},
          "execution_count": 28
        }
      ],
      "source": [
        "blog_data['gender'].value_counts()"
      ]
    },
    {
      "cell_type": "markdown",
      "metadata": {
        "id": "6-0pEbhsouW4"
      },
      "source": [
        "**A. Clearly write outcome of data analysis**\n",
        "\n",
        "-We have huge dataset of 6 lakhs+ records and 7 attributes.\n",
        "-No null values present in the dataset.\n",
        "\n",
        "-ID and date columns can be dropped since these do not have a significant use.\n",
        "\n",
        "-datatypes can be changed based on the requirement i.e int to object for all columns.\n",
        "\n",
        "-Since the dataset is huge, we can select a small chunk for analysis\n",
        "\n"
      ]
    },
    {
      "cell_type": "markdown",
      "metadata": {
        "id": "hlpB3Ly0LX00"
      },
      "source": [
        "Dropping date and ID column"
      ]
    },
    {
      "cell_type": "code",
      "execution_count": 29,
      "metadata": {
        "id": "cMdZmrwmLAgr"
      },
      "outputs": [],
      "source": [
        "blog_data.drop(labels=['id','date'], axis=1,inplace=True)"
      ]
    },
    {
      "cell_type": "code",
      "execution_count": 30,
      "metadata": {
        "id": "DSLVvD9TLAkA"
      },
      "outputs": [],
      "source": [
        "blog_data['age']=blog_data['age'].astype('object') #changing dtype to object for age column"
      ]
    },
    {
      "cell_type": "markdown",
      "metadata": {
        "id": "W8ADl1sI63aC"
      },
      "source": [
        "**B. Clean the Structured Data**\n",
        "\n",
        "\n",
        "i. Missing value analysis and imputation"
      ]
    },
    {
      "cell_type": "code",
      "execution_count": 31,
      "metadata": {
        "colab": {
          "base_uri": "https://localhost:8080/"
        },
        "id": "sJbFhCsI62v8",
        "outputId": "8287592a-9d22-4d8d-ff19-10493bbf9c90"
      },
      "outputs": [
        {
          "output_type": "stream",
          "name": "stdout",
          "text": [
            "Missing/Null values: gender    0\n",
            "age       0\n",
            "topic     0\n",
            "sign      0\n",
            "text      0\n",
            "dtype: int64\n"
          ]
        }
      ],
      "source": [
        "print('Missing/Null values:',blog_data.isnull().sum())"
      ]
    },
    {
      "cell_type": "code",
      "execution_count": 32,
      "metadata": {
        "colab": {
          "base_uri": "https://localhost:8080/"
        },
        "id": "fPnf_snFvysg",
        "outputId": "91b0dc6c-617b-4036-cf84-29b089fed3da"
      },
      "outputs": [
        {
          "output_type": "stream",
          "name": "stdout",
          "text": [
            "Looking in indexes: https://pypi.org/simple, https://us-python.pkg.dev/colab-wheels/public/simple/\n",
            "Collecting langdetect\n",
            "  Downloading langdetect-1.0.9.tar.gz (981 kB)\n",
            "\u001b[?25l     \u001b[90m━━━━━━━━━━━━━━━━━━━━━━━━━━━━━━━━━━━━━━━━\u001b[0m \u001b[32m0.0/981.5 kB\u001b[0m \u001b[31m?\u001b[0m eta \u001b[36m-:--:--\u001b[0m\r\u001b[2K     \u001b[90m━━━━━━━━━━━━━━━━━━━━━━━━━━━━━━━━━━━━━━\u001b[0m \u001b[32m981.5/981.5 kB\u001b[0m \u001b[31m45.1 MB/s\u001b[0m eta \u001b[36m0:00:00\u001b[0m\n",
            "\u001b[?25h  Preparing metadata (setup.py) ... \u001b[?25l\u001b[?25hdone\n",
            "Requirement already satisfied: six in /usr/local/lib/python3.9/dist-packages (from langdetect) (1.16.0)\n",
            "Building wheels for collected packages: langdetect\n",
            "  Building wheel for langdetect (setup.py) ... \u001b[?25l\u001b[?25hdone\n",
            "  Created wheel for langdetect: filename=langdetect-1.0.9-py3-none-any.whl size=993243 sha256=a24e70b87ce7e29a5bca1ad794ef8e123df8f20506c8eac59d16e4c154dbf1b1\n",
            "  Stored in directory: /root/.cache/pip/wheels/d1/c1/d9/7e068de779d863bc8f8fc9467d85e25cfe47fa5051fff1a1bb\n",
            "Successfully built langdetect\n",
            "Installing collected packages: langdetect\n",
            "Successfully installed langdetect-1.0.9\n"
          ]
        }
      ],
      "source": [
        "pip install langdetect"
      ]
    },
    {
      "cell_type": "markdown",
      "metadata": {
        "id": "UdmIUZTg7RxS"
      },
      "source": [
        "ii. Eliminate Non-English textual data."
      ]
    },
    {
      "cell_type": "code",
      "execution_count": 33,
      "metadata": {
        "id": "hN7FDAPIuGDR"
      },
      "outputs": [],
      "source": [
        "from langdetect import detect_langs\n",
        "\n",
        "for text in blog_data['text']:\n",
        "    try:\n",
        "        lang = detect_langs(text)[0].lang\n",
        "        if lang == 'en':\n",
        "      \n",
        "            pass\n",
        "        else:\n",
        "        \n",
        "            blog_data['text'].remove(text)\n",
        "    except:\n",
        "        pass"
      ]
    },
    {
      "cell_type": "code",
      "execution_count": 34,
      "metadata": {
        "colab": {
          "base_uri": "https://localhost:8080/"
        },
        "id": "hkeTrcDW0ByZ",
        "outputId": "a0881bc9-1a86-436f-e73b-58cc0b2870af"
      },
      "outputs": [
        {
          "output_type": "execute_result",
          "data": {
            "text/plain": [
              "(10000, 5)"
            ]
          },
          "metadata": {},
          "execution_count": 34
        }
      ],
      "source": [
        "blog_data.shape"
      ]
    },
    {
      "cell_type": "markdown",
      "metadata": {
        "id": "huCTPJTd0oSO"
      },
      "source": [
        "#2. Preprocess unstructured data to make it consumable for model training.\n",
        "\n",
        "A. Eliminate All special Characters and Numbers "
      ]
    },
    {
      "cell_type": "code",
      "execution_count": 35,
      "metadata": {
        "id": "_BpItpKAgv9x"
      },
      "outputs": [],
      "source": [
        "import re\n",
        "blog_data['clean_text'] = blog_data['text'].apply(lambda x: re.sub(r'[^A-Za-z]+',' ',x))"
      ]
    },
    {
      "cell_type": "code",
      "execution_count": 36,
      "metadata": {
        "colab": {
          "base_uri": "https://localhost:8080/",
          "height": 206
        },
        "id": "WhDrZ4VYhVlO",
        "outputId": "b3888a15-37d7-4487-a4b6-5958bc380b55"
      },
      "outputs": [
        {
          "output_type": "execute_result",
          "data": {
            "text/plain": [
              "  gender age              topic      sign  \\\n",
              "0   male  15            Student       Leo   \n",
              "1   male  15            Student       Leo   \n",
              "2   male  15            Student       Leo   \n",
              "3   male  15            Student       Leo   \n",
              "4   male  33  InvestmentBanking  Aquarius   \n",
              "\n",
              "                                                text  \\\n",
              "0             Info has been found (+/- 100 pages,...   \n",
              "1             These are the team members:   Drewe...   \n",
              "2             In het kader van kernfusie op aarde...   \n",
              "3                   testing!!!  testing!!!             \n",
              "4               Thanks to Yahoo!'s Toolbar I can ...   \n",
              "\n",
              "                                          clean_text  \n",
              "0   Info has been found pages and MB of pdf files...  \n",
              "1   These are the team members Drewes van der Laa...  \n",
              "2   In het kader van kernfusie op aarde MAAK JE E...  \n",
              "3                                   testing testing   \n",
              "4   Thanks to Yahoo s Toolbar I can now capture t...  "
            ],
            "text/html": [
              "\n",
              "  <div id=\"df-69e0dc24-f25b-4973-8947-368625da374c\">\n",
              "    <div class=\"colab-df-container\">\n",
              "      <div>\n",
              "<style scoped>\n",
              "    .dataframe tbody tr th:only-of-type {\n",
              "        vertical-align: middle;\n",
              "    }\n",
              "\n",
              "    .dataframe tbody tr th {\n",
              "        vertical-align: top;\n",
              "    }\n",
              "\n",
              "    .dataframe thead th {\n",
              "        text-align: right;\n",
              "    }\n",
              "</style>\n",
              "<table border=\"1\" class=\"dataframe\">\n",
              "  <thead>\n",
              "    <tr style=\"text-align: right;\">\n",
              "      <th></th>\n",
              "      <th>gender</th>\n",
              "      <th>age</th>\n",
              "      <th>topic</th>\n",
              "      <th>sign</th>\n",
              "      <th>text</th>\n",
              "      <th>clean_text</th>\n",
              "    </tr>\n",
              "  </thead>\n",
              "  <tbody>\n",
              "    <tr>\n",
              "      <th>0</th>\n",
              "      <td>male</td>\n",
              "      <td>15</td>\n",
              "      <td>Student</td>\n",
              "      <td>Leo</td>\n",
              "      <td>Info has been found (+/- 100 pages,...</td>\n",
              "      <td>Info has been found pages and MB of pdf files...</td>\n",
              "    </tr>\n",
              "    <tr>\n",
              "      <th>1</th>\n",
              "      <td>male</td>\n",
              "      <td>15</td>\n",
              "      <td>Student</td>\n",
              "      <td>Leo</td>\n",
              "      <td>These are the team members:   Drewe...</td>\n",
              "      <td>These are the team members Drewes van der Laa...</td>\n",
              "    </tr>\n",
              "    <tr>\n",
              "      <th>2</th>\n",
              "      <td>male</td>\n",
              "      <td>15</td>\n",
              "      <td>Student</td>\n",
              "      <td>Leo</td>\n",
              "      <td>In het kader van kernfusie op aarde...</td>\n",
              "      <td>In het kader van kernfusie op aarde MAAK JE E...</td>\n",
              "    </tr>\n",
              "    <tr>\n",
              "      <th>3</th>\n",
              "      <td>male</td>\n",
              "      <td>15</td>\n",
              "      <td>Student</td>\n",
              "      <td>Leo</td>\n",
              "      <td>testing!!!  testing!!!</td>\n",
              "      <td>testing testing</td>\n",
              "    </tr>\n",
              "    <tr>\n",
              "      <th>4</th>\n",
              "      <td>male</td>\n",
              "      <td>33</td>\n",
              "      <td>InvestmentBanking</td>\n",
              "      <td>Aquarius</td>\n",
              "      <td>Thanks to Yahoo!'s Toolbar I can ...</td>\n",
              "      <td>Thanks to Yahoo s Toolbar I can now capture t...</td>\n",
              "    </tr>\n",
              "  </tbody>\n",
              "</table>\n",
              "</div>\n",
              "      <button class=\"colab-df-convert\" onclick=\"convertToInteractive('df-69e0dc24-f25b-4973-8947-368625da374c')\"\n",
              "              title=\"Convert this dataframe to an interactive table.\"\n",
              "              style=\"display:none;\">\n",
              "        \n",
              "  <svg xmlns=\"http://www.w3.org/2000/svg\" height=\"24px\"viewBox=\"0 0 24 24\"\n",
              "       width=\"24px\">\n",
              "    <path d=\"M0 0h24v24H0V0z\" fill=\"none\"/>\n",
              "    <path d=\"M18.56 5.44l.94 2.06.94-2.06 2.06-.94-2.06-.94-.94-2.06-.94 2.06-2.06.94zm-11 1L8.5 8.5l.94-2.06 2.06-.94-2.06-.94L8.5 2.5l-.94 2.06-2.06.94zm10 10l.94 2.06.94-2.06 2.06-.94-2.06-.94-.94-2.06-.94 2.06-2.06.94z\"/><path d=\"M17.41 7.96l-1.37-1.37c-.4-.4-.92-.59-1.43-.59-.52 0-1.04.2-1.43.59L10.3 9.45l-7.72 7.72c-.78.78-.78 2.05 0 2.83L4 21.41c.39.39.9.59 1.41.59.51 0 1.02-.2 1.41-.59l7.78-7.78 2.81-2.81c.8-.78.8-2.07 0-2.86zM5.41 20L4 18.59l7.72-7.72 1.47 1.35L5.41 20z\"/>\n",
              "  </svg>\n",
              "      </button>\n",
              "      \n",
              "  <style>\n",
              "    .colab-df-container {\n",
              "      display:flex;\n",
              "      flex-wrap:wrap;\n",
              "      gap: 12px;\n",
              "    }\n",
              "\n",
              "    .colab-df-convert {\n",
              "      background-color: #E8F0FE;\n",
              "      border: none;\n",
              "      border-radius: 50%;\n",
              "      cursor: pointer;\n",
              "      display: none;\n",
              "      fill: #1967D2;\n",
              "      height: 32px;\n",
              "      padding: 0 0 0 0;\n",
              "      width: 32px;\n",
              "    }\n",
              "\n",
              "    .colab-df-convert:hover {\n",
              "      background-color: #E2EBFA;\n",
              "      box-shadow: 0px 1px 2px rgba(60, 64, 67, 0.3), 0px 1px 3px 1px rgba(60, 64, 67, 0.15);\n",
              "      fill: #174EA6;\n",
              "    }\n",
              "\n",
              "    [theme=dark] .colab-df-convert {\n",
              "      background-color: #3B4455;\n",
              "      fill: #D2E3FC;\n",
              "    }\n",
              "\n",
              "    [theme=dark] .colab-df-convert:hover {\n",
              "      background-color: #434B5C;\n",
              "      box-shadow: 0px 1px 3px 1px rgba(0, 0, 0, 0.15);\n",
              "      filter: drop-shadow(0px 1px 2px rgba(0, 0, 0, 0.3));\n",
              "      fill: #FFFFFF;\n",
              "    }\n",
              "  </style>\n",
              "\n",
              "      <script>\n",
              "        const buttonEl =\n",
              "          document.querySelector('#df-69e0dc24-f25b-4973-8947-368625da374c button.colab-df-convert');\n",
              "        buttonEl.style.display =\n",
              "          google.colab.kernel.accessAllowed ? 'block' : 'none';\n",
              "\n",
              "        async function convertToInteractive(key) {\n",
              "          const element = document.querySelector('#df-69e0dc24-f25b-4973-8947-368625da374c');\n",
              "          const dataTable =\n",
              "            await google.colab.kernel.invokeFunction('convertToInteractive',\n",
              "                                                     [key], {});\n",
              "          if (!dataTable) return;\n",
              "\n",
              "          const docLinkHtml = 'Like what you see? Visit the ' +\n",
              "            '<a target=\"_blank\" href=https://colab.research.google.com/notebooks/data_table.ipynb>data table notebook</a>'\n",
              "            + ' to learn more about interactive tables.';\n",
              "          element.innerHTML = '';\n",
              "          dataTable['output_type'] = 'display_data';\n",
              "          await google.colab.output.renderOutput(dataTable, element);\n",
              "          const docLink = document.createElement('div');\n",
              "          docLink.innerHTML = docLinkHtml;\n",
              "          element.appendChild(docLink);\n",
              "        }\n",
              "      </script>\n",
              "    </div>\n",
              "  </div>\n",
              "  "
            ]
          },
          "metadata": {},
          "execution_count": 36
        }
      ],
      "source": [
        "blog_data.head()"
      ]
    },
    {
      "cell_type": "markdown",
      "metadata": {
        "id": "tX5n_rfxhkKy"
      },
      "source": [
        "B. Lowercase all textual data"
      ]
    },
    {
      "cell_type": "code",
      "execution_count": 37,
      "metadata": {
        "colab": {
          "base_uri": "https://localhost:8080/",
          "height": 206
        },
        "id": "2C-NQfllhb1h",
        "outputId": "6d7f5a0d-d8a5-4561-c8fe-6c9f4a6ed396"
      },
      "outputs": [
        {
          "output_type": "execute_result",
          "data": {
            "text/plain": [
              "  gender age              topic      sign  \\\n",
              "0   male  15            Student       Leo   \n",
              "1   male  15            Student       Leo   \n",
              "2   male  15            Student       Leo   \n",
              "3   male  15            Student       Leo   \n",
              "4   male  33  InvestmentBanking  Aquarius   \n",
              "\n",
              "                                                text  \\\n",
              "0             Info has been found (+/- 100 pages,...   \n",
              "1             These are the team members:   Drewe...   \n",
              "2             In het kader van kernfusie op aarde...   \n",
              "3                   testing!!!  testing!!!             \n",
              "4               Thanks to Yahoo!'s Toolbar I can ...   \n",
              "\n",
              "                                          clean_text  \n",
              "0   info has been found pages and mb of pdf files...  \n",
              "1   these are the team members drewes van der laa...  \n",
              "2   in het kader van kernfusie op aarde maak je e...  \n",
              "3                                   testing testing   \n",
              "4   thanks to yahoo s toolbar i can now capture t...  "
            ],
            "text/html": [
              "\n",
              "  <div id=\"df-6118017d-23b3-460b-a4fc-86f5468076d4\">\n",
              "    <div class=\"colab-df-container\">\n",
              "      <div>\n",
              "<style scoped>\n",
              "    .dataframe tbody tr th:only-of-type {\n",
              "        vertical-align: middle;\n",
              "    }\n",
              "\n",
              "    .dataframe tbody tr th {\n",
              "        vertical-align: top;\n",
              "    }\n",
              "\n",
              "    .dataframe thead th {\n",
              "        text-align: right;\n",
              "    }\n",
              "</style>\n",
              "<table border=\"1\" class=\"dataframe\">\n",
              "  <thead>\n",
              "    <tr style=\"text-align: right;\">\n",
              "      <th></th>\n",
              "      <th>gender</th>\n",
              "      <th>age</th>\n",
              "      <th>topic</th>\n",
              "      <th>sign</th>\n",
              "      <th>text</th>\n",
              "      <th>clean_text</th>\n",
              "    </tr>\n",
              "  </thead>\n",
              "  <tbody>\n",
              "    <tr>\n",
              "      <th>0</th>\n",
              "      <td>male</td>\n",
              "      <td>15</td>\n",
              "      <td>Student</td>\n",
              "      <td>Leo</td>\n",
              "      <td>Info has been found (+/- 100 pages,...</td>\n",
              "      <td>info has been found pages and mb of pdf files...</td>\n",
              "    </tr>\n",
              "    <tr>\n",
              "      <th>1</th>\n",
              "      <td>male</td>\n",
              "      <td>15</td>\n",
              "      <td>Student</td>\n",
              "      <td>Leo</td>\n",
              "      <td>These are the team members:   Drewe...</td>\n",
              "      <td>these are the team members drewes van der laa...</td>\n",
              "    </tr>\n",
              "    <tr>\n",
              "      <th>2</th>\n",
              "      <td>male</td>\n",
              "      <td>15</td>\n",
              "      <td>Student</td>\n",
              "      <td>Leo</td>\n",
              "      <td>In het kader van kernfusie op aarde...</td>\n",
              "      <td>in het kader van kernfusie op aarde maak je e...</td>\n",
              "    </tr>\n",
              "    <tr>\n",
              "      <th>3</th>\n",
              "      <td>male</td>\n",
              "      <td>15</td>\n",
              "      <td>Student</td>\n",
              "      <td>Leo</td>\n",
              "      <td>testing!!!  testing!!!</td>\n",
              "      <td>testing testing</td>\n",
              "    </tr>\n",
              "    <tr>\n",
              "      <th>4</th>\n",
              "      <td>male</td>\n",
              "      <td>33</td>\n",
              "      <td>InvestmentBanking</td>\n",
              "      <td>Aquarius</td>\n",
              "      <td>Thanks to Yahoo!'s Toolbar I can ...</td>\n",
              "      <td>thanks to yahoo s toolbar i can now capture t...</td>\n",
              "    </tr>\n",
              "  </tbody>\n",
              "</table>\n",
              "</div>\n",
              "      <button class=\"colab-df-convert\" onclick=\"convertToInteractive('df-6118017d-23b3-460b-a4fc-86f5468076d4')\"\n",
              "              title=\"Convert this dataframe to an interactive table.\"\n",
              "              style=\"display:none;\">\n",
              "        \n",
              "  <svg xmlns=\"http://www.w3.org/2000/svg\" height=\"24px\"viewBox=\"0 0 24 24\"\n",
              "       width=\"24px\">\n",
              "    <path d=\"M0 0h24v24H0V0z\" fill=\"none\"/>\n",
              "    <path d=\"M18.56 5.44l.94 2.06.94-2.06 2.06-.94-2.06-.94-.94-2.06-.94 2.06-2.06.94zm-11 1L8.5 8.5l.94-2.06 2.06-.94-2.06-.94L8.5 2.5l-.94 2.06-2.06.94zm10 10l.94 2.06.94-2.06 2.06-.94-2.06-.94-.94-2.06-.94 2.06-2.06.94z\"/><path d=\"M17.41 7.96l-1.37-1.37c-.4-.4-.92-.59-1.43-.59-.52 0-1.04.2-1.43.59L10.3 9.45l-7.72 7.72c-.78.78-.78 2.05 0 2.83L4 21.41c.39.39.9.59 1.41.59.51 0 1.02-.2 1.41-.59l7.78-7.78 2.81-2.81c.8-.78.8-2.07 0-2.86zM5.41 20L4 18.59l7.72-7.72 1.47 1.35L5.41 20z\"/>\n",
              "  </svg>\n",
              "      </button>\n",
              "      \n",
              "  <style>\n",
              "    .colab-df-container {\n",
              "      display:flex;\n",
              "      flex-wrap:wrap;\n",
              "      gap: 12px;\n",
              "    }\n",
              "\n",
              "    .colab-df-convert {\n",
              "      background-color: #E8F0FE;\n",
              "      border: none;\n",
              "      border-radius: 50%;\n",
              "      cursor: pointer;\n",
              "      display: none;\n",
              "      fill: #1967D2;\n",
              "      height: 32px;\n",
              "      padding: 0 0 0 0;\n",
              "      width: 32px;\n",
              "    }\n",
              "\n",
              "    .colab-df-convert:hover {\n",
              "      background-color: #E2EBFA;\n",
              "      box-shadow: 0px 1px 2px rgba(60, 64, 67, 0.3), 0px 1px 3px 1px rgba(60, 64, 67, 0.15);\n",
              "      fill: #174EA6;\n",
              "    }\n",
              "\n",
              "    [theme=dark] .colab-df-convert {\n",
              "      background-color: #3B4455;\n",
              "      fill: #D2E3FC;\n",
              "    }\n",
              "\n",
              "    [theme=dark] .colab-df-convert:hover {\n",
              "      background-color: #434B5C;\n",
              "      box-shadow: 0px 1px 3px 1px rgba(0, 0, 0, 0.15);\n",
              "      filter: drop-shadow(0px 1px 2px rgba(0, 0, 0, 0.3));\n",
              "      fill: #FFFFFF;\n",
              "    }\n",
              "  </style>\n",
              "\n",
              "      <script>\n",
              "        const buttonEl =\n",
              "          document.querySelector('#df-6118017d-23b3-460b-a4fc-86f5468076d4 button.colab-df-convert');\n",
              "        buttonEl.style.display =\n",
              "          google.colab.kernel.accessAllowed ? 'block' : 'none';\n",
              "\n",
              "        async function convertToInteractive(key) {\n",
              "          const element = document.querySelector('#df-6118017d-23b3-460b-a4fc-86f5468076d4');\n",
              "          const dataTable =\n",
              "            await google.colab.kernel.invokeFunction('convertToInteractive',\n",
              "                                                     [key], {});\n",
              "          if (!dataTable) return;\n",
              "\n",
              "          const docLinkHtml = 'Like what you see? Visit the ' +\n",
              "            '<a target=\"_blank\" href=https://colab.research.google.com/notebooks/data_table.ipynb>data table notebook</a>'\n",
              "            + ' to learn more about interactive tables.';\n",
              "          element.innerHTML = '';\n",
              "          dataTable['output_type'] = 'display_data';\n",
              "          await google.colab.output.renderOutput(dataTable, element);\n",
              "          const docLink = document.createElement('div');\n",
              "          docLink.innerHTML = docLinkHtml;\n",
              "          element.appendChild(docLink);\n",
              "        }\n",
              "      </script>\n",
              "    </div>\n",
              "  </div>\n",
              "  "
            ]
          },
          "metadata": {},
          "execution_count": 37
        }
      ],
      "source": [
        "blog_data['clean_text'] = blog_data['clean_text'].apply(lambda x: x.lower())\n",
        "blog_data.head()"
      ]
    },
    {
      "cell_type": "markdown",
      "metadata": {
        "id": "VsylGsbFh-HH"
      },
      "source": [
        "C. Remove all Stopwords"
      ]
    },
    {
      "cell_type": "code",
      "execution_count": 38,
      "metadata": {
        "colab": {
          "base_uri": "https://localhost:8080/",
          "height": 206
        },
        "id": "SLLXkQvxh7dg",
        "outputId": "2a2f3173-c8b9-4373-89d7-d1f5d577b14a"
      },
      "outputs": [
        {
          "output_type": "execute_result",
          "data": {
            "text/plain": [
              "  gender age              topic      sign  \\\n",
              "0   male  15            Student       Leo   \n",
              "1   male  15            Student       Leo   \n",
              "2   male  15            Student       Leo   \n",
              "3   male  15            Student       Leo   \n",
              "4   male  33  InvestmentBanking  Aquarius   \n",
              "\n",
              "                                                text  \\\n",
              "0             Info has been found (+/- 100 pages,...   \n",
              "1             These are the team members:   Drewe...   \n",
              "2             In het kader van kernfusie op aarde...   \n",
              "3                   testing!!!  testing!!!             \n",
              "4               Thanks to Yahoo!'s Toolbar I can ...   \n",
              "\n",
              "                                          clean_text  \n",
              "0  info found pages mb pdf files wait untill team...  \n",
              "1  team members drewes van der laag urllink mail ...  \n",
              "2  het kader van kernfusie op aarde maak je eigen...  \n",
              "3                                    testing testing  \n",
              "4  thanks yahoo toolbar capture urls popups means...  "
            ],
            "text/html": [
              "\n",
              "  <div id=\"df-aa955178-4d95-4302-bbdb-787ab75e1a08\">\n",
              "    <div class=\"colab-df-container\">\n",
              "      <div>\n",
              "<style scoped>\n",
              "    .dataframe tbody tr th:only-of-type {\n",
              "        vertical-align: middle;\n",
              "    }\n",
              "\n",
              "    .dataframe tbody tr th {\n",
              "        vertical-align: top;\n",
              "    }\n",
              "\n",
              "    .dataframe thead th {\n",
              "        text-align: right;\n",
              "    }\n",
              "</style>\n",
              "<table border=\"1\" class=\"dataframe\">\n",
              "  <thead>\n",
              "    <tr style=\"text-align: right;\">\n",
              "      <th></th>\n",
              "      <th>gender</th>\n",
              "      <th>age</th>\n",
              "      <th>topic</th>\n",
              "      <th>sign</th>\n",
              "      <th>text</th>\n",
              "      <th>clean_text</th>\n",
              "    </tr>\n",
              "  </thead>\n",
              "  <tbody>\n",
              "    <tr>\n",
              "      <th>0</th>\n",
              "      <td>male</td>\n",
              "      <td>15</td>\n",
              "      <td>Student</td>\n",
              "      <td>Leo</td>\n",
              "      <td>Info has been found (+/- 100 pages,...</td>\n",
              "      <td>info found pages mb pdf files wait untill team...</td>\n",
              "    </tr>\n",
              "    <tr>\n",
              "      <th>1</th>\n",
              "      <td>male</td>\n",
              "      <td>15</td>\n",
              "      <td>Student</td>\n",
              "      <td>Leo</td>\n",
              "      <td>These are the team members:   Drewe...</td>\n",
              "      <td>team members drewes van der laag urllink mail ...</td>\n",
              "    </tr>\n",
              "    <tr>\n",
              "      <th>2</th>\n",
              "      <td>male</td>\n",
              "      <td>15</td>\n",
              "      <td>Student</td>\n",
              "      <td>Leo</td>\n",
              "      <td>In het kader van kernfusie op aarde...</td>\n",
              "      <td>het kader van kernfusie op aarde maak je eigen...</td>\n",
              "    </tr>\n",
              "    <tr>\n",
              "      <th>3</th>\n",
              "      <td>male</td>\n",
              "      <td>15</td>\n",
              "      <td>Student</td>\n",
              "      <td>Leo</td>\n",
              "      <td>testing!!!  testing!!!</td>\n",
              "      <td>testing testing</td>\n",
              "    </tr>\n",
              "    <tr>\n",
              "      <th>4</th>\n",
              "      <td>male</td>\n",
              "      <td>33</td>\n",
              "      <td>InvestmentBanking</td>\n",
              "      <td>Aquarius</td>\n",
              "      <td>Thanks to Yahoo!'s Toolbar I can ...</td>\n",
              "      <td>thanks yahoo toolbar capture urls popups means...</td>\n",
              "    </tr>\n",
              "  </tbody>\n",
              "</table>\n",
              "</div>\n",
              "      <button class=\"colab-df-convert\" onclick=\"convertToInteractive('df-aa955178-4d95-4302-bbdb-787ab75e1a08')\"\n",
              "              title=\"Convert this dataframe to an interactive table.\"\n",
              "              style=\"display:none;\">\n",
              "        \n",
              "  <svg xmlns=\"http://www.w3.org/2000/svg\" height=\"24px\"viewBox=\"0 0 24 24\"\n",
              "       width=\"24px\">\n",
              "    <path d=\"M0 0h24v24H0V0z\" fill=\"none\"/>\n",
              "    <path d=\"M18.56 5.44l.94 2.06.94-2.06 2.06-.94-2.06-.94-.94-2.06-.94 2.06-2.06.94zm-11 1L8.5 8.5l.94-2.06 2.06-.94-2.06-.94L8.5 2.5l-.94 2.06-2.06.94zm10 10l.94 2.06.94-2.06 2.06-.94-2.06-.94-.94-2.06-.94 2.06-2.06.94z\"/><path d=\"M17.41 7.96l-1.37-1.37c-.4-.4-.92-.59-1.43-.59-.52 0-1.04.2-1.43.59L10.3 9.45l-7.72 7.72c-.78.78-.78 2.05 0 2.83L4 21.41c.39.39.9.59 1.41.59.51 0 1.02-.2 1.41-.59l7.78-7.78 2.81-2.81c.8-.78.8-2.07 0-2.86zM5.41 20L4 18.59l7.72-7.72 1.47 1.35L5.41 20z\"/>\n",
              "  </svg>\n",
              "      </button>\n",
              "      \n",
              "  <style>\n",
              "    .colab-df-container {\n",
              "      display:flex;\n",
              "      flex-wrap:wrap;\n",
              "      gap: 12px;\n",
              "    }\n",
              "\n",
              "    .colab-df-convert {\n",
              "      background-color: #E8F0FE;\n",
              "      border: none;\n",
              "      border-radius: 50%;\n",
              "      cursor: pointer;\n",
              "      display: none;\n",
              "      fill: #1967D2;\n",
              "      height: 32px;\n",
              "      padding: 0 0 0 0;\n",
              "      width: 32px;\n",
              "    }\n",
              "\n",
              "    .colab-df-convert:hover {\n",
              "      background-color: #E2EBFA;\n",
              "      box-shadow: 0px 1px 2px rgba(60, 64, 67, 0.3), 0px 1px 3px 1px rgba(60, 64, 67, 0.15);\n",
              "      fill: #174EA6;\n",
              "    }\n",
              "\n",
              "    [theme=dark] .colab-df-convert {\n",
              "      background-color: #3B4455;\n",
              "      fill: #D2E3FC;\n",
              "    }\n",
              "\n",
              "    [theme=dark] .colab-df-convert:hover {\n",
              "      background-color: #434B5C;\n",
              "      box-shadow: 0px 1px 3px 1px rgba(0, 0, 0, 0.15);\n",
              "      filter: drop-shadow(0px 1px 2px rgba(0, 0, 0, 0.3));\n",
              "      fill: #FFFFFF;\n",
              "    }\n",
              "  </style>\n",
              "\n",
              "      <script>\n",
              "        const buttonEl =\n",
              "          document.querySelector('#df-aa955178-4d95-4302-bbdb-787ab75e1a08 button.colab-df-convert');\n",
              "        buttonEl.style.display =\n",
              "          google.colab.kernel.accessAllowed ? 'block' : 'none';\n",
              "\n",
              "        async function convertToInteractive(key) {\n",
              "          const element = document.querySelector('#df-aa955178-4d95-4302-bbdb-787ab75e1a08');\n",
              "          const dataTable =\n",
              "            await google.colab.kernel.invokeFunction('convertToInteractive',\n",
              "                                                     [key], {});\n",
              "          if (!dataTable) return;\n",
              "\n",
              "          const docLinkHtml = 'Like what you see? Visit the ' +\n",
              "            '<a target=\"_blank\" href=https://colab.research.google.com/notebooks/data_table.ipynb>data table notebook</a>'\n",
              "            + ' to learn more about interactive tables.';\n",
              "          element.innerHTML = '';\n",
              "          dataTable['output_type'] = 'display_data';\n",
              "          await google.colab.output.renderOutput(dataTable, element);\n",
              "          const docLink = document.createElement('div');\n",
              "          docLink.innerHTML = docLinkHtml;\n",
              "          element.appendChild(docLink);\n",
              "        }\n",
              "      </script>\n",
              "    </div>\n",
              "  </div>\n",
              "  "
            ]
          },
          "metadata": {},
          "execution_count": 38
        }
      ],
      "source": [
        "from nltk.corpus import stopwords\n",
        "stopwords=set(stopwords.words('english'))\n",
        "\n",
        "blog_data['clean_text']=blog_data['clean_text'].apply(lambda x: ' '.join([words for words in x.split() if words not in stopwords]))\n",
        "blog_data.head()"
      ]
    },
    {
      "cell_type": "markdown",
      "metadata": {
        "id": "A25FjvawiaNU"
      },
      "source": [
        "D. Remove all extra white spaces"
      ]
    },
    {
      "cell_type": "code",
      "execution_count": 39,
      "metadata": {
        "colab": {
          "base_uri": "https://localhost:8080/",
          "height": 206
        },
        "id": "a1fjQFwvictz",
        "outputId": "3ee64e0f-cf9f-475d-8878-4d688aa88c4e"
      },
      "outputs": [
        {
          "output_type": "execute_result",
          "data": {
            "text/plain": [
              "  gender age              topic      sign  \\\n",
              "0   male  15            Student       Leo   \n",
              "1   male  15            Student       Leo   \n",
              "2   male  15            Student       Leo   \n",
              "3   male  15            Student       Leo   \n",
              "4   male  33  InvestmentBanking  Aquarius   \n",
              "\n",
              "                                                text  \\\n",
              "0             Info has been found (+/- 100 pages,...   \n",
              "1             These are the team members:   Drewe...   \n",
              "2             In het kader van kernfusie op aarde...   \n",
              "3                   testing!!!  testing!!!             \n",
              "4               Thanks to Yahoo!'s Toolbar I can ...   \n",
              "\n",
              "                                          clean_text  \n",
              "0  info found pages mb pdf files wait untill team...  \n",
              "1  team members drewes van der laag urllink mail ...  \n",
              "2  het kader van kernfusie op aarde maak je eigen...  \n",
              "3                                    testing testing  \n",
              "4  thanks yahoo toolbar capture urls popups means...  "
            ],
            "text/html": [
              "\n",
              "  <div id=\"df-b36f5675-3d71-4382-9e3d-11e85bae6535\">\n",
              "    <div class=\"colab-df-container\">\n",
              "      <div>\n",
              "<style scoped>\n",
              "    .dataframe tbody tr th:only-of-type {\n",
              "        vertical-align: middle;\n",
              "    }\n",
              "\n",
              "    .dataframe tbody tr th {\n",
              "        vertical-align: top;\n",
              "    }\n",
              "\n",
              "    .dataframe thead th {\n",
              "        text-align: right;\n",
              "    }\n",
              "</style>\n",
              "<table border=\"1\" class=\"dataframe\">\n",
              "  <thead>\n",
              "    <tr style=\"text-align: right;\">\n",
              "      <th></th>\n",
              "      <th>gender</th>\n",
              "      <th>age</th>\n",
              "      <th>topic</th>\n",
              "      <th>sign</th>\n",
              "      <th>text</th>\n",
              "      <th>clean_text</th>\n",
              "    </tr>\n",
              "  </thead>\n",
              "  <tbody>\n",
              "    <tr>\n",
              "      <th>0</th>\n",
              "      <td>male</td>\n",
              "      <td>15</td>\n",
              "      <td>Student</td>\n",
              "      <td>Leo</td>\n",
              "      <td>Info has been found (+/- 100 pages,...</td>\n",
              "      <td>info found pages mb pdf files wait untill team...</td>\n",
              "    </tr>\n",
              "    <tr>\n",
              "      <th>1</th>\n",
              "      <td>male</td>\n",
              "      <td>15</td>\n",
              "      <td>Student</td>\n",
              "      <td>Leo</td>\n",
              "      <td>These are the team members:   Drewe...</td>\n",
              "      <td>team members drewes van der laag urllink mail ...</td>\n",
              "    </tr>\n",
              "    <tr>\n",
              "      <th>2</th>\n",
              "      <td>male</td>\n",
              "      <td>15</td>\n",
              "      <td>Student</td>\n",
              "      <td>Leo</td>\n",
              "      <td>In het kader van kernfusie op aarde...</td>\n",
              "      <td>het kader van kernfusie op aarde maak je eigen...</td>\n",
              "    </tr>\n",
              "    <tr>\n",
              "      <th>3</th>\n",
              "      <td>male</td>\n",
              "      <td>15</td>\n",
              "      <td>Student</td>\n",
              "      <td>Leo</td>\n",
              "      <td>testing!!!  testing!!!</td>\n",
              "      <td>testing testing</td>\n",
              "    </tr>\n",
              "    <tr>\n",
              "      <th>4</th>\n",
              "      <td>male</td>\n",
              "      <td>33</td>\n",
              "      <td>InvestmentBanking</td>\n",
              "      <td>Aquarius</td>\n",
              "      <td>Thanks to Yahoo!'s Toolbar I can ...</td>\n",
              "      <td>thanks yahoo toolbar capture urls popups means...</td>\n",
              "    </tr>\n",
              "  </tbody>\n",
              "</table>\n",
              "</div>\n",
              "      <button class=\"colab-df-convert\" onclick=\"convertToInteractive('df-b36f5675-3d71-4382-9e3d-11e85bae6535')\"\n",
              "              title=\"Convert this dataframe to an interactive table.\"\n",
              "              style=\"display:none;\">\n",
              "        \n",
              "  <svg xmlns=\"http://www.w3.org/2000/svg\" height=\"24px\"viewBox=\"0 0 24 24\"\n",
              "       width=\"24px\">\n",
              "    <path d=\"M0 0h24v24H0V0z\" fill=\"none\"/>\n",
              "    <path d=\"M18.56 5.44l.94 2.06.94-2.06 2.06-.94-2.06-.94-.94-2.06-.94 2.06-2.06.94zm-11 1L8.5 8.5l.94-2.06 2.06-.94-2.06-.94L8.5 2.5l-.94 2.06-2.06.94zm10 10l.94 2.06.94-2.06 2.06-.94-2.06-.94-.94-2.06-.94 2.06-2.06.94z\"/><path d=\"M17.41 7.96l-1.37-1.37c-.4-.4-.92-.59-1.43-.59-.52 0-1.04.2-1.43.59L10.3 9.45l-7.72 7.72c-.78.78-.78 2.05 0 2.83L4 21.41c.39.39.9.59 1.41.59.51 0 1.02-.2 1.41-.59l7.78-7.78 2.81-2.81c.8-.78.8-2.07 0-2.86zM5.41 20L4 18.59l7.72-7.72 1.47 1.35L5.41 20z\"/>\n",
              "  </svg>\n",
              "      </button>\n",
              "      \n",
              "  <style>\n",
              "    .colab-df-container {\n",
              "      display:flex;\n",
              "      flex-wrap:wrap;\n",
              "      gap: 12px;\n",
              "    }\n",
              "\n",
              "    .colab-df-convert {\n",
              "      background-color: #E8F0FE;\n",
              "      border: none;\n",
              "      border-radius: 50%;\n",
              "      cursor: pointer;\n",
              "      display: none;\n",
              "      fill: #1967D2;\n",
              "      height: 32px;\n",
              "      padding: 0 0 0 0;\n",
              "      width: 32px;\n",
              "    }\n",
              "\n",
              "    .colab-df-convert:hover {\n",
              "      background-color: #E2EBFA;\n",
              "      box-shadow: 0px 1px 2px rgba(60, 64, 67, 0.3), 0px 1px 3px 1px rgba(60, 64, 67, 0.15);\n",
              "      fill: #174EA6;\n",
              "    }\n",
              "\n",
              "    [theme=dark] .colab-df-convert {\n",
              "      background-color: #3B4455;\n",
              "      fill: #D2E3FC;\n",
              "    }\n",
              "\n",
              "    [theme=dark] .colab-df-convert:hover {\n",
              "      background-color: #434B5C;\n",
              "      box-shadow: 0px 1px 3px 1px rgba(0, 0, 0, 0.15);\n",
              "      filter: drop-shadow(0px 1px 2px rgba(0, 0, 0, 0.3));\n",
              "      fill: #FFFFFF;\n",
              "    }\n",
              "  </style>\n",
              "\n",
              "      <script>\n",
              "        const buttonEl =\n",
              "          document.querySelector('#df-b36f5675-3d71-4382-9e3d-11e85bae6535 button.colab-df-convert');\n",
              "        buttonEl.style.display =\n",
              "          google.colab.kernel.accessAllowed ? 'block' : 'none';\n",
              "\n",
              "        async function convertToInteractive(key) {\n",
              "          const element = document.querySelector('#df-b36f5675-3d71-4382-9e3d-11e85bae6535');\n",
              "          const dataTable =\n",
              "            await google.colab.kernel.invokeFunction('convertToInteractive',\n",
              "                                                     [key], {});\n",
              "          if (!dataTable) return;\n",
              "\n",
              "          const docLinkHtml = 'Like what you see? Visit the ' +\n",
              "            '<a target=\"_blank\" href=https://colab.research.google.com/notebooks/data_table.ipynb>data table notebook</a>'\n",
              "            + ' to learn more about interactive tables.';\n",
              "          element.innerHTML = '';\n",
              "          dataTable['output_type'] = 'display_data';\n",
              "          await google.colab.output.renderOutput(dataTable, element);\n",
              "          const docLink = document.createElement('div');\n",
              "          docLink.innerHTML = docLinkHtml;\n",
              "          element.appendChild(docLink);\n",
              "        }\n",
              "      </script>\n",
              "    </div>\n",
              "  </div>\n",
              "  "
            ]
          },
          "metadata": {},
          "execution_count": 39
        }
      ],
      "source": [
        "blog_data['clean_text']=blog_data['clean_text'].apply(lambda x: x.strip())\n",
        "blog_data.head()"
      ]
    },
    {
      "cell_type": "markdown",
      "metadata": {
        "id": "iHz0BgmJjDP8"
      },
      "source": [
        "# 3. Build a base Classification model\n",
        "\n",
        "A. Create dependent and independent variables"
      ]
    },
    {
      "cell_type": "code",
      "execution_count": 40,
      "metadata": {
        "colab": {
          "base_uri": "https://localhost:8080/",
          "height": 206
        },
        "id": "qjvJ8k6WjCjW",
        "outputId": "9e49686d-31c4-470a-8009-3fca67a02d2c"
      },
      "outputs": [
        {
          "output_type": "execute_result",
          "data": {
            "text/plain": [
              "                                          clean_text              topic\n",
              "0  info found pages mb pdf files wait untill team...            Student\n",
              "1  team members drewes van der laag urllink mail ...            Student\n",
              "2  het kader van kernfusie op aarde maak je eigen...            Student\n",
              "3                                    testing testing            Student\n",
              "4  thanks yahoo toolbar capture urls popups means...  InvestmentBanking"
            ],
            "text/html": [
              "\n",
              "  <div id=\"df-8740c673-fe9b-4d72-97cd-1242b8b3f488\">\n",
              "    <div class=\"colab-df-container\">\n",
              "      <div>\n",
              "<style scoped>\n",
              "    .dataframe tbody tr th:only-of-type {\n",
              "        vertical-align: middle;\n",
              "    }\n",
              "\n",
              "    .dataframe tbody tr th {\n",
              "        vertical-align: top;\n",
              "    }\n",
              "\n",
              "    .dataframe thead th {\n",
              "        text-align: right;\n",
              "    }\n",
              "</style>\n",
              "<table border=\"1\" class=\"dataframe\">\n",
              "  <thead>\n",
              "    <tr style=\"text-align: right;\">\n",
              "      <th></th>\n",
              "      <th>clean_text</th>\n",
              "      <th>topic</th>\n",
              "    </tr>\n",
              "  </thead>\n",
              "  <tbody>\n",
              "    <tr>\n",
              "      <th>0</th>\n",
              "      <td>info found pages mb pdf files wait untill team...</td>\n",
              "      <td>Student</td>\n",
              "    </tr>\n",
              "    <tr>\n",
              "      <th>1</th>\n",
              "      <td>team members drewes van der laag urllink mail ...</td>\n",
              "      <td>Student</td>\n",
              "    </tr>\n",
              "    <tr>\n",
              "      <th>2</th>\n",
              "      <td>het kader van kernfusie op aarde maak je eigen...</td>\n",
              "      <td>Student</td>\n",
              "    </tr>\n",
              "    <tr>\n",
              "      <th>3</th>\n",
              "      <td>testing testing</td>\n",
              "      <td>Student</td>\n",
              "    </tr>\n",
              "    <tr>\n",
              "      <th>4</th>\n",
              "      <td>thanks yahoo toolbar capture urls popups means...</td>\n",
              "      <td>InvestmentBanking</td>\n",
              "    </tr>\n",
              "  </tbody>\n",
              "</table>\n",
              "</div>\n",
              "      <button class=\"colab-df-convert\" onclick=\"convertToInteractive('df-8740c673-fe9b-4d72-97cd-1242b8b3f488')\"\n",
              "              title=\"Convert this dataframe to an interactive table.\"\n",
              "              style=\"display:none;\">\n",
              "        \n",
              "  <svg xmlns=\"http://www.w3.org/2000/svg\" height=\"24px\"viewBox=\"0 0 24 24\"\n",
              "       width=\"24px\">\n",
              "    <path d=\"M0 0h24v24H0V0z\" fill=\"none\"/>\n",
              "    <path d=\"M18.56 5.44l.94 2.06.94-2.06 2.06-.94-2.06-.94-.94-2.06-.94 2.06-2.06.94zm-11 1L8.5 8.5l.94-2.06 2.06-.94-2.06-.94L8.5 2.5l-.94 2.06-2.06.94zm10 10l.94 2.06.94-2.06 2.06-.94-2.06-.94-.94-2.06-.94 2.06-2.06.94z\"/><path d=\"M17.41 7.96l-1.37-1.37c-.4-.4-.92-.59-1.43-.59-.52 0-1.04.2-1.43.59L10.3 9.45l-7.72 7.72c-.78.78-.78 2.05 0 2.83L4 21.41c.39.39.9.59 1.41.59.51 0 1.02-.2 1.41-.59l7.78-7.78 2.81-2.81c.8-.78.8-2.07 0-2.86zM5.41 20L4 18.59l7.72-7.72 1.47 1.35L5.41 20z\"/>\n",
              "  </svg>\n",
              "      </button>\n",
              "      \n",
              "  <style>\n",
              "    .colab-df-container {\n",
              "      display:flex;\n",
              "      flex-wrap:wrap;\n",
              "      gap: 12px;\n",
              "    }\n",
              "\n",
              "    .colab-df-convert {\n",
              "      background-color: #E8F0FE;\n",
              "      border: none;\n",
              "      border-radius: 50%;\n",
              "      cursor: pointer;\n",
              "      display: none;\n",
              "      fill: #1967D2;\n",
              "      height: 32px;\n",
              "      padding: 0 0 0 0;\n",
              "      width: 32px;\n",
              "    }\n",
              "\n",
              "    .colab-df-convert:hover {\n",
              "      background-color: #E2EBFA;\n",
              "      box-shadow: 0px 1px 2px rgba(60, 64, 67, 0.3), 0px 1px 3px 1px rgba(60, 64, 67, 0.15);\n",
              "      fill: #174EA6;\n",
              "    }\n",
              "\n",
              "    [theme=dark] .colab-df-convert {\n",
              "      background-color: #3B4455;\n",
              "      fill: #D2E3FC;\n",
              "    }\n",
              "\n",
              "    [theme=dark] .colab-df-convert:hover {\n",
              "      background-color: #434B5C;\n",
              "      box-shadow: 0px 1px 3px 1px rgba(0, 0, 0, 0.15);\n",
              "      filter: drop-shadow(0px 1px 2px rgba(0, 0, 0, 0.3));\n",
              "      fill: #FFFFFF;\n",
              "    }\n",
              "  </style>\n",
              "\n",
              "      <script>\n",
              "        const buttonEl =\n",
              "          document.querySelector('#df-8740c673-fe9b-4d72-97cd-1242b8b3f488 button.colab-df-convert');\n",
              "        buttonEl.style.display =\n",
              "          google.colab.kernel.accessAllowed ? 'block' : 'none';\n",
              "\n",
              "        async function convertToInteractive(key) {\n",
              "          const element = document.querySelector('#df-8740c673-fe9b-4d72-97cd-1242b8b3f488');\n",
              "          const dataTable =\n",
              "            await google.colab.kernel.invokeFunction('convertToInteractive',\n",
              "                                                     [key], {});\n",
              "          if (!dataTable) return;\n",
              "\n",
              "          const docLinkHtml = 'Like what you see? Visit the ' +\n",
              "            '<a target=\"_blank\" href=https://colab.research.google.com/notebooks/data_table.ipynb>data table notebook</a>'\n",
              "            + ' to learn more about interactive tables.';\n",
              "          element.innerHTML = '';\n",
              "          dataTable['output_type'] = 'display_data';\n",
              "          await google.colab.output.renderOutput(dataTable, element);\n",
              "          const docLink = document.createElement('div');\n",
              "          docLink.innerHTML = docLinkHtml;\n",
              "          element.appendChild(docLink);\n",
              "        }\n",
              "      </script>\n",
              "    </div>\n",
              "  </div>\n",
              "  "
            ]
          },
          "metadata": {},
          "execution_count": 40
        }
      ],
      "source": [
        "data = blog_data[['clean_text','topic']]\n",
        "data.head()"
      ]
    },
    {
      "cell_type": "code",
      "execution_count": 41,
      "metadata": {
        "colab": {
          "base_uri": "https://localhost:8080/",
          "height": 206
        },
        "id": "Mn4pe7kKRMu9",
        "outputId": "4ee6194b-8de2-4ee9-f600-3a682111e08e"
      },
      "outputs": [
        {
          "output_type": "execute_result",
          "data": {
            "text/plain": [
              "                                          clean_text              topic  \\\n",
              "0  info found pages mb pdf files wait untill team...            Student   \n",
              "1  team members drewes van der laag urllink mail ...            Student   \n",
              "2  het kader van kernfusie op aarde maak je eigen...            Student   \n",
              "3                                    testing testing            Student   \n",
              "4  thanks yahoo toolbar capture urls popups means...  InvestmentBanking   \n",
              "\n",
              "   CategoryId  \n",
              "0           0  \n",
              "1           0  \n",
              "2           0  \n",
              "3           0  \n",
              "4           1  "
            ],
            "text/html": [
              "\n",
              "  <div id=\"df-c5b81f33-bd6f-4da1-bf96-5b7ae5d3707a\">\n",
              "    <div class=\"colab-df-container\">\n",
              "      <div>\n",
              "<style scoped>\n",
              "    .dataframe tbody tr th:only-of-type {\n",
              "        vertical-align: middle;\n",
              "    }\n",
              "\n",
              "    .dataframe tbody tr th {\n",
              "        vertical-align: top;\n",
              "    }\n",
              "\n",
              "    .dataframe thead th {\n",
              "        text-align: right;\n",
              "    }\n",
              "</style>\n",
              "<table border=\"1\" class=\"dataframe\">\n",
              "  <thead>\n",
              "    <tr style=\"text-align: right;\">\n",
              "      <th></th>\n",
              "      <th>clean_text</th>\n",
              "      <th>topic</th>\n",
              "      <th>CategoryId</th>\n",
              "    </tr>\n",
              "  </thead>\n",
              "  <tbody>\n",
              "    <tr>\n",
              "      <th>0</th>\n",
              "      <td>info found pages mb pdf files wait untill team...</td>\n",
              "      <td>Student</td>\n",
              "      <td>0</td>\n",
              "    </tr>\n",
              "    <tr>\n",
              "      <th>1</th>\n",
              "      <td>team members drewes van der laag urllink mail ...</td>\n",
              "      <td>Student</td>\n",
              "      <td>0</td>\n",
              "    </tr>\n",
              "    <tr>\n",
              "      <th>2</th>\n",
              "      <td>het kader van kernfusie op aarde maak je eigen...</td>\n",
              "      <td>Student</td>\n",
              "      <td>0</td>\n",
              "    </tr>\n",
              "    <tr>\n",
              "      <th>3</th>\n",
              "      <td>testing testing</td>\n",
              "      <td>Student</td>\n",
              "      <td>0</td>\n",
              "    </tr>\n",
              "    <tr>\n",
              "      <th>4</th>\n",
              "      <td>thanks yahoo toolbar capture urls popups means...</td>\n",
              "      <td>InvestmentBanking</td>\n",
              "      <td>1</td>\n",
              "    </tr>\n",
              "  </tbody>\n",
              "</table>\n",
              "</div>\n",
              "      <button class=\"colab-df-convert\" onclick=\"convertToInteractive('df-c5b81f33-bd6f-4da1-bf96-5b7ae5d3707a')\"\n",
              "              title=\"Convert this dataframe to an interactive table.\"\n",
              "              style=\"display:none;\">\n",
              "        \n",
              "  <svg xmlns=\"http://www.w3.org/2000/svg\" height=\"24px\"viewBox=\"0 0 24 24\"\n",
              "       width=\"24px\">\n",
              "    <path d=\"M0 0h24v24H0V0z\" fill=\"none\"/>\n",
              "    <path d=\"M18.56 5.44l.94 2.06.94-2.06 2.06-.94-2.06-.94-.94-2.06-.94 2.06-2.06.94zm-11 1L8.5 8.5l.94-2.06 2.06-.94-2.06-.94L8.5 2.5l-.94 2.06-2.06.94zm10 10l.94 2.06.94-2.06 2.06-.94-2.06-.94-.94-2.06-.94 2.06-2.06.94z\"/><path d=\"M17.41 7.96l-1.37-1.37c-.4-.4-.92-.59-1.43-.59-.52 0-1.04.2-1.43.59L10.3 9.45l-7.72 7.72c-.78.78-.78 2.05 0 2.83L4 21.41c.39.39.9.59 1.41.59.51 0 1.02-.2 1.41-.59l7.78-7.78 2.81-2.81c.8-.78.8-2.07 0-2.86zM5.41 20L4 18.59l7.72-7.72 1.47 1.35L5.41 20z\"/>\n",
              "  </svg>\n",
              "      </button>\n",
              "      \n",
              "  <style>\n",
              "    .colab-df-container {\n",
              "      display:flex;\n",
              "      flex-wrap:wrap;\n",
              "      gap: 12px;\n",
              "    }\n",
              "\n",
              "    .colab-df-convert {\n",
              "      background-color: #E8F0FE;\n",
              "      border: none;\n",
              "      border-radius: 50%;\n",
              "      cursor: pointer;\n",
              "      display: none;\n",
              "      fill: #1967D2;\n",
              "      height: 32px;\n",
              "      padding: 0 0 0 0;\n",
              "      width: 32px;\n",
              "    }\n",
              "\n",
              "    .colab-df-convert:hover {\n",
              "      background-color: #E2EBFA;\n",
              "      box-shadow: 0px 1px 2px rgba(60, 64, 67, 0.3), 0px 1px 3px 1px rgba(60, 64, 67, 0.15);\n",
              "      fill: #174EA6;\n",
              "    }\n",
              "\n",
              "    [theme=dark] .colab-df-convert {\n",
              "      background-color: #3B4455;\n",
              "      fill: #D2E3FC;\n",
              "    }\n",
              "\n",
              "    [theme=dark] .colab-df-convert:hover {\n",
              "      background-color: #434B5C;\n",
              "      box-shadow: 0px 1px 3px 1px rgba(0, 0, 0, 0.15);\n",
              "      filter: drop-shadow(0px 1px 2px rgba(0, 0, 0, 0.3));\n",
              "      fill: #FFFFFF;\n",
              "    }\n",
              "  </style>\n",
              "\n",
              "      <script>\n",
              "        const buttonEl =\n",
              "          document.querySelector('#df-c5b81f33-bd6f-4da1-bf96-5b7ae5d3707a button.colab-df-convert');\n",
              "        buttonEl.style.display =\n",
              "          google.colab.kernel.accessAllowed ? 'block' : 'none';\n",
              "\n",
              "        async function convertToInteractive(key) {\n",
              "          const element = document.querySelector('#df-c5b81f33-bd6f-4da1-bf96-5b7ae5d3707a');\n",
              "          const dataTable =\n",
              "            await google.colab.kernel.invokeFunction('convertToInteractive',\n",
              "                                                     [key], {});\n",
              "          if (!dataTable) return;\n",
              "\n",
              "          const docLinkHtml = 'Like what you see? Visit the ' +\n",
              "            '<a target=\"_blank\" href=https://colab.research.google.com/notebooks/data_table.ipynb>data table notebook</a>'\n",
              "            + ' to learn more about interactive tables.';\n",
              "          element.innerHTML = '';\n",
              "          dataTable['output_type'] = 'display_data';\n",
              "          await google.colab.output.renderOutput(dataTable, element);\n",
              "          const docLink = document.createElement('div');\n",
              "          docLink.innerHTML = docLinkHtml;\n",
              "          element.appendChild(docLink);\n",
              "        }\n",
              "      </script>\n",
              "    </div>\n",
              "  </div>\n",
              "  "
            ]
          },
          "metadata": {},
          "execution_count": 41
        }
      ],
      "source": [
        "data['CategoryId'] = data['topic'].factorize()[0]\n",
        "data.head()"
      ]
    },
    {
      "cell_type": "code",
      "execution_count": 42,
      "metadata": {
        "id": "qx28ScBQjl9y"
      },
      "outputs": [],
      "source": [
        "x = data['clean_text']\n",
        "y = data['CategoryId']"
      ]
    },
    {
      "cell_type": "code",
      "execution_count": 43,
      "metadata": {
        "colab": {
          "base_uri": "https://localhost:8080/"
        },
        "id": "obM6MnKb6cwZ",
        "outputId": "f879ab2c-c940-4736-c150-5fd0d37cade6"
      },
      "outputs": [
        {
          "output_type": "execute_result",
          "data": {
            "text/plain": [
              "array([[1, 0, 0, ..., 0, 0, 0],\n",
              "       [1, 0, 0, ..., 0, 0, 0],\n",
              "       [1, 0, 0, ..., 0, 0, 0],\n",
              "       ...,\n",
              "       [0, 0, 1, ..., 0, 0, 0],\n",
              "       [0, 0, 1, ..., 0, 0, 0],\n",
              "       [0, 0, 1, ..., 0, 0, 0]])"
            ]
          },
          "metadata": {},
          "execution_count": 43
        }
      ],
      "source": [
        "from sklearn import preprocessing\n",
        "lb = preprocessing.LabelBinarizer()\n",
        "lb.fit_transform(y)"
      ]
    },
    {
      "cell_type": "code",
      "execution_count": 44,
      "metadata": {
        "colab": {
          "base_uri": "https://localhost:8080/"
        },
        "id": "YTHDB6HRj4qV",
        "outputId": "826b83e8-3dba-4402-a68c-8525c06d21c6"
      },
      "outputs": [
        {
          "output_type": "execute_result",
          "data": {
            "text/plain": [
              "0    info found pages mb pdf files wait untill team...\n",
              "1    team members drewes van der laag urllink mail ...\n",
              "2    het kader van kernfusie op aarde maak je eigen...\n",
              "3                                      testing testing\n",
              "4    thanks yahoo toolbar capture urls popups means...\n",
              "Name: clean_text, dtype: object"
            ]
          },
          "metadata": {},
          "execution_count": 44
        }
      ],
      "source": [
        "x.head()"
      ]
    },
    {
      "cell_type": "markdown",
      "metadata": {
        "id": "PfMGao0AkBe6"
      },
      "source": [
        "B. Split data into train and test."
      ]
    },
    {
      "cell_type": "code",
      "execution_count": 45,
      "metadata": {
        "id": "ElnA5PTNkA-z"
      },
      "outputs": [],
      "source": [
        "from sklearn.model_selection import train_test_split\n",
        "\n",
        "X_train,X_test,y_train,y_test=train_test_split(x,y,test_size=0.2) #splitting into 80(train) and 20(test)"
      ]
    },
    {
      "cell_type": "markdown",
      "metadata": {
        "id": "zsSAQE_TkkVZ"
      },
      "source": [
        "C. Vectorize data using any one vectorizer"
      ]
    },
    {
      "cell_type": "code",
      "execution_count": 46,
      "metadata": {
        "id": "lzsrg0WnkiBM"
      },
      "outputs": [],
      "source": [
        "from sklearn.feature_extraction.text import CountVectorizer\n",
        "\n",
        "count_vect = CountVectorizer(analyzer='word', token_pattern=r'\\w{1,}', \n",
        "                      ngram_range=(1, 3), stop_words = 'english')\n",
        "\n",
        "corpus = list(X_train)+list(X_test)"
      ]
    },
    {
      "cell_type": "code",
      "execution_count": 47,
      "metadata": {
        "id": "hNirid3slTe0"
      },
      "outputs": [],
      "source": [
        "count_vect.fit(corpus)\n",
        "\n",
        "vectXtrain = count_vect.transform(X_train)\n",
        "vectXtest = count_vect.transform(X_test)"
      ]
    },
    {
      "cell_type": "code",
      "execution_count": 48,
      "metadata": {
        "colab": {
          "base_uri": "https://localhost:8080/"
        },
        "id": "LrLDpUPil99-",
        "outputId": "371e1d8f-4ea8-4e1f-97c2-9f2778f7ded9"
      },
      "outputs": [
        {
          "output_type": "execute_result",
          "data": {
            "text/plain": [
              "array(['aa', 'aa amazing', 'aa amazing things', 'aa anger',\n",
              "       'aa anger management', 'aa compared', 'aa compared tougher',\n",
              "       'aa keeps', 'aa keeps saying', 'aa nice'], dtype=object)"
            ]
          },
          "metadata": {},
          "execution_count": 48
        }
      ],
      "source": [
        "count_vect.get_feature_names_out()[:10]"
      ]
    },
    {
      "cell_type": "code",
      "execution_count": 49,
      "metadata": {
        "colab": {
          "base_uri": "https://localhost:8080/"
        },
        "id": "IgGH5aJso7us",
        "outputId": "44208322-a20a-4245-8520-ce465333ed92"
      },
      "outputs": [
        {
          "output_type": "execute_result",
          "data": {
            "text/plain": [
              "{'Student': 1137,\n",
              " 'InvestmentBanking': 70,\n",
              " 'indUnk': 3287,\n",
              " 'Non-Profit': 71,\n",
              " 'Banking': 16,\n",
              " 'Education': 270,\n",
              " 'Engineering': 127,\n",
              " 'Science': 63,\n",
              " 'Communications-Media': 99,\n",
              " 'BusinessServices': 91,\n",
              " 'Sports-Recreation': 80,\n",
              " 'Arts': 45,\n",
              " 'Internet': 118,\n",
              " 'Museums-Libraries': 17,\n",
              " 'Accounting': 4,\n",
              " 'Technology': 2654,\n",
              " 'Law': 11,\n",
              " 'Consulting': 21,\n",
              " 'Automotive': 14,\n",
              " 'Religion': 9,\n",
              " 'Fashion': 1622,\n",
              " 'Publishing': 4,\n",
              " 'Marketing': 156,\n",
              " 'LawEnforcement-Security': 10,\n",
              " 'HumanResources': 2,\n",
              " 'Telecommunications': 2}"
            ]
          },
          "metadata": {},
          "execution_count": 49
        }
      ],
      "source": [
        "label_counts = {}\n",
        "\n",
        "for label in data.topic:\n",
        "    if label in label_counts:\n",
        "        label_counts[label] += 1\n",
        "    else:\n",
        "        label_counts[label] = 1\n",
        "\n",
        "label_counts"
      ]
    },
    {
      "cell_type": "markdown",
      "metadata": {
        "id": "6BapRQfGxUFe"
      },
      "source": [
        "D. Build a base model for Supervised Learning - Classification."
      ]
    },
    {
      "cell_type": "code",
      "execution_count": 50,
      "metadata": {
        "id": "sdxsCSnyA6NF"
      },
      "outputs": [],
      "source": [
        "from sklearn.ensemble import RandomForestClassifier\n",
        "rfc=RandomForestClassifier()\n",
        "rfc.fit(vectXtrain, y_train)\n",
        "pred = rfc.predict(vectXtest)"
      ]
    },
    {
      "cell_type": "markdown",
      "metadata": {
        "id": "v2dTVExYVGsE"
      },
      "source": [
        "E. Clearly print Performance Metrics. "
      ]
    },
    {
      "cell_type": "code",
      "execution_count": 51,
      "metadata": {
        "colab": {
          "base_uri": "https://localhost:8080/"
        },
        "id": "KlFewFQUCktY",
        "outputId": "2a938e06-455b-47c6-a822-c91c90daa490"
      },
      "outputs": [
        {
          "output_type": "stream",
          "name": "stdout",
          "text": [
            "Accuracy score:  0.5015\n",
            "Precision score: 0.5015\n",
            "F1 score:  0.5015\n",
            "Recall score:  0.5015\n"
          ]
        }
      ],
      "source": [
        "from sklearn.metrics import accuracy_score\n",
        "from sklearn.metrics import precision_recall_fscore_support as score\n",
        "\n",
        "precision, recall, f1score, support = score(y_test, pred, average='micro')\n",
        "\n",
        "print('Accuracy score: ', accuracy_score(y_test, pred))\n",
        "print('Precision score:', precision)\n",
        "print('F1 score: ', f1score)\n",
        "print('Recall score: ',recall )"
      ]
    },
    {
      "cell_type": "markdown",
      "metadata": {
        "id": "I4H9M8swWZK2"
      },
      "source": [
        "# 4. Improve Performance of model.\n",
        "\n",
        "A. Experiment with other vectorisers. "
      ]
    },
    {
      "cell_type": "code",
      "execution_count": 52,
      "metadata": {
        "id": "4c_oYDHqWX7W"
      },
      "outputs": [],
      "source": [
        "from sklearn.feature_extraction.text import TfidfVectorizer\n",
        "\n",
        "tf_idf = TfidfVectorizer(min_df=3,  max_features=None, \n",
        "             strip_accents='unicode', analyzer='word',token_pattern=r'\\w{1,}',\n",
        "             ngram_range=(1, 3), use_idf=1,smooth_idf=1,sublinear_tf=1,\n",
        "             stop_words = 'english')\n",
        "\n",
        "\n",
        "\n",
        "tf_idf.fit(list(X_train) + list(X_test))\n",
        "Xtrain_tf =  tf_idf.transform(X_train) \n",
        "Xtest_tf = tf_idf.transform(X_test)"
      ]
    },
    {
      "cell_type": "markdown",
      "metadata": {
        "id": "j1w9GjVjXezl"
      },
      "source": [
        "B. Build classifier Models using other algorithms than base model"
      ]
    },
    {
      "cell_type": "code",
      "execution_count": 53,
      "metadata": {
        "id": "UimGFI3DXdY5"
      },
      "outputs": [],
      "source": [
        "from sklearn.linear_model import LogisticRegression\n",
        "\n",
        "lrmodel=LogisticRegression(solver='lbfgs')\n",
        "\n",
        "lrmodel.fit(Xtrain_tf, y_train)\n",
        "\n",
        "lr_pred = lrmodel.predict(Xtest_tf) "
      ]
    },
    {
      "cell_type": "code",
      "execution_count": 54,
      "metadata": {
        "colab": {
          "base_uri": "https://localhost:8080/"
        },
        "id": "d--wW8zdXYZp",
        "outputId": "876b1bfe-059d-427c-9187-278aebe063e3"
      },
      "outputs": [
        {
          "output_type": "stream",
          "name": "stdout",
          "text": [
            "Accuracy score:  0.627\n",
            "Precision score: 0.627\n",
            "F1 score:  0.627\n",
            "Recall score:  0.627\n"
          ]
        }
      ],
      "source": [
        "precision, recall, f1score, support = score(y_test, lr_pred, average='micro')\n",
        "print('Accuracy score: ', accuracy_score(y_test, lr_pred))\n",
        "print('Precision score:', precision)\n",
        "print('F1 score: ', f1score)\n",
        "print('Recall score: ',recall )"
      ]
    },
    {
      "cell_type": "markdown",
      "metadata": {
        "id": "XKVnU8QfZhCD"
      },
      "source": [
        "C. Tune Parameters/Hyperparameters of the model/s.\n"
      ]
    },
    {
      "cell_type": "code",
      "execution_count": 55,
      "metadata": {
        "colab": {
          "base_uri": "https://localhost:8080/"
        },
        "id": "P39BByalY5hW",
        "outputId": "131585fb-32d4-4711-fd53-ec656aa7c80e"
      },
      "outputs": [
        {
          "output_type": "stream",
          "name": "stdout",
          "text": [
            "Best: 0.659750 using {'solver': 'lbfgs', 'penalty': 'l2', 'C': 10}\n"
          ]
        }
      ],
      "source": [
        "from sklearn.model_selection import RandomizedSearchCV\n",
        "\n",
        "\n",
        "model = LogisticRegression()\n",
        "solvers = ['newton-cg', 'lbfgs', 'liblinear']\n",
        "penalty = ['l1','l2']\n",
        "c_values = [100, 10, 1.0, 0.1]\n",
        "# define grid search\n",
        "grid = dict(solver=solvers,penalty=penalty,C=c_values)\n",
        "random_search = RandomizedSearchCV(model, grid, scoring='accuracy')\n",
        "grid_result = random_search.fit(Xtrain_tf, y_train)\n",
        "print(\"Best: %f using %s\" % (grid_result.best_score_, grid_result.best_params_))"
      ]
    },
    {
      "cell_type": "code",
      "execution_count": 56,
      "metadata": {
        "id": "lV7hb1yI3RLz"
      },
      "outputs": [],
      "source": [
        "lrmodel2=LogisticRegression(solver='lbfgs', penalty = 'l2', C = 100)\n",
        "\n",
        "lrmodel2.fit(Xtrain_tf, y_train)\n",
        "\n",
        "lr_pred2 = lrmodel2.predict(Xtest_tf) "
      ]
    },
    {
      "cell_type": "markdown",
      "metadata": {
        "id": "SfCgrsfhtaYR"
      },
      "source": [
        "D. Clearly print Performance Metrics.\n",
        "Hint: Accuracy, Precision, Recall, ROC-AUC"
      ]
    },
    {
      "cell_type": "code",
      "execution_count": 57,
      "metadata": {
        "colab": {
          "base_uri": "https://localhost:8080/"
        },
        "id": "TMumfgwQ3hgR",
        "outputId": "0afbb981-687b-4f6d-eaeb-ef76b32cdf09"
      },
      "outputs": [
        {
          "output_type": "stream",
          "name": "stdout",
          "text": [
            "Accuracy score:  0.6885\n",
            "Precision score: 0.6885\n",
            "F1 score:  0.6885\n",
            "Recall score:  0.6885\n"
          ]
        }
      ],
      "source": [
        "precision, recall, f1score, support = score(y_test, lr_pred2, average='micro')\n",
        "print('Accuracy score: ', accuracy_score(y_test, lr_pred2))\n",
        "print('Precision score:', precision)\n",
        "print('F1 score: ', f1score)\n",
        "print('Recall score: ',recall )"
      ]
    },
    {
      "cell_type": "markdown",
      "metadata": {
        "id": "uamWxD9TABq3"
      },
      "source": [
        "# 5. Share insights on relative performance comparison.\n",
        "\n",
        "**A. Which vectorizer performed better? Probable reason?**\n",
        "\n",
        "Answer: TF-IDF vectorizer performed better as per model performances above on both, the accuracy improved from 50.15% to 62.7% and to 68.85% after hyperparametere tuning. Reason can be the fact the unlike count vectorizer, TF-IDF does not only focus on word count but also with the importance of words in the corpus. This way we can neglect/remove words with less importance which would reduce the input diamensions leading to a less complex model than we would get with countvectorizer\n",
        "\n",
        "**B. Which model outperformed? Probable reason?**\n",
        "\n",
        "Answer - Logistic regression model performed better because of the change in vectorizer probably since we used TF-IDF as vectorizer for in order to build this model instead of count vectorizer used for initial random forest model.\n",
        "\n",
        "**C. Which parameter/hyperparameter significantly helped to improve performance?Probable reason?**\n",
        "\n",
        "Answer: The model performance improved after we got following hyperparameters after hyperparameter tuning using grid search 'solver': 'lbfgs', 'penalty': 'l2', 'C': 100. The probable reason could be based on the C value since the solver was the same for the model before hyperparameter tuning and L2 is the default penalty for logistic regression models. The only new value was for hyperparameter C as 100 instead of 1.0.\n",
        "\n",
        "**D. According to you, which performance metric should be given most importance, why?.**\n",
        "\n",
        "Answer: I feel the metric importance should be based on the type of problem or data we are dealing with. For example accuracy generally should be used for classification problems or however in case of imbalances classes we should give importance to precision, recall, F1 score or AUC-ROC. While for regression problems i think it should MAE, MSE/RMSE etc"
      ]
    },
    {
      "cell_type": "markdown",
      "metadata": {
        "id": "v8WCiILWJVLT"
      },
      "source": [
        "*****************************************"
      ]
    },
    {
      "cell_type": "markdown",
      "metadata": {
        "id": "r6zxR2kgJYgW"
      },
      "source": [
        "# Part B"
      ]
    },
    {
      "cell_type": "markdown",
      "metadata": {
        "id": "9jOOzTnNJdeu"
      },
      "source": [
        "**• DOMAIN:** Customer support\n",
        "\n",
        "**• CONTEXT:** Great Learning has a an academic support department which receives numerous support requests every day throughout the year.\n",
        "Teams are spread across geographies and try to provide support round the year. Sometimes there are circumstances where due to heavy\n",
        "workload certain request resolutions are delayed, impacting company’s business. Some of the requests are very generic where a proper\n",
        "resolution procedure delivered to the user can solve the problem. Company is looking forward to design an automation which can interact with\n",
        "the user, understand the problem and display the resolution procedure [ if found as a generic request ] or redirect the request to an actual human\n",
        "support executive if the request is complex or not in it’s database.\n",
        "\n",
        "**• DATA DESCRIPTION: **A sample corpus is attached for your reference. Please enhance/add more data to the corpus using your linguistics skills.\n",
        "\n",
        "\n",
        "**• PROJECT OBJECTIVE:** Design a python based interactive semi - rule based chatbot which can do the following:\n",
        "1. Start chat session with greetings and ask what the user is looking for. \n",
        "2. Accept dynamic text based questions from the user. Reply back with relevant answer from the designed corpus.\n",
        "3. End the chat session only if the user requests to end else ask what the user is looking for. Loop continues till the user asks to end it."
      ]
    },
    {
      "cell_type": "code",
      "execution_count": 58,
      "metadata": {
        "colab": {
          "base_uri": "https://localhost:8080/"
        },
        "id": "1SuoxrOamZjC",
        "outputId": "857bc530-bb70-4347-e7b8-085713cdea3f"
      },
      "outputs": [
        {
          "output_type": "stream",
          "name": "stdout",
          "text": [
            "Drive already mounted at /content/drive; to attempt to forcibly remount, call drive.mount(\"/content/drive\", force_remount=True).\n",
            "{'intents': [{'tag': 'Intro', 'patterns': ['hi', 'how are you', 'is anyone there', 'hello', 'whats up', 'hey', 'yo', 'listen', 'please help me', 'i am learner from', 'i belong to', 'aiml batch', 'aifl batch', 'i am from', 'my pm is', 'blended', 'online', 'i am from', 'hey ya', 'talking to you for first time'], 'responses': ['Hello! how can i help you ?'], 'context_set': ''}, {'tag': 'Exit', 'patterns': ['thank you', 'thanks', 'cya', 'see you', 'later', 'see you later', 'goodbye', 'i am leaving', 'have a Good day', 'you helped me', 'thanks a lot', 'thanks a ton', 'you are the best', 'great help', 'too good', 'you are a good learning buddy'], 'responses': ['I hope I was able to assist you, Good Bye'], 'context_set': ''}, {'tag': 'Olympus', 'patterns': ['olympus', 'explain me how olympus works', 'I am not able to understand olympus', 'olympus window not working', 'no access to olympus', 'unable to see link in olympus', 'no link visible on olympus', 'whom to contact for olympus', 'lot of problem with olympus', 'olypus is not a good tool', 'lot of problems with olympus', 'how to use olympus', 'teach me olympus'], 'responses': ['Link: Olympus wiki'], 'context_set': ''}, {'tag': 'SL', 'patterns': ['i am not able to understand svm', 'explain me how machine learning works', 'i am not able to understand naive bayes', 'i am not able to understand logistic regression', 'i am not able to understand ensemble techb=niques', 'i am not able to understand knn', 'i am not able to understand knn imputer', 'i am not able to understand cross validation', 'i am not able to understand boosting', 'i am not able to understand random forest', 'i am not able to understand ada boosting', 'i am not able to understand gradient boosting', 'machine learning', 'ML', 'SL', 'supervised learning', 'knn', 'logistic regression', 'regression', 'classification', 'naive bayes', 'nb', 'ensemble techniques', 'bagging', 'boosting', 'ada boosting', 'ada', 'gradient boosting', 'hyper parameters'], 'responses': ['Link: Machine Learning wiki '], 'context_set': ''}, {'tag': 'NN', 'patterns': ['what is deep learning', 'unable to understand deep learning', 'explain me how deep learning works', 'i am not able to understand deep learning', 'not able to understand neural nets', 'very diffult to understand neural nets', 'unable to understand neural nets', 'ann', 'artificial intelligence', 'artificial neural networks', 'weights', 'activation function', 'hidden layers', 'softmax', 'sigmoid', 'relu', 'otimizer', 'forward propagation', 'backward propagation', 'epochs', 'epoch', 'what is an epoch', 'adam', 'sgd'], 'responses': ['Link: Neural Nets wiki'], 'context_set': ''}, {'tag': 'Bot', 'patterns': ['what is your name', 'who are you', 'name please', 'when are your hours of opertions', 'what are your working hours', 'hours of operation', 'working hours', 'hours'], 'responses': ['I am your virtual learning assistant'], 'context_set': ''}, {'tag': 'Profane', 'patterns': ['what the hell', 'bloody stupid bot', 'do you think you are very smart', 'screw you', 'i hate you', 'you are stupid', 'jerk', 'you are a joke', 'useless piece of shit'], 'responses': ['Please use respectful words'], 'context_set': ''}, {'tag': 'Ticket', 'patterns': ['my problem is not solved', 'you did not help me', 'not a good solution', 'bad solution', 'not good solution', 'no help', 'wasted my time', 'useless bot', 'create a ticket'], 'responses': ['Tarnsferring the request to your PM'], 'context_set': ''}]}\n"
          ]
        }
      ],
      "source": [
        "import json\n",
        "from google.colab import drive\n",
        "drive.mount(\"/content/drive\")\n",
        "f = open('/content/drive/My Drive/Colab Notebooks/GL Bot.json')\n",
        "data = json.load(f)\n",
        "\n",
        "\n",
        "#Display corpus\n",
        "print(data)"
      ]
    },
    {
      "cell_type": "code",
      "execution_count": 59,
      "metadata": {
        "colab": {
          "base_uri": "https://localhost:8080/"
        },
        "id": "ZJtbFR-gnYB_",
        "outputId": "be116c2d-4532-4e8a-f984-a049f8797735"
      },
      "outputs": [
        {
          "output_type": "stream",
          "name": "stdout",
          "text": [
            "\u001b[2K     \u001b[90m━━━━━━━━━━━━━━━━━━━━━━━━━━━━━━━━━━━━━━\u001b[0m \u001b[32m796.4/796.4 kB\u001b[0m \u001b[31m33.1 MB/s\u001b[0m eta \u001b[36m0:00:00\u001b[0m\n",
            "\u001b[2K     \u001b[90m━━━━━━━━━━━━━━━━━━━━━━━━━━━━━━━━━━━━━━━━\u001b[0m \u001b[32m1.6/1.6 MB\u001b[0m \u001b[31m66.2 MB/s\u001b[0m eta \u001b[36m0:00:00\u001b[0m\n",
            "\u001b[?25h\u001b[31mERROR: pip's dependency resolver does not currently take into account all the packages that are installed. This behaviour is the source of the following dependency conflicts.\n",
            "google-colab 1.0.0 requires ipython~=7.34.0, but you have ipython 8.12.0 which is incompatible.\u001b[0m\u001b[31m\n",
            "\u001b[2K     \u001b[90m━━━━━━━━━━━━━━━━━━━━━━━━━━━━━━━━━━━━━━\u001b[0m \u001b[32m150.0/150.0 kB\u001b[0m \u001b[31m11.5 MB/s\u001b[0m eta \u001b[36m0:00:00\u001b[0m\n",
            "\u001b[?25h\u001b[31mERROR: pip's dependency resolver does not currently take into account all the packages that are installed. This behaviour is the source of the following dependency conflicts.\n",
            "google-colab 1.0.0 requires ipykernel~=5.5.6, but you have ipykernel 6.22.0 which is incompatible.\n",
            "google-colab 1.0.0 requires ipython~=7.34.0, but you have ipython 8.12.0 which is incompatible.\u001b[0m\u001b[31m\n",
            "\u001b[0mLooking in indexes: https://pypi.org/simple, https://us-python.pkg.dev/colab-wheels/public/simple/\n",
            "Collecting scikit-multilearn\n",
            "  Downloading scikit_multilearn-0.2.0-py3-none-any.whl (89 kB)\n",
            "\u001b[2K     \u001b[90m━━━━━━━━━━━━━━━━━━━━━━━━━━━━━━━━━━━━━━━━\u001b[0m \u001b[32m89.4/89.4 kB\u001b[0m \u001b[31m9.1 MB/s\u001b[0m eta \u001b[36m0:00:00\u001b[0m\n",
            "\u001b[?25hInstalling collected packages: scikit-multilearn\n",
            "Successfully installed scikit-multilearn-0.2.0\n"
          ]
        }
      ],
      "source": [
        "\n",
        "!pip install -q --upgrade ipython\n",
        "!pip install -q --upgrade ipykernel\n",
        "     \n",
        "\n",
        "!pip install nltk --quiet\n",
        "     \n",
        "\n",
        "!pip install scikit-multilearn"
      ]
    },
    {
      "cell_type": "code",
      "execution_count": 60,
      "metadata": {
        "colab": {
          "base_uri": "https://localhost:8080/"
        },
        "id": "U_Q1kl-inRs0",
        "outputId": "544241b6-df7d-445a-8943-a75ff24b3b5f"
      },
      "outputs": [
        {
          "output_type": "stream",
          "name": "stderr",
          "text": [
            "[nltk_data] Downloading package stopwords to /root/nltk_data...\n",
            "[nltk_data]   Package stopwords is already up-to-date!\n",
            "[nltk_data] Downloading package punkt to /root/nltk_data...\n",
            "[nltk_data]   Unzipping tokenizers/punkt.zip.\n",
            "[nltk_data] Downloading package wordnet to /root/nltk_data...\n"
          ]
        }
      ],
      "source": [
        "\n",
        "#Importing all the necessary libraries\n",
        "import os\n",
        "import json \n",
        "import string\n",
        "import random\n",
        "import numpy as np\n",
        "import pandas as pd\n",
        "import seaborn as sns\n",
        "import matplotlib.pyplot as plt\n",
        "%matplotlib inline\n",
        "\n",
        "from sklearn.model_selection import train_test_split\n",
        "from sklearn.utils import shuffle\n",
        "from sklearn.multiclass import OneVsRestClassifier\n",
        "from sklearn.linear_model import LogisticRegression\n",
        "from sklearn.svm import LinearSVC\n",
        "from skmultilearn.problem_transform import ClassifierChain\n",
        "from sklearn.preprocessing import MultiLabelBinarizer\n",
        "from sklearn.metrics import accuracy_score,confusion_matrix,classification_report\n",
        "\n",
        "import re\n",
        "import nltk\n",
        "nltk.download('stopwords')  #downloading stopwords\n",
        "nltk.download(\"punkt\")  #downloading sentence tokenizer\n",
        "nltk.download(\"wordnet\") #downloading english dictionary corpus\n",
        "from nltk.corpus import stopwords\n",
        "from nltk.stem import WordNetLemmatizer \n",
        "from sklearn.feature_extraction.text import CountVectorizer\n",
        "from sklearn.model_selection import train_test_split\n",
        "from nltk.stem.snowball import SnowballStemmer\n",
        "\n",
        "import tensorflow as tf \n",
        "from tensorflow.keras import Sequential \n",
        "from tensorflow.keras.layers import Dense, Dropout\n",
        "\n",
        "import warnings\n",
        "warnings.filterwarnings('ignore')"
      ]
    },
    {
      "cell_type": "code",
      "execution_count": 61,
      "metadata": {
        "id": "KSFHt7Exm5Mx"
      },
      "outputs": [],
      "source": [
        "# initializing lemmatizer to get stem of words\n",
        "lemmatizer = WordNetLemmatizer()\n",
        "# Each list to create\n",
        "words = []\n",
        "classes = []\n",
        "doc_X = []\n",
        "doc_y = []\n",
        "# Loop through all the intents\n",
        "# tokenize each pattern and append tokens to words, the patterns and\n",
        "# the associated tag to their associated list\n",
        "for intent in data[\"intents\"]:\n",
        "    for pattern in intent[\"patterns\"]:\n",
        "        tokens = nltk.word_tokenize(pattern)\n",
        "        words.extend(tokens)\n",
        "        doc_X.append(pattern)\n",
        "        doc_y.append(intent[\"tag\"])\n",
        "    \n",
        "    # add the tag to the classes if it's not there already \n",
        "    if intent[\"tag\"] not in classes:\n",
        "        classes.append(intent[\"tag\"])\n",
        "# lemmatize all the words in the vocab and convert them to lowercase\n",
        "# if the words don't appear in punctuation\n",
        "words = [lemmatizer.lemmatize(word.lower()) for word in words if word not in string.punctuation]\n",
        "# sorting the vocab and classes in alphabetical order and taking the # set to ensure no duplicates occur\n",
        "words = sorted(set(words))\n",
        "classes = sorted(set(classes))"
      ]
    },
    {
      "cell_type": "code",
      "execution_count": 62,
      "metadata": {
        "colab": {
          "base_uri": "https://localhost:8080/"
        },
        "id": "kG1rFJqDm8Wd",
        "outputId": "fbcc2776-cf89-41a7-eca9-b193d8aee0ec"
      },
      "outputs": [
        {
          "output_type": "stream",
          "name": "stdout",
          "text": [
            "Words:\n",
            " ['a', 'able', 'access', 'activation', 'ada', 'adam', 'aifl', 'aiml', 'am', 'an', 'ann', 'anyone', 'are', 'artificial', 'backward', 'bad', 'bagging', 'batch', 'bayes', 'belong', 'best', 'blended', 'bloody', 'boosting', 'bot', 'buddy', 'classification', 'contact', 'create', 'cross', 'cya', 'day', 'deep', 'did', 'diffult', 'do', 'ensemble', 'epoch', 'explain', 'first', 'for', 'forest', 'forward', 'from', 'function', 'good', 'goodbye', 'gradient', 'great', 'hate', 'have', 'hell', 'hello', 'help', 'helped', 'hey', 'hi', 'hidden', 'hour', 'how', 'hyper', 'i', 'imputer', 'in', 'intelligence', 'is', 'jerk', 'joke', 'knn', 'later', 'layer', 'learner', 'learning', 'leaving', 'link', 'listen', 'logistic', 'lot', 'machine', 'me', 'ml', 'my', 'naive', 'name', 'nb', 'net', 'network', 'neural', 'no', 'not', 'of', 'olympus', 'olypus', 'on', 'online', 'operation', 'opertions', 'otimizer', 'parameter', 'piece', 'please', 'pm', 'problem', 'propagation', 'random', 'regression', 'relu', 'screw', 'see', 'sgd', 'shit', 'sigmoid', 'sl', 'smart', 'softmax', 'solution', 'solved', 'stupid', 'supervised', 'svm', 'talking', 'teach', 'techb=niques', 'technique', 'thank', 'thanks', 'the', 'there', 'think', 'ticket', 'time', 'to', 'ton', 'too', 'tool', 'unable', 'understand', 'up', 'use', 'useless', 'validation', 'very', 'visible', 'wasted', 'weight', 'what', 'whats', 'when', 'who', 'whom', 'window', 'with', 'work', 'working', 'ya', 'yo', 'you', 'your']\n"
          ]
        }
      ],
      "source": [
        "print(\"Words:\\n\", words)"
      ]
    },
    {
      "cell_type": "code",
      "execution_count": 63,
      "metadata": {
        "colab": {
          "base_uri": "https://localhost:8080/"
        },
        "id": "MFLjAh9AnCS_",
        "outputId": "3e2cc0c7-31bc-41f4-dc26-d80c1abaaf3f"
      },
      "outputs": [
        {
          "output_type": "stream",
          "name": "stdout",
          "text": [
            "Labels:\n",
            " ['Bot', 'Exit', 'Intro', 'NN', 'Olympus', 'Profane', 'SL', 'Ticket']\n"
          ]
        }
      ],
      "source": [
        "print(\"Labels:\\n\", classes)"
      ]
    },
    {
      "cell_type": "code",
      "execution_count": 64,
      "metadata": {
        "colab": {
          "base_uri": "https://localhost:8080/"
        },
        "id": "pyj1ubJ0nFVX",
        "outputId": "ea455240-23e7-483a-a2da-5af6a198cee7"
      },
      "outputs": [
        {
          "output_type": "stream",
          "name": "stdout",
          "text": [
            "['hi', 'how are you', 'is anyone there', 'hello', 'whats up', 'hey', 'yo', 'listen', 'please help me', 'i am learner from', 'i belong to', 'aiml batch', 'aifl batch', 'i am from', 'my pm is', 'blended', 'online', 'i am from', 'hey ya', 'talking to you for first time', 'thank you', 'thanks', 'cya', 'see you', 'later', 'see you later', 'goodbye', 'i am leaving', 'have a Good day', 'you helped me', 'thanks a lot', 'thanks a ton', 'you are the best', 'great help', 'too good', 'you are a good learning buddy', 'olympus', 'explain me how olympus works', 'I am not able to understand olympus', 'olympus window not working', 'no access to olympus', 'unable to see link in olympus', 'no link visible on olympus', 'whom to contact for olympus', 'lot of problem with olympus', 'olypus is not a good tool', 'lot of problems with olympus', 'how to use olympus', 'teach me olympus', 'i am not able to understand svm', 'explain me how machine learning works', 'i am not able to understand naive bayes', 'i am not able to understand logistic regression', 'i am not able to understand ensemble techb=niques', 'i am not able to understand knn', 'i am not able to understand knn imputer', 'i am not able to understand cross validation', 'i am not able to understand boosting', 'i am not able to understand random forest', 'i am not able to understand ada boosting', 'i am not able to understand gradient boosting', 'machine learning', 'ML', 'SL', 'supervised learning', 'knn', 'logistic regression', 'regression', 'classification', 'naive bayes', 'nb', 'ensemble techniques', 'bagging', 'boosting', 'ada boosting', 'ada', 'gradient boosting', 'hyper parameters', 'what is deep learning', 'unable to understand deep learning', 'explain me how deep learning works', 'i am not able to understand deep learning', 'not able to understand neural nets', 'very diffult to understand neural nets', 'unable to understand neural nets', 'ann', 'artificial intelligence', 'artificial neural networks', 'weights', 'activation function', 'hidden layers', 'softmax', 'sigmoid', 'relu', 'otimizer', 'forward propagation', 'backward propagation', 'epochs', 'epoch', 'what is an epoch', 'adam', 'sgd', 'what is your name', 'who are you', 'name please', 'when are your hours of opertions', 'what are your working hours', 'hours of operation', 'working hours', 'hours', 'what the hell', 'bloody stupid bot', 'do you think you are very smart', 'screw you', 'i hate you', 'you are stupid', 'jerk', 'you are a joke', 'useless piece of shit', 'my problem is not solved', 'you did not help me', 'not a good solution', 'bad solution', 'not good solution', 'no help', 'wasted my time', 'useless bot', 'create a ticket']\n"
          ]
        }
      ],
      "source": [
        "print(doc_X)"
      ]
    },
    {
      "cell_type": "code",
      "execution_count": 65,
      "metadata": {
        "colab": {
          "base_uri": "https://localhost:8080/"
        },
        "id": "GOt6HtsfndJo",
        "outputId": "32a333c0-f3ee-4695-9a8c-0cd02e179fd1"
      },
      "outputs": [
        {
          "output_type": "stream",
          "name": "stdout",
          "text": [
            "['Intro', 'Intro', 'Intro', 'Intro', 'Intro', 'Intro', 'Intro', 'Intro', 'Intro', 'Intro', 'Intro', 'Intro', 'Intro', 'Intro', 'Intro', 'Intro', 'Intro', 'Intro', 'Intro', 'Intro', 'Exit', 'Exit', 'Exit', 'Exit', 'Exit', 'Exit', 'Exit', 'Exit', 'Exit', 'Exit', 'Exit', 'Exit', 'Exit', 'Exit', 'Exit', 'Exit', 'Olympus', 'Olympus', 'Olympus', 'Olympus', 'Olympus', 'Olympus', 'Olympus', 'Olympus', 'Olympus', 'Olympus', 'Olympus', 'Olympus', 'Olympus', 'SL', 'SL', 'SL', 'SL', 'SL', 'SL', 'SL', 'SL', 'SL', 'SL', 'SL', 'SL', 'SL', 'SL', 'SL', 'SL', 'SL', 'SL', 'SL', 'SL', 'SL', 'SL', 'SL', 'SL', 'SL', 'SL', 'SL', 'SL', 'SL', 'NN', 'NN', 'NN', 'NN', 'NN', 'NN', 'NN', 'NN', 'NN', 'NN', 'NN', 'NN', 'NN', 'NN', 'NN', 'NN', 'NN', 'NN', 'NN', 'NN', 'NN', 'NN', 'NN', 'NN', 'Bot', 'Bot', 'Bot', 'Bot', 'Bot', 'Bot', 'Bot', 'Bot', 'Profane', 'Profane', 'Profane', 'Profane', 'Profane', 'Profane', 'Profane', 'Profane', 'Profane', 'Ticket', 'Ticket', 'Ticket', 'Ticket', 'Ticket', 'Ticket', 'Ticket', 'Ticket', 'Ticket']\n"
          ]
        }
      ],
      "source": [
        "print(doc_y)"
      ]
    },
    {
      "cell_type": "code",
      "execution_count": 66,
      "metadata": {
        "id": "Sg8hKbu1nkRe"
      },
      "outputs": [],
      "source": [
        "# list for training data\n",
        "training = []\n",
        "out_empty = [0] * len(classes)\n",
        "# creating the bag of words model\n",
        "for idx, doc in enumerate(doc_X):\n",
        "    bow = []\n",
        "    text = lemmatizer.lemmatize(doc.lower())\n",
        "    for word in words:\n",
        "        bow.append(1) if word in text else bow.append(0)\n",
        "    # mark the index of class that the current pattern is associated\n",
        "    # to\n",
        "    output_row = list(out_empty)\n",
        "    output_row[classes.index(doc_y[idx])] = 1\n",
        "    # add the one hot encoded BoW and associated classes to training \n",
        "    training.append([bow, output_row])\n",
        "# shuffle the data and convert it to an array\n",
        "random.shuffle(training)\n",
        "training = np.array(training, dtype=object)\n",
        "# split the features and target labels\n",
        "train_X = np.array(list(training[:, 0]))\n",
        "train_y = np.array(list(training[:, 1]))# list for training data\n",
        "training = []\n",
        "out_empty = [0] * len(classes)\n",
        "# creating the bag of words model\n",
        "for idx, doc in enumerate(doc_X):\n",
        "    bow = []\n",
        "    text = lemmatizer.lemmatize(doc.lower())\n",
        "    for word in words:\n",
        "        bow.append(1) if word in text else bow.append(0)\n",
        "    # mark the index of class that the current pattern is associated to\n",
        "    output_row = list(out_empty)\n",
        "    output_row[classes.index(doc_y[idx])] = 1\n",
        "    # add the one hot encoded BoW and associated classes to training \n",
        "    training.append([bow, output_row])\n",
        "# shuffle the data and convert it to an array\n",
        "random.shuffle(training)\n",
        "training = np.array(training, dtype=object)\n",
        "# split the features and target labels\n",
        "train_X = np.array(list(training[:, 0]))\n",
        "train_y = np.array(list(training[:, 1]))"
      ]
    },
    {
      "cell_type": "code",
      "execution_count": 67,
      "metadata": {
        "colab": {
          "base_uri": "https://localhost:8080/"
        },
        "id": "0T3J-wIEnnC1",
        "outputId": "d123993f-2d06-40c9-bbf5-106efad2ed43"
      },
      "outputs": [
        {
          "output_type": "stream",
          "name": "stdout",
          "text": [
            "Model: \"sequential\"\n",
            "_________________________________________________________________\n",
            " Layer (type)                Output Shape              Param #   \n",
            "=================================================================\n",
            " dense (Dense)               (None, 128)               20352     \n",
            "                                                                 \n",
            " dropout (Dropout)           (None, 128)               0         \n",
            "                                                                 \n",
            " dense_1 (Dense)             (None, 64)                8256      \n",
            "                                                                 \n",
            " dropout_1 (Dropout)         (None, 64)                0         \n",
            "                                                                 \n",
            " dense_2 (Dense)             (None, 8)                 520       \n",
            "                                                                 \n",
            "=================================================================\n",
            "Total params: 29,128\n",
            "Trainable params: 29,128\n",
            "Non-trainable params: 0\n",
            "_________________________________________________________________\n",
            "None\n",
            "Epoch 1/200\n",
            "4/4 [==============================] - 1s 8ms/step - loss: 2.0887 - accuracy: 0.1250\n",
            "Epoch 2/200\n",
            "4/4 [==============================] - 0s 5ms/step - loss: 1.8469 - accuracy: 0.2969\n",
            "Epoch 3/200\n",
            "4/4 [==============================] - 0s 4ms/step - loss: 1.6684 - accuracy: 0.3672\n",
            "Epoch 4/200\n",
            "4/4 [==============================] - 0s 4ms/step - loss: 1.4337 - accuracy: 0.5234\n",
            "Epoch 5/200\n",
            "4/4 [==============================] - 0s 12ms/step - loss: 1.2017 - accuracy: 0.6406\n",
            "Epoch 6/200\n",
            "4/4 [==============================] - 0s 6ms/step - loss: 0.8959 - accuracy: 0.7500\n",
            "Epoch 7/200\n",
            "4/4 [==============================] - 0s 9ms/step - loss: 0.7249 - accuracy: 0.7891\n",
            "Epoch 8/200\n",
            "4/4 [==============================] - 0s 8ms/step - loss: 0.5414 - accuracy: 0.8438\n",
            "Epoch 9/200\n",
            "4/4 [==============================] - 0s 9ms/step - loss: 0.3838 - accuracy: 0.8672\n",
            "Epoch 10/200\n",
            "4/4 [==============================] - 0s 16ms/step - loss: 0.2974 - accuracy: 0.8984\n",
            "Epoch 11/200\n",
            "4/4 [==============================] - 0s 11ms/step - loss: 0.2199 - accuracy: 0.9219\n",
            "Epoch 12/200\n",
            "4/4 [==============================] - 0s 13ms/step - loss: 0.1805 - accuracy: 0.9297\n",
            "Epoch 13/200\n",
            "4/4 [==============================] - 0s 10ms/step - loss: 0.1546 - accuracy: 0.9531\n",
            "Epoch 14/200\n",
            "4/4 [==============================] - 0s 11ms/step - loss: 0.1188 - accuracy: 0.9688\n",
            "Epoch 15/200\n",
            "4/4 [==============================] - 0s 9ms/step - loss: 0.0858 - accuracy: 0.9766\n",
            "Epoch 16/200\n",
            "4/4 [==============================] - 0s 10ms/step - loss: 0.0617 - accuracy: 0.9844\n",
            "Epoch 17/200\n",
            "4/4 [==============================] - 0s 10ms/step - loss: 0.0617 - accuracy: 0.9844\n",
            "Epoch 18/200\n",
            "4/4 [==============================] - 0s 7ms/step - loss: 0.0767 - accuracy: 0.9844\n",
            "Epoch 19/200\n",
            "4/4 [==============================] - 0s 5ms/step - loss: 0.0783 - accuracy: 0.9766\n",
            "Epoch 20/200\n",
            "4/4 [==============================] - 0s 7ms/step - loss: 0.0885 - accuracy: 0.9609\n",
            "Epoch 21/200\n",
            "4/4 [==============================] - 0s 11ms/step - loss: 0.0522 - accuracy: 0.9766\n",
            "Epoch 22/200\n",
            "4/4 [==============================] - 0s 6ms/step - loss: 0.0239 - accuracy: 1.0000\n",
            "Epoch 23/200\n",
            "4/4 [==============================] - 0s 5ms/step - loss: 0.0467 - accuracy: 0.9844\n",
            "Epoch 24/200\n",
            "4/4 [==============================] - 0s 5ms/step - loss: 0.0289 - accuracy: 0.9922\n",
            "Epoch 25/200\n",
            "4/4 [==============================] - 0s 5ms/step - loss: 0.0242 - accuracy: 1.0000\n",
            "Epoch 26/200\n",
            "4/4 [==============================] - 0s 6ms/step - loss: 0.0706 - accuracy: 0.9922\n",
            "Epoch 27/200\n",
            "4/4 [==============================] - 0s 5ms/step - loss: 0.0244 - accuracy: 0.9922\n",
            "Epoch 28/200\n",
            "4/4 [==============================] - 0s 5ms/step - loss: 0.0201 - accuracy: 1.0000\n",
            "Epoch 29/200\n",
            "4/4 [==============================] - 0s 5ms/step - loss: 0.0217 - accuracy: 0.9922\n",
            "Epoch 30/200\n",
            "4/4 [==============================] - 0s 6ms/step - loss: 0.0517 - accuracy: 0.9766\n",
            "Epoch 31/200\n",
            "4/4 [==============================] - 0s 6ms/step - loss: 0.0103 - accuracy: 1.0000\n",
            "Epoch 32/200\n",
            "4/4 [==============================] - 0s 6ms/step - loss: 0.0244 - accuracy: 0.9844\n",
            "Epoch 33/200\n",
            "4/4 [==============================] - 0s 7ms/step - loss: 0.0196 - accuracy: 0.9922\n",
            "Epoch 34/200\n",
            "4/4 [==============================] - 0s 7ms/step - loss: 0.0167 - accuracy: 1.0000\n",
            "Epoch 35/200\n",
            "4/4 [==============================] - 0s 6ms/step - loss: 0.0221 - accuracy: 1.0000\n",
            "Epoch 36/200\n",
            "4/4 [==============================] - 0s 6ms/step - loss: 0.0148 - accuracy: 1.0000\n",
            "Epoch 37/200\n",
            "4/4 [==============================] - 0s 5ms/step - loss: 0.0352 - accuracy: 0.9922\n",
            "Epoch 38/200\n",
            "4/4 [==============================] - 0s 5ms/step - loss: 0.0063 - accuracy: 1.0000\n",
            "Epoch 39/200\n",
            "4/4 [==============================] - 0s 6ms/step - loss: 0.0092 - accuracy: 1.0000\n",
            "Epoch 40/200\n",
            "4/4 [==============================] - 0s 6ms/step - loss: 0.0470 - accuracy: 0.9844\n",
            "Epoch 41/200\n",
            "4/4 [==============================] - 0s 5ms/step - loss: 0.0203 - accuracy: 1.0000\n",
            "Epoch 42/200\n",
            "4/4 [==============================] - 0s 5ms/step - loss: 0.0387 - accuracy: 0.9922\n",
            "Epoch 43/200\n",
            "4/4 [==============================] - 0s 7ms/step - loss: 0.0363 - accuracy: 0.9922\n",
            "Epoch 44/200\n",
            "4/4 [==============================] - 0s 5ms/step - loss: 0.0275 - accuracy: 0.9922\n",
            "Epoch 45/200\n",
            "4/4 [==============================] - 0s 10ms/step - loss: 0.0116 - accuracy: 1.0000\n",
            "Epoch 46/200\n",
            "4/4 [==============================] - 0s 6ms/step - loss: 0.0208 - accuracy: 0.9922\n",
            "Epoch 47/200\n",
            "4/4 [==============================] - 0s 5ms/step - loss: 0.0114 - accuracy: 1.0000\n",
            "Epoch 48/200\n",
            "4/4 [==============================] - 0s 5ms/step - loss: 0.0053 - accuracy: 1.0000\n",
            "Epoch 49/200\n",
            "4/4 [==============================] - 0s 5ms/step - loss: 0.0307 - accuracy: 0.9922\n",
            "Epoch 50/200\n",
            "4/4 [==============================] - 0s 6ms/step - loss: 0.0083 - accuracy: 1.0000\n",
            "Epoch 51/200\n",
            "4/4 [==============================] - 0s 6ms/step - loss: 0.0140 - accuracy: 1.0000\n",
            "Epoch 52/200\n",
            "4/4 [==============================] - 0s 6ms/step - loss: 0.0263 - accuracy: 0.9922\n",
            "Epoch 53/200\n",
            "4/4 [==============================] - 0s 7ms/step - loss: 0.0077 - accuracy: 1.0000\n",
            "Epoch 54/200\n",
            "4/4 [==============================] - 0s 9ms/step - loss: 0.0059 - accuracy: 1.0000\n",
            "Epoch 55/200\n",
            "4/4 [==============================] - 0s 7ms/step - loss: 0.0031 - accuracy: 1.0000\n",
            "Epoch 56/200\n",
            "4/4 [==============================] - 0s 9ms/step - loss: 0.0116 - accuracy: 0.9922\n",
            "Epoch 57/200\n",
            "4/4 [==============================] - 0s 6ms/step - loss: 0.0055 - accuracy: 1.0000\n",
            "Epoch 58/200\n",
            "4/4 [==============================] - 0s 6ms/step - loss: 0.0049 - accuracy: 1.0000\n",
            "Epoch 59/200\n",
            "4/4 [==============================] - 0s 6ms/step - loss: 0.0121 - accuracy: 1.0000\n",
            "Epoch 60/200\n",
            "4/4 [==============================] - 0s 6ms/step - loss: 0.0167 - accuracy: 0.9844\n",
            "Epoch 61/200\n",
            "4/4 [==============================] - 0s 6ms/step - loss: 0.0022 - accuracy: 1.0000\n",
            "Epoch 62/200\n",
            "4/4 [==============================] - 0s 6ms/step - loss: 0.0033 - accuracy: 1.0000\n",
            "Epoch 63/200\n",
            "4/4 [==============================] - 0s 6ms/step - loss: 0.0024 - accuracy: 1.0000\n",
            "Epoch 64/200\n",
            "4/4 [==============================] - 0s 5ms/step - loss: 0.0060 - accuracy: 1.0000\n",
            "Epoch 65/200\n",
            "4/4 [==============================] - 0s 8ms/step - loss: 0.0068 - accuracy: 1.0000\n",
            "Epoch 66/200\n",
            "4/4 [==============================] - 0s 5ms/step - loss: 0.0073 - accuracy: 1.0000\n",
            "Epoch 67/200\n",
            "4/4 [==============================] - 0s 7ms/step - loss: 0.0108 - accuracy: 1.0000\n",
            "Epoch 68/200\n",
            "4/4 [==============================] - 0s 6ms/step - loss: 0.0246 - accuracy: 0.9922\n",
            "Epoch 69/200\n",
            "4/4 [==============================] - 0s 7ms/step - loss: 0.0052 - accuracy: 1.0000\n",
            "Epoch 70/200\n",
            "4/4 [==============================] - 0s 7ms/step - loss: 0.0040 - accuracy: 1.0000\n",
            "Epoch 71/200\n",
            "4/4 [==============================] - 0s 8ms/step - loss: 0.0125 - accuracy: 0.9922\n",
            "Epoch 72/200\n",
            "4/4 [==============================] - 0s 6ms/step - loss: 0.0033 - accuracy: 1.0000\n",
            "Epoch 73/200\n",
            "4/4 [==============================] - 0s 6ms/step - loss: 0.0052 - accuracy: 1.0000\n",
            "Epoch 74/200\n",
            "4/4 [==============================] - 0s 6ms/step - loss: 0.0016 - accuracy: 1.0000\n",
            "Epoch 75/200\n",
            "4/4 [==============================] - 0s 6ms/step - loss: 0.0209 - accuracy: 0.9922\n",
            "Epoch 76/200\n",
            "4/4 [==============================] - 0s 7ms/step - loss: 0.0201 - accuracy: 0.9922\n",
            "Epoch 77/200\n",
            "4/4 [==============================] - 0s 6ms/step - loss: 0.0101 - accuracy: 0.9922\n",
            "Epoch 78/200\n",
            "4/4 [==============================] - 0s 6ms/step - loss: 0.0155 - accuracy: 1.0000\n",
            "Epoch 79/200\n",
            "4/4 [==============================] - 0s 6ms/step - loss: 0.0010 - accuracy: 1.0000\n",
            "Epoch 80/200\n",
            "4/4 [==============================] - 0s 5ms/step - loss: 0.0012 - accuracy: 1.0000\n",
            "Epoch 81/200\n",
            "4/4 [==============================] - 0s 5ms/step - loss: 0.0187 - accuracy: 0.9922\n",
            "Epoch 82/200\n",
            "4/4 [==============================] - 0s 5ms/step - loss: 0.0059 - accuracy: 1.0000\n",
            "Epoch 83/200\n",
            "4/4 [==============================] - 0s 5ms/step - loss: 0.0040 - accuracy: 1.0000\n",
            "Epoch 84/200\n",
            "4/4 [==============================] - 0s 5ms/step - loss: 0.0049 - accuracy: 1.0000\n",
            "Epoch 85/200\n",
            "4/4 [==============================] - 0s 5ms/step - loss: 0.0101 - accuracy: 1.0000\n",
            "Epoch 86/200\n",
            "4/4 [==============================] - 0s 5ms/step - loss: 0.0029 - accuracy: 1.0000\n",
            "Epoch 87/200\n",
            "4/4 [==============================] - 0s 5ms/step - loss: 0.0039 - accuracy: 1.0000\n",
            "Epoch 88/200\n",
            "4/4 [==============================] - 0s 6ms/step - loss: 0.0134 - accuracy: 1.0000\n",
            "Epoch 89/200\n",
            "4/4 [==============================] - 0s 5ms/step - loss: 0.0021 - accuracy: 1.0000\n",
            "Epoch 90/200\n",
            "4/4 [==============================] - 0s 5ms/step - loss: 0.0026 - accuracy: 1.0000\n",
            "Epoch 91/200\n",
            "4/4 [==============================] - 0s 5ms/step - loss: 0.0021 - accuracy: 1.0000\n",
            "Epoch 92/200\n",
            "4/4 [==============================] - 0s 5ms/step - loss: 0.0013 - accuracy: 1.0000\n",
            "Epoch 93/200\n",
            "4/4 [==============================] - 0s 6ms/step - loss: 0.0017 - accuracy: 1.0000\n",
            "Epoch 94/200\n",
            "4/4 [==============================] - 0s 6ms/step - loss: 9.3670e-04 - accuracy: 1.0000\n",
            "Epoch 95/200\n",
            "4/4 [==============================] - 0s 5ms/step - loss: 0.0063 - accuracy: 1.0000\n",
            "Epoch 96/200\n",
            "4/4 [==============================] - 0s 5ms/step - loss: 7.3266e-04 - accuracy: 1.0000\n",
            "Epoch 97/200\n",
            "4/4 [==============================] - 0s 5ms/step - loss: 0.0020 - accuracy: 1.0000\n",
            "Epoch 98/200\n",
            "4/4 [==============================] - 0s 6ms/step - loss: 0.0070 - accuracy: 0.9922\n",
            "Epoch 99/200\n",
            "4/4 [==============================] - 0s 5ms/step - loss: 4.7775e-04 - accuracy: 1.0000\n",
            "Epoch 100/200\n",
            "4/4 [==============================] - 0s 5ms/step - loss: 2.9026e-04 - accuracy: 1.0000\n",
            "Epoch 101/200\n",
            "4/4 [==============================] - 0s 5ms/step - loss: 0.0144 - accuracy: 0.9922\n",
            "Epoch 102/200\n",
            "4/4 [==============================] - 0s 5ms/step - loss: 0.0040 - accuracy: 1.0000\n",
            "Epoch 103/200\n",
            "4/4 [==============================] - 0s 5ms/step - loss: 0.0238 - accuracy: 0.9922\n",
            "Epoch 104/200\n",
            "4/4 [==============================] - 0s 5ms/step - loss: 0.0334 - accuracy: 0.9922\n",
            "Epoch 105/200\n",
            "4/4 [==============================] - 0s 5ms/step - loss: 4.6548e-04 - accuracy: 1.0000\n",
            "Epoch 106/200\n",
            "4/4 [==============================] - 0s 6ms/step - loss: 0.0047 - accuracy: 1.0000\n",
            "Epoch 107/200\n",
            "4/4 [==============================] - 0s 5ms/step - loss: 0.0032 - accuracy: 1.0000\n",
            "Epoch 108/200\n",
            "4/4 [==============================] - 0s 5ms/step - loss: 0.0019 - accuracy: 1.0000\n",
            "Epoch 109/200\n",
            "4/4 [==============================] - 0s 5ms/step - loss: 0.0300 - accuracy: 0.9922\n",
            "Epoch 110/200\n",
            "4/4 [==============================] - 0s 5ms/step - loss: 0.0025 - accuracy: 1.0000\n",
            "Epoch 111/200\n",
            "4/4 [==============================] - 0s 5ms/step - loss: 0.0037 - accuracy: 1.0000\n",
            "Epoch 112/200\n",
            "4/4 [==============================] - 0s 5ms/step - loss: 7.0110e-04 - accuracy: 1.0000\n",
            "Epoch 113/200\n",
            "4/4 [==============================] - 0s 5ms/step - loss: 0.0013 - accuracy: 1.0000\n",
            "Epoch 114/200\n",
            "4/4 [==============================] - 0s 5ms/step - loss: 0.0082 - accuracy: 0.9922\n",
            "Epoch 115/200\n",
            "4/4 [==============================] - 0s 6ms/step - loss: 0.0019 - accuracy: 1.0000\n",
            "Epoch 116/200\n",
            "4/4 [==============================] - 0s 5ms/step - loss: 0.0053 - accuracy: 1.0000\n",
            "Epoch 117/200\n",
            "4/4 [==============================] - 0s 5ms/step - loss: 0.0023 - accuracy: 1.0000\n",
            "Epoch 118/200\n",
            "4/4 [==============================] - 0s 6ms/step - loss: 0.0021 - accuracy: 1.0000\n",
            "Epoch 119/200\n",
            "4/4 [==============================] - 0s 5ms/step - loss: 0.0014 - accuracy: 1.0000\n",
            "Epoch 120/200\n",
            "4/4 [==============================] - 0s 5ms/step - loss: 8.1488e-04 - accuracy: 1.0000\n",
            "Epoch 121/200\n",
            "4/4 [==============================] - 0s 6ms/step - loss: 0.0268 - accuracy: 0.9922\n",
            "Epoch 122/200\n",
            "4/4 [==============================] - 0s 15ms/step - loss: 0.0015 - accuracy: 1.0000\n",
            "Epoch 123/200\n",
            "4/4 [==============================] - 0s 7ms/step - loss: 0.0044 - accuracy: 1.0000\n",
            "Epoch 124/200\n",
            "4/4 [==============================] - 0s 11ms/step - loss: 0.0487 - accuracy: 0.9922\n",
            "Epoch 125/200\n",
            "4/4 [==============================] - 0s 12ms/step - loss: 0.0837 - accuracy: 0.9922\n",
            "Epoch 126/200\n",
            "4/4 [==============================] - 0s 13ms/step - loss: 0.0019 - accuracy: 1.0000\n",
            "Epoch 127/200\n",
            "4/4 [==============================] - 0s 9ms/step - loss: 0.0011 - accuracy: 1.0000\n",
            "Epoch 128/200\n",
            "4/4 [==============================] - 0s 11ms/step - loss: 0.0191 - accuracy: 1.0000\n",
            "Epoch 129/200\n",
            "4/4 [==============================] - 0s 9ms/step - loss: 0.0219 - accuracy: 0.9922\n",
            "Epoch 130/200\n",
            "4/4 [==============================] - 0s 10ms/step - loss: 0.0246 - accuracy: 0.9844\n",
            "Epoch 131/200\n",
            "4/4 [==============================] - 0s 9ms/step - loss: 0.0209 - accuracy: 0.9922\n",
            "Epoch 132/200\n",
            "4/4 [==============================] - 0s 7ms/step - loss: 0.0221 - accuracy: 0.9922\n",
            "Epoch 133/200\n",
            "4/4 [==============================] - 0s 8ms/step - loss: 0.0533 - accuracy: 0.9922\n",
            "Epoch 134/200\n",
            "4/4 [==============================] - 0s 8ms/step - loss: 0.0028 - accuracy: 1.0000\n",
            "Epoch 135/200\n",
            "4/4 [==============================] - 0s 9ms/step - loss: 0.0126 - accuracy: 0.9922\n",
            "Epoch 136/200\n",
            "4/4 [==============================] - 0s 11ms/step - loss: 0.0664 - accuracy: 0.9844\n",
            "Epoch 137/200\n",
            "4/4 [==============================] - 0s 7ms/step - loss: 0.0237 - accuracy: 0.9922\n",
            "Epoch 138/200\n",
            "4/4 [==============================] - 0s 8ms/step - loss: 0.0582 - accuracy: 0.9922\n",
            "Epoch 139/200\n",
            "4/4 [==============================] - 0s 7ms/step - loss: 0.0023 - accuracy: 1.0000\n",
            "Epoch 140/200\n",
            "4/4 [==============================] - 0s 10ms/step - loss: 0.0182 - accuracy: 0.9922\n",
            "Epoch 141/200\n",
            "4/4 [==============================] - 0s 11ms/step - loss: 0.0107 - accuracy: 0.9922\n",
            "Epoch 142/200\n",
            "4/4 [==============================] - 0s 10ms/step - loss: 0.0033 - accuracy: 1.0000\n",
            "Epoch 143/200\n",
            "4/4 [==============================] - 0s 11ms/step - loss: 0.0193 - accuracy: 0.9922\n",
            "Epoch 144/200\n",
            "4/4 [==============================] - 0s 9ms/step - loss: 0.0028 - accuracy: 1.0000\n",
            "Epoch 145/200\n",
            "4/4 [==============================] - 0s 10ms/step - loss: 0.0869 - accuracy: 0.9766\n",
            "Epoch 146/200\n",
            "4/4 [==============================] - 0s 7ms/step - loss: 0.0149 - accuracy: 0.9922\n",
            "Epoch 147/200\n",
            "4/4 [==============================] - 0s 7ms/step - loss: 0.0018 - accuracy: 1.0000\n",
            "Epoch 148/200\n",
            "4/4 [==============================] - 0s 8ms/step - loss: 0.0138 - accuracy: 0.9922\n",
            "Epoch 149/200\n",
            "4/4 [==============================] - 0s 8ms/step - loss: 0.0398 - accuracy: 0.9922\n",
            "Epoch 150/200\n",
            "4/4 [==============================] - 0s 6ms/step - loss: 0.0015 - accuracy: 1.0000\n",
            "Epoch 151/200\n",
            "4/4 [==============================] - 0s 7ms/step - loss: 0.0011 - accuracy: 1.0000\n",
            "Epoch 152/200\n",
            "4/4 [==============================] - 0s 9ms/step - loss: 0.0783 - accuracy: 0.9688\n",
            "Epoch 153/200\n",
            "4/4 [==============================] - 0s 8ms/step - loss: 0.0287 - accuracy: 0.9844\n",
            "Epoch 154/200\n",
            "4/4 [==============================] - 0s 8ms/step - loss: 0.0103 - accuracy: 1.0000\n",
            "Epoch 155/200\n",
            "4/4 [==============================] - 0s 8ms/step - loss: 0.0254 - accuracy: 0.9922\n",
            "Epoch 156/200\n",
            "4/4 [==============================] - 0s 9ms/step - loss: 0.0681 - accuracy: 0.9766\n",
            "Epoch 157/200\n",
            "4/4 [==============================] - 0s 9ms/step - loss: 0.0344 - accuracy: 0.9922\n",
            "Epoch 158/200\n",
            "4/4 [==============================] - 0s 11ms/step - loss: 0.1253 - accuracy: 0.9922\n",
            "Epoch 159/200\n",
            "4/4 [==============================] - 0s 13ms/step - loss: 0.0705 - accuracy: 0.9844\n",
            "Epoch 160/200\n",
            "4/4 [==============================] - 0s 8ms/step - loss: 0.1031 - accuracy: 0.9922\n",
            "Epoch 161/200\n",
            "4/4 [==============================] - 0s 8ms/step - loss: 0.1032 - accuracy: 0.9609\n",
            "Epoch 162/200\n",
            "4/4 [==============================] - 0s 7ms/step - loss: 0.0233 - accuracy: 0.9922\n",
            "Epoch 163/200\n",
            "4/4 [==============================] - 0s 10ms/step - loss: 0.0241 - accuracy: 0.9844\n",
            "Epoch 164/200\n",
            "4/4 [==============================] - 0s 11ms/step - loss: 0.0044 - accuracy: 1.0000\n",
            "Epoch 165/200\n",
            "4/4 [==============================] - 0s 18ms/step - loss: 0.0808 - accuracy: 0.9844\n",
            "Epoch 166/200\n",
            "4/4 [==============================] - 0s 10ms/step - loss: 0.1566 - accuracy: 0.9531\n",
            "Epoch 167/200\n",
            "4/4 [==============================] - 0s 11ms/step - loss: 0.0563 - accuracy: 0.9844\n",
            "Epoch 168/200\n",
            "4/4 [==============================] - 0s 8ms/step - loss: 0.0470 - accuracy: 0.9766\n",
            "Epoch 169/200\n",
            "4/4 [==============================] - 0s 11ms/step - loss: 0.0067 - accuracy: 1.0000\n",
            "Epoch 170/200\n",
            "4/4 [==============================] - 0s 11ms/step - loss: 0.0334 - accuracy: 0.9844\n",
            "Epoch 171/200\n",
            "4/4 [==============================] - 0s 11ms/step - loss: 0.0248 - accuracy: 0.9922\n",
            "Epoch 172/200\n",
            "4/4 [==============================] - 0s 10ms/step - loss: 0.0363 - accuracy: 0.9844\n",
            "Epoch 173/200\n",
            "4/4 [==============================] - 0s 11ms/step - loss: 0.1350 - accuracy: 0.9531\n",
            "Epoch 174/200\n",
            "4/4 [==============================] - 0s 20ms/step - loss: 0.0185 - accuracy: 0.9922\n",
            "Epoch 175/200\n",
            "4/4 [==============================] - 0s 9ms/step - loss: 0.0051 - accuracy: 1.0000\n",
            "Epoch 176/200\n",
            "4/4 [==============================] - 0s 8ms/step - loss: 0.0701 - accuracy: 0.9766\n",
            "Epoch 177/200\n",
            "4/4 [==============================] - 0s 10ms/step - loss: 0.0098 - accuracy: 1.0000\n",
            "Epoch 178/200\n",
            "4/4 [==============================] - 0s 10ms/step - loss: 0.0016 - accuracy: 1.0000\n",
            "Epoch 179/200\n",
            "4/4 [==============================] - 0s 22ms/step - loss: 0.0236 - accuracy: 0.9922\n",
            "Epoch 180/200\n",
            "4/4 [==============================] - 0s 8ms/step - loss: 0.0102 - accuracy: 1.0000\n",
            "Epoch 181/200\n",
            "4/4 [==============================] - 0s 24ms/step - loss: 0.0268 - accuracy: 0.9922\n",
            "Epoch 182/200\n",
            "4/4 [==============================] - 0s 9ms/step - loss: 0.0357 - accuracy: 0.9922\n",
            "Epoch 183/200\n",
            "4/4 [==============================] - 0s 17ms/step - loss: 0.0039 - accuracy: 1.0000\n",
            "Epoch 184/200\n",
            "4/4 [==============================] - 0s 10ms/step - loss: 1.6892e-04 - accuracy: 1.0000\n",
            "Epoch 185/200\n",
            "4/4 [==============================] - 0s 8ms/step - loss: 0.0062 - accuracy: 1.0000\n",
            "Epoch 186/200\n",
            "4/4 [==============================] - 0s 9ms/step - loss: 0.0376 - accuracy: 0.9922\n",
            "Epoch 187/200\n",
            "4/4 [==============================] - 0s 8ms/step - loss: 0.1472 - accuracy: 0.9766\n",
            "Epoch 188/200\n",
            "4/4 [==============================] - 0s 9ms/step - loss: 0.1271 - accuracy: 0.9766\n",
            "Epoch 189/200\n",
            "4/4 [==============================] - 0s 7ms/step - loss: 0.0441 - accuracy: 0.9922\n",
            "Epoch 190/200\n",
            "4/4 [==============================] - 0s 7ms/step - loss: 0.0059 - accuracy: 0.9922\n",
            "Epoch 191/200\n",
            "4/4 [==============================] - 0s 9ms/step - loss: 0.0146 - accuracy: 0.9922\n",
            "Epoch 192/200\n",
            "4/4 [==============================] - 0s 10ms/step - loss: 0.0243 - accuracy: 0.9922\n",
            "Epoch 193/200\n",
            "4/4 [==============================] - 0s 14ms/step - loss: 0.0682 - accuracy: 0.9844\n",
            "Epoch 194/200\n",
            "4/4 [==============================] - 0s 13ms/step - loss: 0.1199 - accuracy: 0.9609\n",
            "Epoch 195/200\n",
            "4/4 [==============================] - 0s 7ms/step - loss: 0.0674 - accuracy: 0.9922\n",
            "Epoch 196/200\n",
            "4/4 [==============================] - 0s 19ms/step - loss: 0.0119 - accuracy: 0.9922\n",
            "Epoch 197/200\n",
            "4/4 [==============================] - 0s 9ms/step - loss: 0.0029 - accuracy: 1.0000\n",
            "Epoch 198/200\n",
            "4/4 [==============================] - 0s 12ms/step - loss: 0.0186 - accuracy: 0.9922\n",
            "Epoch 199/200\n",
            "4/4 [==============================] - 0s 12ms/step - loss: 0.1264 - accuracy: 0.9609\n",
            "Epoch 200/200\n",
            "4/4 [==============================] - 0s 15ms/step - loss: 0.2499 - accuracy: 0.9844\n"
          ]
        },
        {
          "output_type": "execute_result",
          "data": {
            "text/plain": [
              "<keras.callbacks.History at 0x7fa4baf98c10>"
            ]
          },
          "metadata": {},
          "execution_count": 67
        }
      ],
      "source": [
        "# defining some parameters\n",
        "input_shape = (len(train_X[0]),)\n",
        "output_shape = len(train_y[0])\n",
        "epochs = 200\n",
        "\n",
        "#Clear any existing model in memory\n",
        "tf.keras.backend.clear_session()\n",
        "\n",
        "# the deep learning model\n",
        "\n",
        "#Initialize model\n",
        "model = Sequential()\n",
        "\n",
        "# Input layer \n",
        "model.add(Dense(128, input_shape=input_shape, activation=\"relu\"))\n",
        "model.add(Dropout(0.5))\n",
        "model.add(Dense(64, activation=\"relu\"))\n",
        "model.add(Dropout(0.3))\n",
        "\n",
        "#Output layer\n",
        "model.add(Dense(output_shape, activation = \"softmax\"))\n",
        "\n",
        "#Defining optimizer\n",
        "adam = tf.keras.optimizers.legacy.Adam(learning_rate=0.01, decay=1e-6)\n",
        "#Configuring the model for training\n",
        "model.compile(loss='categorical_crossentropy',\n",
        "              optimizer=adam,\n",
        "              metrics=[\"accuracy\"])\n",
        "\n",
        "# Model summary\n",
        "print(model.summary())\n",
        "\n",
        "# Training the model\n",
        "model.fit(x=train_X, y=train_y, epochs=200, verbose=1)\n"
      ]
    },
    {
      "cell_type": "code",
      "execution_count": 68,
      "metadata": {
        "id": "t_n40bR8ntgt"
      },
      "outputs": [],
      "source": [
        "#Functions for Chatbot Sessions\n",
        "def clean_text(text): \n",
        "  tokens = nltk.word_tokenize(text)\n",
        "  tokens = [lemmatizer.lemmatize(word) for word in tokens]\n",
        "  return tokens\n",
        "\n",
        "def bag_of_words(text, vocab): \n",
        "  tokens = clean_text(text)\n",
        "  bow = [0] * len(vocab)\n",
        "  for w in tokens: \n",
        "    for idx, word in enumerate(vocab):\n",
        "      if word == w: \n",
        "        bow[idx] = 1\n",
        "  return np.array(bow)\n",
        "\n",
        "def pred_class(text, vocab, labels): \n",
        "  bow = bag_of_words(text, vocab)\n",
        "  result = model.predict(np.array([bow]))[0]\n",
        "  thresh = 0.2\n",
        "  y_pred = [[idx, res] for idx, res in enumerate(result) if res > thresh]\n",
        "\n",
        "  y_pred.sort(key=lambda x: x[1], reverse=True)\n",
        "  return_list = []\n",
        "  for r in y_pred:\n",
        "    return_list.append(labels[r[0]])\n",
        "  return return_list\n",
        "\n",
        "def get_response(intents_list, intents_json): \n",
        "  tag = intents_list[0]\n",
        "  list_of_intents = intents_json[\"intents\"]\n",
        "  for i in list_of_intents: \n",
        "    if i[\"tag\"] == tag:\n",
        "      result = random.choice(i[\"responses\"])\n",
        "      break\n",
        "  return result"
      ]
    },
    {
      "cell_type": "code",
      "execution_count": 69,
      "metadata": {
        "colab": {
          "base_uri": "https://localhost:8080/"
        },
        "id": "Kx0cXLwboCyU",
        "outputId": "460fd0e9-3667-46b5-c70c-6583653cf5cb"
      },
      "outputs": [
        {
          "name": "stdout",
          "output_type": "stream",
          "text": [
            "BOT : Chat with the bot[Type 'quit' to stop] !\n",
            "\n",
            "BOT : If answer is not  right[Type '*'] !\n",
            "\n",
            "\n",
            "You: hi\n",
            "1/1 [==============================] - 0s 106ms/step\n",
            "\n",
            "BOT :  Hello! how can i help you ?\n",
            "\n",
            "\n",
            "You: can you help me to access olympus\n",
            "1/1 [==============================] - 0s 23ms/step\n",
            "\n",
            "BOT :  Link: Olympus wiki\n",
            "\n",
            "\n",
            "You: what is neural network\n",
            "1/1 [==============================] - 0s 24ms/step\n",
            "\n",
            "BOT :  Link: Neural Nets wiki\n",
            "\n",
            "\n",
            "You: see you\n",
            "1/1 [==============================] - 0s 22ms/step\n",
            "\n",
            "BOT :  I hope I was able to assist you, Good Bye\n",
            "\n",
            "\n",
            "You: bye\n",
            "1/1 [==============================] - 0s 25ms/step\n",
            "\n",
            "BOT :  Hello! how can i help you ?\n",
            "\n",
            "\n",
            "You: quit\n"
          ]
        }
      ],
      "source": [
        "# Running the chatbot\n",
        "print(\"BOT : Chat with the bot[Type 'quit' to stop] !\")\n",
        "print(\"\\nBOT : If answer is not  right[Type '*'] !\")\n",
        "while True:\n",
        "  #Reading Input\n",
        "  message = input(\"\\n\\nYou: \")\n",
        "  #Correcting chat]\n",
        "  if message.lower() == \"*\":\n",
        "    print(\"\\nBOT:Please rephrase your question and try again\")\n",
        "  #Stopping Chat\n",
        "  if message.lower() == \"quit\":\n",
        "    break\n",
        "  #Predicting and printing response  \n",
        "  intents = pred_class(message, words, classes)\n",
        "  result = get_response(intents, data)\n",
        "  print(\"\\nBOT : \", result)"
      ]
    }
  ],
  "metadata": {
    "accelerator": "GPU",
    "colab": {
      "provenance": []
    },
    "gpuClass": "standard",
    "kernelspec": {
      "display_name": "Python 3 (ipykernel)",
      "language": "python",
      "name": "python3"
    },
    "language_info": {
      "codemirror_mode": {
        "name": "ipython",
        "version": 3
      },
      "file_extension": ".py",
      "mimetype": "text/x-python",
      "name": "python",
      "nbconvert_exporter": "python",
      "pygments_lexer": "ipython3",
      "version": "3.9.13"
    }
  },
  "nbformat": 4,
  "nbformat_minor": 0
}